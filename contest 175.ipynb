{
 "cells": [
  {
   "cell_type": "markdown",
   "metadata": {},
   "source": [
    "# Leetcode Contest 175"
   ]
  },
  {
   "cell_type": "markdown",
   "metadata": {},
   "source": [
    "## Problem 1: Check if N and its Double Exist\n",
    "https://leetcode.com/contest/weekly-contest-175/problems/check-if-n-and-its-double-exist/"
   ]
  },
  {
   "cell_type": "code",
   "execution_count": null,
   "metadata": {},
   "outputs": [],
   "source": [
    "'''\n",
    "Given an array arr of integers, check if there exists two integers N and M such that N is the double of M ( i.e. N = 2 * M).\n",
    "\n",
    "More formally check if there exists two indices i and j such that :\n",
    "\n",
    "i != j\n",
    "0 <= i, j < arr.length\n",
    "arr[i] == 2 * arr[j]\n",
    "\n",
    "e.g 1\n",
    "Input: arr = [10,2,5,3]\n",
    "Output: true\n",
    "Explanation: N = 10 is the double of M = 5,that is, 10 = 2 * 5.\n",
    "\n",
    "e.g 2\n",
    "Input: arr = [3,1,7,11]\n",
    "Output: false\n",
    "Explanation: In this case does not exist N and M, such that N = 2 * M.\n",
    "'''"
   ]
  },
  {
   "cell_type": "code",
   "execution_count": null,
   "metadata": {},
   "outputs": [],
   "source": [
    "'''\n",
    "Ideas： \n",
    "iterate the entire array and record the existed number by a Set; when iterating a new element \"num\" in the array, check\n",
    "that if there exists num*2 or num/2.\n",
    "\n",
    "Detail:\n",
    "when num is an odd, we cannot direcly use num / 2\n",
    "\n",
    "'''"
   ]
  },
  {
   "cell_type": "code",
   "execution_count": 6,
   "metadata": {},
   "outputs": [
    {
     "data": {
      "text/plain": [
       "False"
      ]
     },
     "execution_count": 6,
     "metadata": {},
     "output_type": "execute_result"
    }
   ],
   "source": [
    "def checkIfExist(arr):\n",
    "    dic = set()\n",
    "    for ele in arr:\n",
    "        dic.add(ele)\n",
    "        if ele % 2 == 0:\n",
    "            if ele * 2 or ele // 2 in dic:\n",
    "                return True\n",
    "        else:\n",
    "            if ele * 2in dic:\n",
    "                return True\n",
    "    return False\n",
    "\n",
    "        \n",
    "        "
   ]
  },
  {
   "cell_type": "code",
   "execution_count": 9,
   "metadata": {},
   "outputs": [
    {
     "name": "stdout",
     "output_type": "stream",
     "text": [
      "arr1 [3, 1, 7, 11] False\n",
      "arr2 [10, 2, 5, 3] True\n",
      "arr3 [10, 2, 5, 3] True\n"
     ]
    }
   ],
   "source": [
    "arr1 = [3,1,7,11]\n",
    "print(\"arr1\", arr1, checkIfExist(arr1))\n",
    "\n",
    "arr2 = [10,2,5,3]\n",
    "print(\"arr2\", arr2, checkIfExist(arr2))\n",
    "\n",
    "arr3 = [10,2,5,3]\n",
    "print(\"arr3\", arr3, checkIfExist(arr3))"
   ]
  },
  {
   "cell_type": "code",
   "execution_count": null,
   "metadata": {},
   "outputs": [],
   "source": []
  },
  {
   "cell_type": "markdown",
   "metadata": {},
   "source": [
    "## Problem 2: Minimum Number of Steps to Make Two Strings Anagram\n",
    "https://leetcode.com/contest/weekly-contest-175/problems/minimum-number-of-steps-to-make-two-strings-anagram/"
   ]
  },
  {
   "cell_type": "code",
   "execution_count": null,
   "metadata": {},
   "outputs": [],
   "source": [
    "'''\n",
    "Given two equal-size strings s and t. In one step you can choose any character of t and replace it with another character.\n",
    "Return the minimum number of steps to make t an anagram of s.\n",
    "An Anagram of a string is a string that contains the same characters with a different (or the same) ordering.\n",
    "\n",
    "e.g 1\n",
    "Input: s = \"bab\", t = \"aba\"\n",
    "Output: 1\n",
    "Explanation: Replace the first 'a' in t with b, t = \"bba\" which is anagram of s.\n",
    "\n",
    "e.g 2\n",
    "Input: s = \"leetcode\", t = \"practice\"\n",
    "Output: 5\n",
    "Explanation: Replace 'p', 'r', 'a', 'i' and 'c' from t with proper characters to make t anagram of s.\n",
    "\n",
    "e.g 3\n",
    "Input: s = \"anagram\", t = \"mangaar\"\n",
    "Output: 0\n",
    "Explanation: \"anagram\" and \"mangaar\" are anagrams. \n",
    "'''"
   ]
  },
  {
   "cell_type": "code",
   "execution_count": null,
   "metadata": {},
   "outputs": [],
   "source": [
    "'''\n",
    "idea:\n",
    "We first need to know the difference between two characters: we can use hashmap to count the key, val pairs for each string\n",
    "e.g. s = \"leetcode\", t = \"practice\"\n",
    "hash_s = {'l':1, 'e':3, 't':1, 'c':1, 'o':1, 'd':1}\n",
    "hash_t = {'p':1, 'r':1, 'a':1, 'c':2, 't':1, 'i':1, 'e':1}\n",
    "we can easily find that there are 5 different characters in s than in t: 'l', 'e' * 2, 'o', 'd'， we just need to change \n",
    "these characters in t to be the same as that in s. \n",
    "\n",
    "Attention: \n",
    "s 比 t 多五个字符， 则 t 比 s 也一定只多五个 （因为 s和 t长度相同！）\n",
    "'''"
   ]
  },
  {
   "cell_type": "code",
   "execution_count": 51,
   "metadata": {},
   "outputs": [],
   "source": [
    "def minSteps(s, t):\n",
    "    hash_s = {}\n",
    "    for char in s:\n",
    "        hash_s[char] = hash_s.get(char, 0) + 1\n",
    "    # find the diff between s and t\n",
    "    diff_num = 0\n",
    "    for ele in t:\n",
    "        if ele in hash_s:\n",
    "            hash_s[ele] -= 1\n",
    "            if hash_s[ele] == 0:\n",
    "                del hash_s[ele]\n",
    "    diff_num = 0\n",
    "    for ss in set(s):\n",
    "        if ss in hash_s:\n",
    "            diff_num += hash_s[ss]\n",
    "    return diff_num  "
   ]
  },
  {
   "cell_type": "code",
   "execution_count": 52,
   "metadata": {},
   "outputs": [
    {
     "name": "stdout",
     "output_type": "stream",
     "text": [
      "5\n",
      "0\n"
     ]
    }
   ],
   "source": [
    "s = \"leetcode\"\n",
    "t = \"practice\"\n",
    "print(minSteps(s, t))\n",
    "s = \"anagram\"\n",
    "t = \"mangaar\"\n",
    "print(minSteps(s, t))"
   ]
  },
  {
   "cell_type": "code",
   "execution_count": 55,
   "metadata": {},
   "outputs": [],
   "source": [
    "# short ans\n",
    "def minSteps2(s, t):\n",
    "    import collections\n",
    "    Diff = collections.Counter(s) - collections.Counter(t)\n",
    "    return sum(max(0, Diff[ele]) for ele in set(s) )"
   ]
  },
  {
   "cell_type": "code",
   "execution_count": 56,
   "metadata": {},
   "outputs": [
    {
     "name": "stdout",
     "output_type": "stream",
     "text": [
      "5\n",
      "0\n"
     ]
    }
   ],
   "source": [
    "s = \"leetcode\"\n",
    "t = \"practice\"\n",
    "print(minSteps2(s, t))\n",
    "s = \"anagram\"\n",
    "t = \"mangaar\"\n",
    "print(minSteps2(s, t))"
   ]
  },
  {
   "cell_type": "code",
   "execution_count": null,
   "metadata": {},
   "outputs": [],
   "source": []
  },
  {
   "cell_type": "markdown",
   "metadata": {},
   "source": [
    "## Problem 3: Tweet Counts Per Frequency\n",
    "https://leetcode.com/contest/weekly-contest-175/problems/tweet-counts-per-frequency/"
   ]
  },
  {
   "cell_type": "code",
   "execution_count": null,
   "metadata": {},
   "outputs": [],
   "source": [
    "'''\n",
    "Implement the class TweetCounts that supports two methods:\n",
    "\n",
    "1. recordTweet(string tweetName, int time)\n",
    "Stores the tweetName at the recorded time (in seconds).\n",
    "\n",
    "2. getTweetCountsPerFrequency(string freq, string tweetName, int startTime, int endTime)\n",
    "Returns the total number of occurrences for the given tweetName per minute, hour, or day (depending on freq) \n",
    "starting from the startTime (in seconds) and ending at the endTime (in seconds).\n",
    "\n",
    "freq is always minute, hour or day, representing the time interval to get the total number of occurrences\n",
    "for the given tweetName.\n",
    "The first time interval always starts from the startTime, so the time intervals are [startTime, startTime + delta*1>, \n",
    "[startTime + delta*1, startTime + delta*2>, [startTime + delta*2, startTime + delta*3>, ... , \n",
    "[startTime + delta*i, min(startTime + delta*(i+1), endTime + 1)> for some non-negative number i and delta\n",
    "(which depends on freq). \n",
    "\n",
    "'''"
   ]
  },
  {
   "cell_type": "code",
   "execution_count": null,
   "metadata": {},
   "outputs": [],
   "source": [
    "'''\n",
    "Input\n",
    "[\"TweetCounts\",\"recordTweet\",\"recordTweet\",\"recordTweet\",\"getTweetCountsPerFrequency\",\"getTweetCountsPerFrequency\",\"recordTweet\",\"getTweetCountsPerFrequency\"]\n",
    "[[],[\"tweet3\",0],[\"tweet3\",60],[\"tweet3\",10],[\"minute\",\"tweet3\",0,59],[\"minute\",\"tweet3\",0,60],[\"tweet3\",120],[\"hour\",\"tweet3\",0,210]]\n",
    "\n",
    "Output\n",
    "[null,null,null,null,[2],[2,1],null,[4]]\n",
    "\n",
    "Explanation\n",
    "TweetCounts tweetCounts = new TweetCounts();\n",
    "tweetCounts.recordTweet(\"tweet3\", 0);\n",
    "tweetCounts.recordTweet(\"tweet3\", 60);\n",
    "tweetCounts.recordTweet(\"tweet3\", 10);                             // All tweets correspond to \"tweet3\" with recorded times at 0, 10 and 60.\n",
    "tweetCounts.getTweetCountsPerFrequency(\"minute\", \"tweet3\", 0, 59); // return [2]. The frequency is per minute (60 seconds), so there is one interval of time: 1) [0, 60> - > 2 tweets.\n",
    "tweetCounts.getTweetCountsPerFrequency(\"minute\", \"tweet3\", 0, 60); // return [2, 1]. The frequency is per minute (60 seconds), so there are two intervals of time: 1) [0, 60> - > 2 tweets, and 2) [60,61> - > 1 tweet.\n",
    "tweetCounts.recordTweet(\"tweet3\", 120);                            // All tweets correspond to \"tweet3\" with recorded times at 0, 10, 60 and 120.\n",
    "tweetCounts.getTweetCountsPerFrequency(\"hour\", \"tweet3\", 0, 210);  // return [4]. The frequency is per hour (3600 seconds), so there is one interval of time: 1) [0, 211> - > 4 tweets.\n",
    "'''"
   ]
  },
  {
   "cell_type": "code",
   "execution_count": null,
   "metadata": {},
   "outputs": [],
   "source": [
    "'''\n",
    "idea:\n",
    "1. recordTweet: use a hashmap to record\n",
    "2. getTweetCountsPerFrequency: \n",
    "\n",
    "'''"
   ]
  },
  {
   "cell_type": "code",
   "execution_count": 119,
   "metadata": {},
   "outputs": [
    {
     "name": "stdout",
     "output_type": "stream",
     "text": [
      "start: 0 end: 270 number of intervals: 4\n"
     ]
    },
    {
     "data": {
      "text/plain": [
       "([0, 59], [60, 119], [120, 179], [180, 210])"
      ]
     },
     "execution_count": 119,
     "metadata": {},
     "output_type": "execute_result"
    }
   ],
   "source": [
    "# [startTime, startTime + delta*1>, \n",
    "# [startTime + delta*1, startTime + delta*2>, [startTime + delta*2, startTime + delta*3>, ... , \n",
    "# [startTime + delta*i, min(startTime + delta*(i+1), endTime + 1)> for some non-negative number i and delta\n",
    "# (which depends on freq). \n",
    "print(\"start:\", 0, \"end:\", 270, \"number of intervals:\", 210 // 60 + 1) \n",
    "[0, 59], [60, 119], [120, 179], [180, min(240, 210+1) - 1]"
   ]
  },
  {
   "cell_type": "code",
   "execution_count": 101,
   "metadata": {},
   "outputs": [],
   "source": [
    "class TweetCounts(object):\n",
    "\n",
    "    def __init__(self):\n",
    "        self.records = {}\n",
    "        \n",
    "\n",
    "    def recordTweet(self, tweetName, time):\n",
    "        \"\"\"\n",
    "        :type tweetName: str\n",
    "        :type time: int\n",
    "        :rtype: None\n",
    "        \"\"\"\n",
    "        if tweetName not in self.records:\n",
    "            self.records[tweetName] = []\n",
    "        self.records[tweetName].append(time)\n",
    "        \n",
    "\n",
    "    def getTweetCountsPerFrequency(self, freq, tweetName, startTime, endTime):\n",
    "        \"\"\"\n",
    "        :type freq: str\n",
    "        :type tweetName: str\n",
    "        :type startTime: int\n",
    "        :type endTime: int\n",
    "        :rtype: List[int]\n",
    "        \"\"\"\n",
    "        if tweetName not in self.records:\n",
    "            return\n",
    "        \n",
    "        arr_time = sorted(self.records[tweetName])\n",
    "        usit_size = None\n",
    "        if freq == 'minute':\n",
    "            unit_size = 60\n",
    "        if freq == 'hour':\n",
    "            unit_size = 60 * 60\n",
    "        if freq == 'day':\n",
    "            unit_size = 60 * 60 * 24\n",
    "        \n",
    "        num_interval = (endTime - startTime) // unit_size + 1 \n",
    "        # 0, 270, freq = hour -> 270 // 3600 + 1 = 1  -> [0, 270)\n",
    "        # 0, 60, freq = min -> 60 // 60 + 1 = 2 -> [0, 59), [60,61) \n",
    "        \n",
    "        # list for output\n",
    "        result = [ 0 for i in range(num_interval) ]\n",
    "        \n",
    "        # find the index of first timestamp in query range (note we have sorted the arr_time!!!!!)\n",
    "        begin_index = 0\n",
    "        for time in arr_time:\n",
    "            if time >= startTime:\n",
    "                begin_index = time\n",
    "                break\n",
    "                \n",
    "        # update statistics of tweet occurrences based on specified interval\n",
    "        for i in range(num_interval):\n",
    "            for j in range(len(arr_time)):\n",
    "                if startTime + i*unit_size <= arr_time[j] < min(startTime + (i+1)*unit_size, endTime+1) :\n",
    "                    result[i] += 1\n",
    "        \n",
    "        return result\n",
    "         \n",
    "        "
   ]
  },
  {
   "cell_type": "code",
   "execution_count": null,
   "metadata": {},
   "outputs": [],
   "source": [
    "[\"TweetCounts\",\"recordTweet\",\"recordTweet\",\"recordTweet\",\"getTweetCountsPerFrequency\",\"getTweetCountsPerFrequency\",\"recordTweet\",\"getTweetCountsPerFrequency\"]\n",
    "[[],[\"tweet3\",0],[\"tweet3\",60],[\"tweet3\",10],[\"minute\",\"tweet3\",0,59],[\"minute\",\"tweet3\",0,60],[\"tweet3\",120],[\"hour\",\"tweet3\",0,210]]"
   ]
  },
  {
   "cell_type": "code",
   "execution_count": null,
   "metadata": {},
   "outputs": [],
   "source": []
  },
  {
   "cell_type": "code",
   "execution_count": 110,
   "metadata": {},
   "outputs": [
    {
     "name": "stdout",
     "output_type": "stream",
     "text": [
      "[2]\n",
      "[2, 1]\n",
      "[4]\n",
      "[2, 1, 1, 0]\n"
     ]
    }
   ],
   "source": [
    "sol = TweetCounts()\n",
    "sol.recordTweet(\"tweet3\", 0)\n",
    "sol.recordTweet(\"tweet3\", 60)\n",
    "sol.recordTweet(\"tweet3\", 10)\n",
    "print(sol.getTweetCountsPerFrequency(\"minute\", \"tweet3\", 0, 59))\n",
    "print(sol.getTweetCountsPerFrequency(\"minute\", \"tweet3\", 0, 60))\n",
    "sol.recordTweet(\"tweet3\", 120)\n",
    "print(sol.getTweetCountsPerFrequency(\"hour\", \"tweet3\", 0, 210))\n",
    "print(sol.getTweetCountsPerFrequency(\"minute\", \"tweet3\", 0, 210))"
   ]
  },
  {
   "cell_type": "code",
   "execution_count": null,
   "metadata": {},
   "outputs": [],
   "source": []
  },
  {
   "cell_type": "code",
   "execution_count": null,
   "metadata": {},
   "outputs": [],
   "source": []
  },
  {
   "cell_type": "markdown",
   "metadata": {},
   "source": [
    "## Problem 4: Maximum Students Taking Exam\n",
    "https://leetcode.com/contest/weekly-contest-175/problems/maximum-students-taking-exam/"
   ]
  },
  {
   "cell_type": "code",
   "execution_count": null,
   "metadata": {},
   "outputs": [],
   "source": [
    "'''\n",
    "Given a m * n matrix seats  that represent seats distributions in a classroom. If a seat is broken, \n",
    "it is denoted by '#' character otherwise it is denoted by a '.' character.\n",
    "\n",
    "Students can see the answers of those sitting next to the left, right, upper left and upper right, \n",
    "but he cannot see the answers of the student sitting directly in front or behind him. \n",
    "Return the maximum number of students that can take the exam together without any cheating being possible..\n",
    "\n",
    "Students must be placed in seats in good condition.\n",
    "\n",
    "Input: seats = [[\"#\",\".\",\"#\",\"#\",\".\",\"#\"],\n",
    "                [\".\",\"#\",\"#\",\"#\",\"#\",\".\"],\n",
    "                [\"#\",\".\",\"#\",\"#\",\".\",\"#\"]]\n",
    "Output: 4\n",
    "\n",
    "Input: seats = [[\".\",\"#\"],\n",
    "                [\"#\",\"#\"],\n",
    "                [\"#\",\".\"],\n",
    "                [\"#\",\"#\"],\n",
    "                [\".\",\"#\"]]\n",
    "Output: 3\n",
    "\n",
    "Input: seats = [[\"#\",\".\",\".\",\".\",\"#\"],\n",
    "                [\".\",\"#\",\".\",\"#\",\".\"],\n",
    "                [\".\",\".\",\"#\",\".\",\".\"],\n",
    "                [\".\",\"#\",\".\",\"#\",\".\"],\n",
    "                [\"#\",\".\",\".\",\".\",\"#\"]]\n",
    "Output: 10\n",
    "\n",
    "'''"
   ]
  },
  {
   "cell_type": "code",
   "execution_count": null,
   "metadata": {},
   "outputs": [],
   "source": []
  },
  {
   "cell_type": "code",
   "execution_count": null,
   "metadata": {},
   "outputs": [],
   "source": []
  },
  {
   "cell_type": "code",
   "execution_count": null,
   "metadata": {},
   "outputs": [],
   "source": []
  },
  {
   "cell_type": "code",
   "execution_count": null,
   "metadata": {},
   "outputs": [],
   "source": []
  },
  {
   "cell_type": "code",
   "execution_count": null,
   "metadata": {},
   "outputs": [],
   "source": []
  }
 ],
 "metadata": {
  "kernelspec": {
   "display_name": "Python 3",
   "language": "python",
   "name": "python3"
  },
  "language_info": {
   "codemirror_mode": {
    "name": "ipython",
    "version": 3
   },
   "file_extension": ".py",
   "mimetype": "text/x-python",
   "name": "python",
   "nbconvert_exporter": "python",
   "pygments_lexer": "ipython3",
   "version": "3.6.5"
  }
 },
 "nbformat": 4,
 "nbformat_minor": 2
}
