{
 "cells": [
  {
   "cell_type": "markdown",
   "metadata": {},
   "source": [
    "## Question 1"
   ]
  },
  {
   "cell_type": "code",
   "execution_count": null,
   "metadata": {},
   "outputs": [],
   "source": [
    "# zigzag array: the elements are in the order:\n",
    "# [1st_largest, 1st_smallest, 2nd_largest, 2nd_smallest, ..., ]"
   ]
  },
  {
   "cell_type": "code",
   "execution_count": 3,
   "metadata": {},
   "outputs": [],
   "source": [
    "def zigzag(arr):\n",
    "    arr_sorted = sorted(arr, reverse=True)\n",
    "    res = []\n",
    "    i, j = 0, len(arr)-1\n",
    "    while i <= j:\n",
    "        res.append(arr_sorted[i])\n",
    "        i += 1\n",
    "        if  i - 1 == j:\n",
    "            break\n",
    "        res.append(arr_sorted[j])\n",
    "        j -= 1\n",
    "    return res"
   ]
  },
  {
   "cell_type": "code",
   "execution_count": 4,
   "metadata": {},
   "outputs": [
    {
     "data": {
      "text/plain": [
       "[3, -5, 2, -1, 1]"
      ]
     },
     "execution_count": 4,
     "metadata": {},
     "output_type": "execute_result"
    }
   ],
   "source": [
    "arr = [-1, 1, 2, 3, -5]\n",
    "zigzag(arr)"
   ]
  },
  {
   "cell_type": "code",
   "execution_count": 5,
   "metadata": {},
   "outputs": [
    {
     "data": {
      "text/plain": [
       "[3, -1, 2, 1]"
      ]
     },
     "execution_count": 5,
     "metadata": {},
     "output_type": "execute_result"
    }
   ],
   "source": [
    "arr = [-1, 1, 2, 3]\n",
    "zigzag(arr)"
   ]
  },
  {
   "cell_type": "markdown",
   "metadata": {},
   "source": [
    "## Question 2"
   ]
  },
  {
   "cell_type": "code",
   "execution_count": null,
   "metadata": {},
   "outputs": [],
   "source": [
    "# Price Check。给货品名称和价格的两个array，给卖出商品名称和价格的两个array，要求统计卖出商品有多少是价格不对的。\n",
    "# 用一个Map记录正确的商品名称和价格，在比较就行。需要注意的一点是价格给的是浮点数float，不能用“==”比较。\n",
    "# 我是转成了double比较的。除了这个hint其他都非常简单。"
   ]
  },
  {
   "cell_type": "code",
   "execution_count": 1,
   "metadata": {},
   "outputs": [],
   "source": [
    "products = [\"crackers\", \"pretzels\", \"apples\"]\n",
    "productPrices = [3.99, 3.29, 6.68]\n",
    "productSold = [\"crackers\", \"crackers\", \"apples\", \"pretzels\" ]\n",
    "soldPrice = [3.99, 3.98, 6.86, 3.29]\n",
    "# the second sale of crackers has a wrong price. The sale of aples is also incorrect. \n",
    "# in total, there are 2 errors in pricing."
   ]
  },
  {
   "cell_type": "code",
   "execution_count": 9,
   "metadata": {},
   "outputs": [],
   "source": [
    "def checkPriceErrors(products, productPrices, productSold, soldPrice ):\n",
    "    map = {}\n",
    "    for product, price in zip(products, productPrices):\n",
    "        map[product] = price\n",
    "    count = 0\n",
    "    for product, price in zip(productSold, soldPrice):\n",
    "        if float(map[product]) != float(price):\n",
    "            count += 1\n",
    "    return count\n",
    "    "
   ]
  },
  {
   "cell_type": "code",
   "execution_count": 10,
   "metadata": {},
   "outputs": [
    {
     "data": {
      "text/plain": [
       "2"
      ]
     },
     "execution_count": 10,
     "metadata": {},
     "output_type": "execute_result"
    }
   ],
   "source": [
    "checkPriceErrors(products, productPrices, productSold, soldPrice )"
   ]
  },
  {
   "cell_type": "markdown",
   "metadata": {},
   "source": [
    "## Question 3"
   ]
  },
  {
   "cell_type": "code",
   "execution_count": null,
   "metadata": {},
   "outputs": [],
   "source": [
    "# Process Scheduling\n",
    "# a multiprocessor system has a certain number of processors. Each processor has\n",
    "# the capacity to schedule a limited number of\n",
    "# processes in one second. However, after this scheduleing, \n",
    "# the processor's capacity is reduced to floor(capacity/2).\n",
    "# Given the processor's capacities in the integer array and\n",
    "# the number of processoes as a long integer, what is the minimum time\n",
    "# required to schedule all the processes in the system?\n",
    "\n",
    "# e.g, \n",
    "# n = 5 (the number of processors and the size of capacities[])\n",
    "# capacities = [7, 4, 3, 2, 1]\n",
    "# processes = 15\n",
    "\n",
    "# the optimal solution is\n",
    "# 1. the processor with capacity=7 schedules 7 processes in one second. Now, capacities=[3,4,3,2,1] because 7 was reduced to \n",
    "#     floor(7/2)=3. There are 15-7 = 8 remaining proceses.\n",
    "# 2. the processor with capacity=4 is used. after that, capacities=[3,2,3,2,1]. There are 8-4=4 remaining processes\n",
    "# 3. a processor with capacity=3 is used, after that, capacities=[1,2,3,2,1]. there are 4-3=1 remaining processes\n",
    "# 4. finally, a processor with capacity=1 is used\n",
    "# In total, the minimum time=4."
   ]
  },
  {
   "cell_type": "code",
   "execution_count": null,
   "metadata": {},
   "outputs": [],
   "source": [
    "# Process Scheduling\n",
    "# 这题解释起来有点麻烦，具体看图吧。\n",
    "# 做法就是用PriorityQueue的maxheap，把元素全放进去，每次取出最大的，计数一次，计算还需要多少量，把最大数除2再放回maxheap，直到量足够\n",
    "# 。这题没有任何需要注意的问题，直接写就行。"
   ]
  },
  {
   "cell_type": "code",
   "execution_count": 225,
   "metadata": {},
   "outputs": [],
   "source": [
    "capacities = [7, 4, 3, 2, 1]\n",
    "processes = 15"
   ]
  },
  {
   "cell_type": "code",
   "execution_count": 226,
   "metadata": {},
   "outputs": [
    {
     "name": "stdout",
     "output_type": "stream",
     "text": [
      "0 7\n",
      "1 4\n",
      "2 3\n",
      "3 2\n",
      "4 1\n"
     ]
    }
   ],
   "source": [
    "for ind, ele in enumerate(capacities):\n",
    "    print(ele, ind)"
   ]
  },
  {
   "cell_type": "code",
   "execution_count": null,
   "metadata": {},
   "outputs": [],
   "source": []
  },
  {
   "cell_type": "code",
   "execution_count": 19,
   "metadata": {},
   "outputs": [],
   "source": [
    "import math  \n",
    "from collections import Counter\n",
    "import heapq"
   ]
  },
  {
   "cell_type": "code",
   "execution_count": 23,
   "metadata": {},
   "outputs": [],
   "source": [
    "class MaxHeapObj(object):\n",
    "    def __init__(self, val): self.val = val\n",
    "    def __lt__(self, other): return self.val > other.val\n",
    "    def __eq__(self, other): return self.val == other.val\n",
    "#     def __str__(self): return str(self.val)"
   ]
  },
  {
   "cell_type": "code",
   "execution_count": 24,
   "metadata": {},
   "outputs": [
    {
     "name": "stdout",
     "output_type": "stream",
     "text": [
      "8 1\n",
      "4 2\n",
      "1 3\n",
      "-2 4\n"
     ]
    }
   ],
   "source": [
    "heap = []\n",
    "for cap in capacities:\n",
    "    heapq.heappush(heap, MaxHeapObj(cap))\n",
    "count = 0 \n",
    "while processes > 0:\n",
    "    cur_max_cap = heapq.heappop(heap)\n",
    "    count += 1\n",
    "    processes -= cur_max_cap.val\n",
    "    print(processes, count)\n",
    "    heapq.heappush(heap, MaxHeapObj(math.floor(cur_max_cap.val/2)))\n",
    "\n"
   ]
  },
  {
   "cell_type": "code",
   "execution_count": 25,
   "metadata": {},
   "outputs": [
    {
     "data": {
      "text/plain": [
       "4"
      ]
     },
     "execution_count": 25,
     "metadata": {},
     "output_type": "execute_result"
    }
   ],
   "source": [
    "count"
   ]
  },
  {
   "cell_type": "markdown",
   "metadata": {},
   "source": [
    "## Question 4"
   ]
  },
  {
   "cell_type": "code",
   "execution_count": null,
   "metadata": {},
   "outputs": [],
   "source": [
    "# 1696. Jump Game VI\n",
    "# You are given a 0-indexed integer array nums and an integer k.\n",
    "# You are initially standing at index 0. In one move, \n",
    "# you can jump at most k steps forward without going outside the boundaries of the array. \n",
    "# That is, you can jump from index i to any index in the range [i + 1, min(n - 1, i + k)] inclusive.\n",
    "# You want to reach the last index of the array (index n - 1).\n",
    "# Your score is the sum of all nums[j] for each index j you visited in the array.\n",
    "# Return the maximum score you can get."
   ]
  },
  {
   "cell_type": "code",
   "execution_count": null,
   "metadata": {},
   "outputs": [],
   "source": [
    "# Input: nums = [1,-1,-2,4,-7,3], k = 2\n",
    "# Output: 7\n",
    "# Explanation: You can choose your jumps forming the subsequence\n",
    "#     [1,-1,4,3] (underlined above). The sum is 7."
   ]
  },
  {
   "cell_type": "markdown",
   "metadata": {},
   "source": [
    "#### method 1: DP "
   ]
  },
  {
   "cell_type": "code",
   "execution_count": 22,
   "metadata": {},
   "outputs": [],
   "source": [
    "import sys\n",
    "def maxResult(nums, k):\n",
    "    dp = [-sys.maxsize] * len(nums)\n",
    "    dp[0] = nums[0]\n",
    "    \n",
    "    for i in range(1, len(nums)):\n",
    "        for j in range(1, k+1):\n",
    "            if i >= j:\n",
    "                dp[i] = max(dp[i], dp[i-j] + nums[i])\n",
    "    return dp[-1]"
   ]
  },
  {
   "cell_type": "code",
   "execution_count": null,
   "metadata": {},
   "outputs": [],
   "source": [
    "# time O(NK), space O(N)"
   ]
  },
  {
   "cell_type": "code",
   "execution_count": 25,
   "metadata": {},
   "outputs": [
    {
     "data": {
      "text/plain": [
       "7"
      ]
     },
     "execution_count": 25,
     "metadata": {},
     "output_type": "execute_result"
    }
   ],
   "source": [
    "nums = [1,-1,-2,4,-7,3]; k = 2\n",
    "maxResult(nums, k)"
   ]
  },
  {
   "cell_type": "code",
   "execution_count": 24,
   "metadata": {},
   "outputs": [
    {
     "data": {
      "text/plain": [
       "17"
      ]
     },
     "execution_count": 24,
     "metadata": {},
     "output_type": "execute_result"
    }
   ],
   "source": [
    "nums = [10,-5,-2,4,0,3]; k = 3\n",
    "maxResult(nums, k)"
   ]
  },
  {
   "cell_type": "code",
   "execution_count": 23,
   "metadata": {},
   "outputs": [
    {
     "data": {
      "text/plain": [
       "0"
      ]
     },
     "execution_count": 23,
     "metadata": {},
     "output_type": "execute_result"
    }
   ],
   "source": [
    "nums = [1,-5,-20,4,-1,3,-6,-3]; k = 2\n",
    "maxResult(nums, k)"
   ]
  },
  {
   "cell_type": "markdown",
   "metadata": {},
   "source": [
    "#### method 2: DP+ deque (a monotone descreasing queue implemented by deque())"
   ]
  },
  {
   "cell_type": "code",
   "execution_count": 31,
   "metadata": {},
   "outputs": [],
   "source": [
    "from collections import deque\n",
    "def maxResult(nums, k):\n",
    "    \n",
    "    # initialize\n",
    "    scores = [0] * len(nums)\n",
    "    scores[0] = nums[0]\n",
    "    dq = deque()\n",
    "    dq.append(0)\n",
    "    \n",
    "    for i in range(1, len(nums)):\n",
    "        \n",
    "        # pop out invalid (out of index) indexes from dq\n",
    "        while dq and dq[0] < i - k:\n",
    "            dq.popleft()\n",
    "        \n",
    "        # without hesitation add nums[dp[0]] to the scores[i]\n",
    "        scores[i] = scores[dq[0]] + nums[i]\n",
    "        \n",
    "        # add new but maintaining monotone decreasing \n",
    "        while dq and scores[dq[-1]] < scores[i]:\n",
    "            dq.pop()\n",
    "        dq.append(i)\n",
    "    \n",
    "    return scores[-1]\n",
    "    "
   ]
  },
  {
   "cell_type": "code",
   "execution_count": 32,
   "metadata": {},
   "outputs": [
    {
     "data": {
      "text/plain": [
       "7"
      ]
     },
     "execution_count": 32,
     "metadata": {},
     "output_type": "execute_result"
    }
   ],
   "source": [
    "nums = [1,-1,-2,4,-7,3]; k = 2\n",
    "maxResult(nums, k)"
   ]
  },
  {
   "cell_type": "code",
   "execution_count": 33,
   "metadata": {},
   "outputs": [
    {
     "data": {
      "text/plain": [
       "17"
      ]
     },
     "execution_count": 33,
     "metadata": {},
     "output_type": "execute_result"
    }
   ],
   "source": [
    "nums = [10,-5,-2,4,0,3]; k = 3\n",
    "maxResult(nums, k)"
   ]
  },
  {
   "cell_type": "code",
   "execution_count": 34,
   "metadata": {},
   "outputs": [
    {
     "data": {
      "text/plain": [
       "0"
      ]
     },
     "execution_count": 34,
     "metadata": {},
     "output_type": "execute_result"
    }
   ],
   "source": [
    "nums = [1,-5,-20,4,-1,3,-6,-3]; k = 2\n",
    "maxResult(nums, k)"
   ]
  },
  {
   "cell_type": "code",
   "execution_count": null,
   "metadata": {},
   "outputs": [],
   "source": []
  },
  {
   "cell_type": "markdown",
   "metadata": {},
   "source": [
    "## Question 5"
   ]
  },
  {
   "cell_type": "code",
   "execution_count": null,
   "metadata": {},
   "outputs": [],
   "source": [
    "# Binary tree search. 在一个bst中寻找val, 找到return 1, 没找到return 0. \n",
    "# 思路: 很常规的用递归中序遍历bst, root为空return false,\n",
    "# 找到return true, 比较root.value和val, 大于递归左子树, 小于递归右子树"
   ]
  },
  {
   "cell_type": "code",
   "execution_count": 38,
   "metadata": {},
   "outputs": [],
   "source": [
    "# https://www.geeksforgeeks.org/search-a-node-in-binary-tree/\n",
    "class Node:\n",
    " \n",
    "    # Constructor to create a newNode\n",
    "    def __init__(self, val):\n",
    "        self.val = val\n",
    "        self.left = None\n",
    "        self.right = None\n",
    "\n",
    "# Driver Code\n",
    "if __name__ == '__main__':\n",
    "    root = Node(10)\n",
    "    root.left = Node(2)\n",
    "    root.right = Node(12)\n",
    "    root.left.left = Node(1)\n",
    "    root.left.right = Node(5)"
   ]
  },
  {
   "cell_type": "code",
   "execution_count": 44,
   "metadata": {},
   "outputs": [],
   "source": [
    "def ifNodeExists(node, key):\n",
    "    if not node:\n",
    "        return 0\n",
    "    if node.val == key:\n",
    "        return 1\n",
    "    if node.val < key:\n",
    "        return ifNodeExists(node.right, key)\n",
    "    if node.val > key:\n",
    "        return ifNodeExists(node.left, key)\n",
    "    "
   ]
  },
  {
   "cell_type": "code",
   "execution_count": 46,
   "metadata": {},
   "outputs": [
    {
     "data": {
      "text/plain": [
       "1"
      ]
     },
     "execution_count": 46,
     "metadata": {},
     "output_type": "execute_result"
    }
   ],
   "source": [
    "key = 5\n",
    "ifNodeExists(root, key)"
   ]
  },
  {
   "cell_type": "markdown",
   "metadata": {},
   "source": [
    "## Question 6"
   ]
  },
  {
   "cell_type": "code",
   "execution_count": null,
   "metadata": {},
   "outputs": [],
   "source": [
    "# 给一个list of rock's weight 和 maxVariance, 要求divide rocks into groups, group 中 min weight 和 max weight \n",
    "# 的差值不能超过maxVariance, 求 group 个数可能的最小值\n",
    "#           (Group Division. 给定weights数组和maxVariance, 把weights分成不同的groups, \n",
    "#           每个group中的min_weight和max_weight相差不能超过maxVariance,求最小能有多少个groups.)\n",
    "# 思路: 贪心做法, 先把weights排序, 然后从第一个最小元素向后逐个遍历,\n",
    "#     如果到了某个元素与第一个最小元素的差大于maxVariance, 就把count加一, 重新初始化最小元素为现在遍历至的元素, 开始下一个group的遍历"
   ]
  },
  {
   "cell_type": "code",
   "execution_count": 71,
   "metadata": {},
   "outputs": [],
   "source": [
    "def groupDivision(weights, maxVariance):\n",
    "    count = 0\n",
    "    weights_sorted = sorted(weights)\n",
    "    print(weights_sorted)\n",
    "    i, j = 0, 1\n",
    "    while j < len(weights):\n",
    "        while j < len(weights) and (weights_sorted[j] - weights_sorted[i] <=  maxVariance):\n",
    "            j += 1\n",
    "#             print(j)\n",
    "        count += 1\n",
    "        print(j, count)\n",
    "        i = j\n",
    "    return count\n",
    "        "
   ]
  },
  {
   "cell_type": "code",
   "execution_count": 72,
   "metadata": {},
   "outputs": [
    {
     "name": "stdout",
     "output_type": "stream",
     "text": [
      "[1, 3, 4, 8, 9, 11, 67, 100]\n",
      "3 1\n",
      "6 2\n",
      "7 3\n",
      "8 4\n"
     ]
    },
    {
     "data": {
      "text/plain": [
       "4"
      ]
     },
     "execution_count": 72,
     "metadata": {},
     "output_type": "execute_result"
    }
   ],
   "source": [
    "weights = [3, 4, 8, 9, 11, 100, 67, 1]; maxVariance = 3\n",
    "groupDivision(weights, maxVariance)"
   ]
  },
  {
   "cell_type": "markdown",
   "metadata": {},
   "source": [
    "## Question 7"
   ]
  },
  {
   "cell_type": "code",
   "execution_count": null,
   "metadata": {},
   "outputs": [],
   "source": [
    "# Fun Anagrams.  给定words和phrases两个list<string>, 定义anagram为调换单词内字母顺序的单词,\n",
    "# 比如west和tesw. 求phrases中每个phrase有多少种替换方式(包括original phrase本身). \n",
    "\n",
    "# 给定words和phrases两个list of strings, 定义anagram为调换单词内字母顺序可以相互转换的单词, 比如west和tesw为anagrams, \n",
    "# phrase包含由words组成的句子, 注意第9个test case会出现phrase中有单词没有在words中出现, 比较坑, \n",
    "# phrase中的单词可以换成在words中出现的对应的任何anagrams, 求phrases中每个phrase有多少种替换方式(包括original phrase本身), \n",
    "# 以list of int形式输出. 思路: 先创建word_set里面包含所有words以方便O(1)查询phrase中单词是否在words中出现, \n",
    "# 使用一个hash function来把相互为anagrams的所有words map到唯一的hashed_word上，\n",
    "# 再把这个hashed_word和这个word有多少个anagrams作为key value mapping存入hashed_word_to_cnt的hashmap,\n",
    "# 最后对于phrases里面每个phrase, 先初始化局变量cnt = 1, 用whitespace splits phrase到words, 遍历words, \n",
    "# 用hash function算出每个hashed_word, 如果word出现在word_set里面, cnt = cnt * hashed_word_to_cnt[hashed_word],\n",
    "# 如果没有出现在word_set里面(最坑的test case), cnt = cnt * ((hashed_word_to_cnt[hashed_word] + 1),\n",
    "# 这里加一来加上phrase中这个word作为anagram的一个新的个数, 更严谨一点应该先判断hashed_word是否在hashmap里, \n",
    "# 或者用defaultdict, 不过我当时没有check也全过了"
   ]
  },
  {
   "cell_type": "code",
   "execution_count": 177,
   "metadata": {},
   "outputs": [
    {
     "name": "stdout",
     "output_type": "stream",
     "text": [
      "defaultdict(<class 'int'>, {(0, 0, 0, 0, 1, 0, 0, 0, 0, 0, 0, 0, 0, 0, 0, 0, 0, 0, 1, 2, 0, 0, 1, 0, 0, 0): 3, (1, 0, 0, 0, 0, 0, 0, 0, 0, 0, 0, 0, 0, 0, 1, 0, 0, 0, 0, 0, 0, 0, 0, 0, 0, 0): 2})\n"
     ]
    }
   ],
   "source": [
    "from collections import defaultdict\n",
    "words = [\"teswt\", \"westt\", \"tewst\", \"ao\", \"oa\"]\n",
    "words_set = set(words) # search if a word in phrase appears in the words in time O(1)\n",
    "phrase = [\"westt ao xx\"]\n",
    "count  = 1\n",
    "\n",
    "def groupAnagrams(strs):\n",
    "        ans = defaultdict(int)\n",
    "        for s in strs:\n",
    "            count = [0] * 26\n",
    "            for c in s:\n",
    "                count[ord(c) - ord('a')] += 1\n",
    "            ans[tuple(count)]+= 1\n",
    "        return ans\n",
    "hashed_word_to_cnt = groupAnagrams(words)\n",
    "print(hashed_word_to_cnt)\n",
    "\n",
    "for word in phrase[0].split(\" \"):\n",
    "    if word in words_set:\n",
    "        # hashed_word\n",
    "        alphaB = [0] * 26\n",
    "        for c in word:\n",
    "            alphaB[ord(c) - ord('a')] += 1\n",
    "        count = count * hashed_word_to_cnt[tuple(alphaB)]\n",
    "    else:\n",
    "        count = count "
   ]
  },
  {
   "cell_type": "code",
   "execution_count": 174,
   "metadata": {},
   "outputs": [
    {
     "data": {
      "text/plain": [
       "6"
      ]
     },
     "execution_count": 174,
     "metadata": {},
     "output_type": "execute_result"
    }
   ],
   "source": [
    "count"
   ]
  },
  {
   "cell_type": "code",
   "execution_count": null,
   "metadata": {},
   "outputs": [],
   "source": []
  },
  {
   "cell_type": "markdown",
   "metadata": {},
   "source": [
    "## Question 8"
   ]
  },
  {
   "cell_type": "code",
   "execution_count": null,
   "metadata": {},
   "outputs": [],
   "source": [
    "# maze 2D\n",
    "# consider a 2D grid maze s.t. a grid cell is considered blocked if it contains a '$' and unblocked if it contains a '.',\n",
    "# you always start from the top-left of the grid and this cell will always be unblocked. The destination you want to reach is\\\n",
    "# the bottom-right corner which will be unblocked as well. You can only move top, left, right, and bottom when going from \n",
    "# one cell to another, assuming that there is an unblocked cell in that direction. It takes one second to go from one cell to \n",
    "# an adjacant cell.\n",
    "# Note: #rows might not be equal to #columns\n",
    "\n",
    "# Given a maximum time limit maxTime, return \"yes\" if it is possible to go from start (top-left) to finish (bottom-right) in the given\n",
    "# time limit, otherwise return 'No'.\n",
    "\n",
    "# e.g.,\n",
    "# grid = ['..$$', '$.$$', '$...']; maxTime=6\n",
    "#  . . $ $\n",
    "#  $ . $ $\n",
    "#  $ . . .\n",
    "\n",
    "# taks 5 second to finish, so 'yes'"
   ]
  },
  {
   "cell_type": "code",
   "execution_count": null,
   "metadata": {},
   "outputs": [],
   "source": [
    "# 用bfs就可以了啦 里面加条件 if(step> n) break;"
   ]
  },
  {
   "cell_type": "code",
   "execution_count": 47,
   "metadata": {},
   "outputs": [],
   "source": [
    "from collections import deque\n",
    "def maze2D(grid, maxTime):\n",
    "    mygrid = []\n",
    "    for i in range(len(grid)):\n",
    "        mygrid.append([ele for ele in grid[i][0]])\n",
    "    print(mygrid)\n",
    "    m, n = len(mygrid), len(mygrid[0])\n",
    "    visited = [[False]*n for _ in range(m)]\n",
    "    directions = [[1, 0], [-1, 0], [0, 1], [0, -1]]\n",
    "    que = deque([])\n",
    "    que.append([0, 0, 0])\n",
    "    visited[0][0] = True\n",
    "    step = 0\n",
    "    \n",
    "    while que:\n",
    "        x, y, step = que.popleft()\n",
    "        if step > maxTime:\n",
    "            return \"No\"\n",
    "        for dx, dy in directions:\n",
    "            nx, ny = x+dx, y+dy\n",
    "            if nx ==  m-1 and ny == n-1:\n",
    "                step += 1\n",
    "                if step <= maxTime:\n",
    "                    print(step)\n",
    "                    return 'Yes'\n",
    "                else:\n",
    "                    print(step)\n",
    "                    return 'No'\n",
    "            if 0 <= nx < m and 0 <= ny < n:\n",
    "                if mygrid[nx][ny] == '.' and visited[nx][ny] == False:\n",
    "                    visited[nx][ny] = True\n",
    "                    que.append([nx, ny, step+1])\n",
    "        print(que)\n",
    "    return \"No\""
   ]
  },
  {
   "cell_type": "code",
   "execution_count": 48,
   "metadata": {},
   "outputs": [
    {
     "name": "stdout",
     "output_type": "stream",
     "text": [
      "[['.', '.', '.', '.', '$', '$'], ['$', '.', '.', '.', '$', '$'], ['$', '.', '.', '.', '.', '.']]\n",
      "deque([[0, 1, 1]])\n",
      "deque([[1, 1, 2], [0, 2, 2]])\n",
      "deque([[0, 2, 2], [2, 1, 3], [1, 2, 3]])\n",
      "deque([[2, 1, 3], [1, 2, 3], [0, 3, 3]])\n",
      "deque([[1, 2, 3], [0, 3, 3], [2, 2, 4]])\n",
      "deque([[0, 3, 3], [2, 2, 4], [1, 3, 4]])\n",
      "deque([[2, 2, 4], [1, 3, 4]])\n",
      "deque([[1, 3, 4], [2, 3, 5]])\n",
      "deque([[2, 3, 5]])\n",
      "deque([[2, 4, 6]])\n",
      "7\n"
     ]
    },
    {
     "data": {
      "text/plain": [
       "'Yes'"
      ]
     },
     "execution_count": 48,
     "metadata": {},
     "output_type": "execute_result"
    }
   ],
   "source": [
    "grid = [\n",
    "    ['....$$'],\n",
    "    ['$...$$'],\n",
    "    ['$.....']\n",
    "]\n",
    "maxTime = 10\n",
    "maze2D(grid, maxTime)"
   ]
  },
  {
   "cell_type": "code",
   "execution_count": 52,
   "metadata": {},
   "outputs": [
    {
     "name": "stdout",
     "output_type": "stream",
     "text": [
      "[['.', '.', '&', '.', '.', '.'], ['$', '.', '$', '.', '$', '.'], ['$', '.', '.', '.', '$', '.'], ['$', '$', '$', '$', '.', '.']]\n",
      "deque([[0, 1, 1]])\n",
      "deque([[1, 1, 2]])\n",
      "deque([[2, 1, 3]])\n",
      "deque([[2, 2, 4]])\n",
      "deque([[2, 3, 5]])\n",
      "deque([[1, 3, 6]])\n",
      "deque([[0, 3, 7]])\n",
      "deque([[0, 4, 8]])\n",
      "deque([[0, 5, 9]])\n",
      "deque([[1, 5, 10]])\n",
      "deque([[2, 5, 11]])\n",
      "12\n"
     ]
    },
    {
     "data": {
      "text/plain": [
       "'Yes'"
      ]
     },
     "execution_count": 52,
     "metadata": {},
     "output_type": "execute_result"
    }
   ],
   "source": [
    "grid = [\n",
    "    ['..&...'],\n",
    "    ['$.$.$.'],\n",
    "    ['$...$.'],\n",
    "    ['$$$$..']\n",
    "]\n",
    "maxTime = 15\n",
    "maze2D(grid, maxTime)"
   ]
  },
  {
   "cell_type": "code",
   "execution_count": 13,
   "metadata": {},
   "outputs": [
    {
     "data": {
      "text/plain": [
       "[['.', '.', '$', '$'], ['$', '.', '$', '$'], ['$', '.', '.', '.']]"
      ]
     },
     "execution_count": 13,
     "metadata": {},
     "output_type": "execute_result"
    }
   ],
   "source": [
    "mygrid"
   ]
  },
  {
   "cell_type": "code",
   "execution_count": null,
   "metadata": {},
   "outputs": [],
   "source": []
  },
  {
   "cell_type": "code",
   "execution_count": null,
   "metadata": {},
   "outputs": [],
   "source": []
  },
  {
   "cell_type": "code",
   "execution_count": null,
   "metadata": {},
   "outputs": [],
   "source": []
  },
  {
   "cell_type": "markdown",
   "metadata": {},
   "source": [
    "## Question 9"
   ]
  },
  {
   "cell_type": "code",
   "execution_count": null,
   "metadata": {},
   "outputs": [],
   "source": [
    "# leetcode 322 coin change\n",
    "# You are given an integer array coins representing coins of different denominations and \n",
    "# an integer amount representing a total amount of money.\n",
    "# Return the fewest number of coins that you need to make up that amount. \n",
    "# If that amount of money cannot be made up by any combination of the coins, return -1.\n",
    "\n",
    "# You may assume that you have an infinite number of each kind of coin.\n",
    "# Input: coins = [1,2,5], amount = 11\n",
    "# Output: 3\n",
    "# Input: coins = [2], amount = 3\n",
    "# Output: -1"
   ]
  },
  {
   "cell_type": "markdown",
   "metadata": {},
   "source": [
    "#### method 1: DFS+ memo"
   ]
  },
  {
   "cell_type": "code",
   "execution_count": 77,
   "metadata": {},
   "outputs": [],
   "source": [
    " def coinChange(coins, amount):\n",
    "        memo = {}\n",
    "        \n",
    "        def dfs_helper(remain):\n",
    "            if remain == 0:\n",
    "                return 0\n",
    "            if remain < 0:\n",
    "                return -1\n",
    "            if remain in memo:\n",
    "                return memo[remain]\n",
    "            \n",
    "            minCount = sys.maxsize\n",
    "            for coin in coins:\n",
    "                count = dfs_helper(remain - coin)\n",
    "                if count >= 0:\n",
    "                    minCount = min(minCount, count + 1)\n",
    "            memo[remain] = minCount\n",
    "            return minCount\n",
    "        res = dfs_helper(amount)\n",
    "        if res == sys.maxsize:\n",
    "            return -1\n",
    "        return res\n",
    "                \n",
    "        "
   ]
  },
  {
   "cell_type": "code",
   "execution_count": 78,
   "metadata": {},
   "outputs": [
    {
     "data": {
      "text/plain": [
       "3"
      ]
     },
     "execution_count": 78,
     "metadata": {},
     "output_type": "execute_result"
    }
   ],
   "source": [
    "coins = [1,2,5]; amount = 11\n",
    "coinChange(coins, amount)"
   ]
  },
  {
   "cell_type": "code",
   "execution_count": 79,
   "metadata": {},
   "outputs": [
    {
     "data": {
      "text/plain": [
       "-1"
      ]
     },
     "execution_count": 79,
     "metadata": {},
     "output_type": "execute_result"
    }
   ],
   "source": [
    "coins = [2]; amount = 3\n",
    "coinChange(coins, amount)"
   ]
  },
  {
   "cell_type": "markdown",
   "metadata": {},
   "source": [
    "#### method 2: DP"
   ]
  },
  {
   "cell_type": "code",
   "execution_count": 85,
   "metadata": {},
   "outputs": [],
   "source": [
    "def coinChange(coins, amount):\n",
    "    dp = [sys.maxsize] * (amount + 1)\n",
    "    dp[0] = 0\n",
    "    \n",
    "    for i in range(1, amount+1):\n",
    "        for coin in coins:\n",
    "            if i >= coin:\n",
    "                dp[i] = min(dp[i], dp[i-coin] + 1)\n",
    "    if dp[-1] == sys.maxsize:\n",
    "        return -1\n",
    "    return dp[-1]"
   ]
  },
  {
   "cell_type": "code",
   "execution_count": 86,
   "metadata": {},
   "outputs": [
    {
     "data": {
      "text/plain": [
       "3"
      ]
     },
     "execution_count": 86,
     "metadata": {},
     "output_type": "execute_result"
    }
   ],
   "source": [
    "coins = [1,2,5]; amount = 11\n",
    "coinChange(coins, amount)"
   ]
  },
  {
   "cell_type": "code",
   "execution_count": 87,
   "metadata": {},
   "outputs": [
    {
     "data": {
      "text/plain": [
       "-1"
      ]
     },
     "execution_count": 87,
     "metadata": {},
     "output_type": "execute_result"
    }
   ],
   "source": [
    "coins = [2]; amount = 3\n",
    "coinChange(coins, amount)"
   ]
  },
  {
   "cell_type": "code",
   "execution_count": null,
   "metadata": {},
   "outputs": [],
   "source": []
  },
  {
   "cell_type": "markdown",
   "metadata": {},
   "source": [
    "## Question 10"
   ]
  },
  {
   "cell_type": "code",
   "execution_count": null,
   "metadata": {},
   "outputs": [],
   "source": [
    "# Integer flip\n",
    "# given an integer n, find the value of 1/n. 1/n will end in a sequence of infinitely repeating digits. \n",
    "# Print the digits of the repeating sequence twice with a spce between the 1st and 2nd repetition\n",
    "\n",
    "# e.g., N=8,1/N=0.12500000000... so print 0.1250 0\n",
    "# N=9, 1/N=0.11111.... so print 0.1 1"
   ]
  },
  {
   "cell_type": "code",
   "execution_count": 246,
   "metadata": {},
   "outputs": [],
   "source": [
    "import math\n",
    "def int_flip(n):\n",
    "    integer_part = math.floor(1/n)\n",
    "    fraction = str(format(1/n, \".10f\")).split('.')[1]\n",
    "    res = \"\"\n",
    "    res += (str(integer_part))\n",
    "    res += '.'\n",
    "    remainder_map = {}\n",
    "    index = 0\n",
    "    remainder= 1 % n\n",
    "    while (remainder != 0 and remainder not in remainder_map):\n",
    "        remainder_map[remainder] = index\n",
    "        remainder  = remainder * 10\n",
    "        res += (str(math.floor(remainder / n)))\n",
    "        remainder = remainder % n\n",
    "        index += 1\n",
    "    if (remainder != 0):\n",
    "        res += \" \"\n",
    "        repeat_index = remainder_map[remainder]\n",
    "        res += (fraction[repeat_index:index])\n",
    "    else:\n",
    "        res += \"0 0\"\n",
    "    return res"
   ]
  },
  {
   "cell_type": "code",
   "execution_count": 247,
   "metadata": {},
   "outputs": [
    {
     "data": {
      "text/plain": [
       "'0.014925373134328358208955223880597 0149253731'"
      ]
     },
     "execution_count": 247,
     "metadata": {},
     "output_type": "execute_result"
    }
   ],
   "source": [
    "import math\n",
    "int_flip(67)"
   ]
  },
  {
   "cell_type": "code",
   "execution_count": 192,
   "metadata": {},
   "outputs": [],
   "source": [
    "integer_part = math.floor(1/n)\n",
    "fraction = str(1/n).split('.')[1]\n",
    "res = \"\"\n",
    "res += (str(integer_part))\n",
    "res += '.'\n",
    "remainder_map = {}\n",
    "index = 0\n",
    "remainder= 1 % n\n",
    "while (remainder != 0 and remainder not in remainder_map):\n",
    "    remainder_map[remainder] = index\n",
    "    remainder  = remainder * 10\n",
    "    res += (str(math.floor(remainder / n)))\n",
    "    remainder = remainder % n\n",
    "    index += 1\n",
    "if (remainder != 0):\n",
    "    res += \" \"\n",
    "    repeat_index = remainder_map[remainder]\n",
    "    res += (fraction[repeat_index:index])\n",
    "else:\n",
    "    res += \"0 0\""
   ]
  },
  {
   "cell_type": "code",
   "execution_count": 243,
   "metadata": {},
   "outputs": [
    {
     "data": {
      "text/plain": [
       "0.014925373134328358"
      ]
     },
     "execution_count": 243,
     "metadata": {},
     "output_type": "execute_result"
    }
   ],
   "source": [
    "1/67"
   ]
  },
  {
   "cell_type": "markdown",
   "metadata": {},
   "source": [
    "## Question 11"
   ]
  },
  {
   "cell_type": "code",
   "execution_count": null,
   "metadata": {},
   "outputs": [],
   "source": [
    "# counting cars\n",
    "\n",
    "# numsCars = [5,4,5,3,2] indeces are from 1 to n where n=len(numsCars)\n",
    "#       the number of cars currently in the lot \n",
    "# hourStartQ = [1,2,4,5] \n",
    "# given a starting hour hj denoting the index in numsCars, they want to know how many times the parking lot reached peak capacity\n",
    "# by the end of the data collection.\n",
    "\n",
    "# for the 1st query, we start at hour 1, the segment starting at index 1 is [5,4,5,3,2], the highest value is 5, and it occurs 2\n",
    "# time, so maxfreq = 2.\n",
    "# for the 2nd query we start at hour 2, the segment starting at index 2 is [4,5,3,2], the highest value is 5 and it occurs 1 time\n",
    "# so maxfreq = 1\n",
    "\n",
    "# ans = [2,1,1,1]"
   ]
  },
  {
   "cell_type": "code",
   "execution_count": 184,
   "metadata": {},
   "outputs": [],
   "source": [
    "def freqMaxValue(numsCars, hourStartQ):\n",
    "    \n",
    "    res = []\n",
    "    for hour in hourStartQ:\n",
    "        count = 0\n",
    "        maxFreq = 0\n",
    "        end = len(numsCars)\n",
    "        while end >= hour:\n",
    "            if numsCars[end-1] > maxFreq:\n",
    "                count = 1\n",
    "                maxFreq = numsCars[end-1]\n",
    "            elif numsCars[end-1] == maxFreq:\n",
    "                count += 1\n",
    "            else:\n",
    "                count = count \n",
    "            end -= 1\n",
    "        res.append(count)\n",
    "    return res\n",
    "    "
   ]
  },
  {
   "cell_type": "code",
   "execution_count": 185,
   "metadata": {},
   "outputs": [
    {
     "data": {
      "text/plain": [
       "[2, 1, 1, 1]"
      ]
     },
     "execution_count": 185,
     "metadata": {},
     "output_type": "execute_result"
    }
   ],
   "source": [
    "numsCars = [5,4,5,3,2]\n",
    "hourStartQ = [1,2,4,5]\n",
    "freqMaxValue(numsCars, hourStartQ)"
   ]
  },
  {
   "cell_type": "code",
   "execution_count": null,
   "metadata": {},
   "outputs": [],
   "source": []
  },
  {
   "cell_type": "code",
   "execution_count": 197,
   "metadata": {},
   "outputs": [
    {
     "data": {
      "text/plain": [
       "0.014925373134328358"
      ]
     },
     "execution_count": 197,
     "metadata": {},
     "output_type": "execute_result"
    }
   ],
   "source": [
    "1/67"
   ]
  },
  {
   "cell_type": "code",
   "execution_count": null,
   "metadata": {},
   "outputs": [],
   "source": []
  },
  {
   "cell_type": "code",
   "execution_count": null,
   "metadata": {},
   "outputs": [],
   "source": []
  },
  {
   "cell_type": "code",
   "execution_count": null,
   "metadata": {},
   "outputs": [],
   "source": [
    "def pushMontoQueue(queue, ele):\n",
    "    while len(queue) > 0 and queue[0] > ele:\n",
    "        queue.pop(0) # deQueue\n",
    "    queue.push(ele)"
   ]
  },
  {
   "cell_type": "code",
   "execution_count": 42,
   "metadata": {},
   "outputs": [],
   "source": [
    "from collections import deque\n",
    "nums  = [1,-1,-2,4,-7,3]\n",
    "queue = deque()"
   ]
  },
  {
   "cell_type": "code",
   "execution_count": 43,
   "metadata": {},
   "outputs": [],
   "source": [
    "queue.append(0)\n",
    "queue.append(1)\n",
    "queue.append(2)\n",
    "queue.append(3)"
   ]
  },
  {
   "cell_type": "code",
   "execution_count": 46,
   "metadata": {},
   "outputs": [
    {
     "data": {
      "text/plain": [
       "3"
      ]
     },
     "execution_count": 46,
     "metadata": {},
     "output_type": "execute_result"
    }
   ],
   "source": [
    "queue.pop()"
   ]
  },
  {
   "cell_type": "code",
   "execution_count": 6,
   "metadata": {},
   "outputs": [],
   "source": [
    "from collections import Counter\n",
    "import heapq"
   ]
  },
  {
   "cell_type": "code",
   "execution_count": 55,
   "metadata": {},
   "outputs": [
    {
     "data": {
      "text/plain": [
       "Counter({'i': 2, 'love': 2, 'leetcode': 1, 'coding': 1})"
      ]
     },
     "execution_count": 55,
     "metadata": {},
     "output_type": "execute_result"
    }
   ],
   "source": [
    "words = [\"i\",\"love\",\"leetcode\",\"i\",\"love\",\"coding\"]\n",
    "k=2\n",
    "my_dict = Counter(words)\n",
    "my_dict"
   ]
  },
  {
   "cell_type": "code",
   "execution_count": 57,
   "metadata": {},
   "outputs": [],
   "source": [
    "\n",
    "\n",
    "class Pair:\n",
    "    def __init__(self, word, freq):\n",
    "        self.word = word\n",
    "        self.freq = freq\n",
    "    \n",
    "    def __lt__(self, p):\n",
    "        return self.freq < p.freq or (self.freq==p.freq and self.word > p.word)"
   ]
  },
  {
   "cell_type": "code",
   "execution_count": 58,
   "metadata": {},
   "outputs": [
    {
     "name": "stdout",
     "output_type": "stream",
     "text": [
      "leetcode 1\n",
      "coding 1\n"
     ]
    }
   ],
   "source": [
    "cnt = Counter(words)\n",
    "h = []\n",
    "for word, freq in cnt.items():\n",
    "    heapq.heappush(h, Pair(word, freq))\n",
    "    # maintain the size of the heap\n",
    "    if len(h) > k:\n",
    "        tmp = heapq.heappop(h)\n",
    "        print(tmp.word, tmp.freq)\n"
   ]
  },
  {
   "cell_type": "code",
   "execution_count": 42,
   "metadata": {},
   "outputs": [
    {
     "data": {
      "text/plain": [
       "['i', 'love']"
      ]
     },
     "execution_count": 42,
     "metadata": {},
     "output_type": "execute_result"
    }
   ],
   "source": [
    "[p.word for p in sorted(h, reverse=True)]"
   ]
  },
  {
   "cell_type": "code",
   "execution_count": null,
   "metadata": {},
   "outputs": [],
   "source": []
  }
 ],
 "metadata": {
  "kernelspec": {
   "display_name": "Python 3",
   "language": "python",
   "name": "python3"
  },
  "language_info": {
   "codemirror_mode": {
    "name": "ipython",
    "version": 3
   },
   "file_extension": ".py",
   "mimetype": "text/x-python",
   "name": "python",
   "nbconvert_exporter": "python",
   "pygments_lexer": "ipython3",
   "version": "3.6.5"
  }
 },
 "nbformat": 4,
 "nbformat_minor": 2
}
