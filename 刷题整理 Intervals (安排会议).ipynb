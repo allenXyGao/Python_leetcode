{
 "cells": [
  {
   "cell_type": "markdown",
   "metadata": {},
   "source": [
    "# 安排会议问题大全：扫描线、最小堆"
   ]
  },
  {
   "cell_type": "markdown",
   "metadata": {},
   "source": [
    "## Problem 1: Leetcode 252. Meeting Rooms\n",
    "https://leetcode.com/problems/meeting-rooms/"
   ]
  },
  {
   "cell_type": "code",
   "execution_count": null,
   "metadata": {},
   "outputs": [],
   "source": [
    "'''\n",
    "Given an array of meeting time intervals consisting of start and end times [[s1,e1],[s2,e2],...] (si < ei), \n",
    "determine if a person could attend all meetings.\n",
    "\n",
    "e.g 1\n",
    "Input: [[0,30],[5,10],[15,20]]\n",
    "Output: false\n",
    "\n",
    "e.g 2\n",
    "Input: [[7,10],[2,4]]\n",
    "Output: true\n",
    "'''"
   ]
  },
  {
   "cell_type": "code",
   "execution_count": 12,
   "metadata": {},
   "outputs": [],
   "source": [
    "def canAttendMeetings(intervals):\n",
    "    if not intervals or len(intervals) < 2:\n",
    "            return True\n",
    "    intervals = sorted(intervals, key=lambda x:(x[0], x[1]))\n",
    "    for index, interval in enumerate(intervals):\n",
    "        if index == 0:\n",
    "            continue\n",
    "        if interval[0] < intervals[index - 1][1]:\n",
    "            return False\n",
    "    return True\n",
    "    "
   ]
  },
  {
   "cell_type": "code",
   "execution_count": 13,
   "metadata": {},
   "outputs": [
    {
     "name": "stdout",
     "output_type": "stream",
     "text": [
      "False\n",
      "True\n"
     ]
    }
   ],
   "source": [
    "intervals = [[0,30],[5,10],[15,20]]\n",
    "print(canAttendMeetings(intervals))\n",
    "intervals = [[7,10],[2,4]]\n",
    "print(canAttendMeetings(intervals))"
   ]
  },
  {
   "cell_type": "code",
   "execution_count": null,
   "metadata": {},
   "outputs": [],
   "source": []
  },
  {
   "cell_type": "markdown",
   "metadata": {},
   "source": [
    "## Problem 2： Leetcode 253. Meeting Rooms II\n",
    "https://leetcode.com/problems/meeting-rooms-ii/"
   ]
  },
  {
   "cell_type": "markdown",
   "metadata": {},
   "source": [
    "### method 1: greedy"
   ]
  },
  {
   "cell_type": "code",
   "execution_count": null,
   "metadata": {},
   "outputs": [],
   "source": [
    "'''\n",
    "Given an array of meeting time intervals consisting of start and end times [[s1,e1],[s2,e2],...] (si < ei),\n",
    "find the minimum number of conference rooms required.\n",
    "\n",
    "e.g 1\n",
    "Input: [[0, 30],[5, 10],[15, 20]]\n",
    "Output: 2\n",
    "\n",
    "e.g 2\n",
    "Input: [[7,10],[2,4]]\n",
    "Output: 1\n",
    "'''"
   ]
  },
  {
   "cell_type": "code",
   "execution_count": null,
   "metadata": {},
   "outputs": [],
   "source": [
    "'''\n",
    "Algorithm\n",
    "1. Sort the given meetings by their start time.\n",
    "2. Initialize a new min-heap and add the first meeting's ending time to the heap. We simply need to keep track of \n",
    "    the ending times as that tells us when a meeting room will get free.\n",
    "3. For every meeting room check if the minimum element of the heap i.e. the room at the top of the heap is free or not.\n",
    "4. If the room is free, then we extract the topmost element and add it back with the ending time of the current\n",
    "    meeting we are processing.\n",
    "5. If not, then we allocate a new room and add it to the heap.\n",
    "6. After processing all the meetings, the size of the heap will tell us the number of rooms allocated.\n",
    "    This will be the minimum number of rooms needed to accommodate all the meetings\n",
    "'''"
   ]
  },
  {
   "cell_type": "code",
   "execution_count": 81,
   "metadata": {},
   "outputs": [],
   "source": [
    "def minMeetingRooms(intervals):\n",
    "    if not intervals:\n",
    "        return 0\n",
    "    # step 1: sort the intervals by start time\n",
    "    intervals = sorted(intervals, key=lambda x: (x[0], x[1]))\n",
    "    \n",
    "    # initialize the min-heap and add the endtime of the first interval\n",
    "    import heapq\n",
    "    free_rooms = []\n",
    "    heapq.heappush(free_rooms, intervals[0][1])\n",
    "    \n",
    "    # check \n",
    "    for interval in intervals[1:]:\n",
    "        #print(free_rooms)\n",
    "        # if the topmost room is free, then we extract it and then add the endtime of current meetimg room\n",
    "        # e.g. last endtime: 3, cur [3,6], 3<=3 -> okay does not need to allocate another room for meeting [3,6]\n",
    "        if free_rooms[0] <= interval[0]:\n",
    "            heapq.heappop(free_rooms)\n",
    "        # anyway we need to add it the heap\n",
    "        heapq.heappush(free_rooms, interval[1])\n",
    "    # after the processing, the size of the heap will be the minimum number of rooms allocated\n",
    "    return len(free_rooms)\n",
    "    "
   ]
  },
  {
   "cell_type": "code",
   "execution_count": 82,
   "metadata": {},
   "outputs": [
    {
     "name": "stdout",
     "output_type": "stream",
     "text": [
      "2\n",
      "1\n",
      "3\n"
     ]
    }
   ],
   "source": [
    "intervals = [[0, 30],[5, 10],[15, 20]]\n",
    "print(minMeetingRooms(intervals))\n",
    "intervals = [[7,10],[2,4]]\n",
    "print(minMeetingRooms(intervals))\n",
    "intervals = [[7,10],[2,4], [3,4], [10,13], [0, 3], [3,6]]\n",
    "print(minMeetingRooms(intervals))"
   ]
  },
  {
   "cell_type": "markdown",
   "metadata": {},
   "source": [
    "### method 2: Chronological Ordering"
   ]
  },
  {
   "cell_type": "code",
   "execution_count": null,
   "metadata": {},
   "outputs": [],
   "source": [
    "'''\n",
    "When we encounter an ending event, that means that some meeting that started earlier has ended now.\n",
    "We are not really concerned with which meeting has ended.\n",
    "All we need is that some meeting ended thus making a room available.\n",
    "'''"
   ]
  },
  {
   "cell_type": "code",
   "execution_count": null,
   "metadata": {},
   "outputs": [],
   "source": [
    "# Alg\n",
    "'''\n",
    "Algorithm:\n",
    "1. Separate out the start times and the end times in their separate arrays.\n",
    "2. Sort the start times and the end times separately. Note that this will mess up the original correspondence of \n",
    "    start times and end times. They will be treated individually now.\n",
    "3. We consider two pointers: s_ptr and e_ptr which refer to start pointer and end pointer. \n",
    "    The start pointer simply iterates over all the meetings and the end pointer helps us\n",
    "    track if a meeting has ended and if we can reuse a room.\n",
    "4. When considering a specific meeting pointed to by s_ptr, we check if this start timing is greater than\n",
    "    the meeting pointed to by e_ptr. If this is the case then that would mean some meeting has ended by the time\n",
    "    the meeting at s_ptr had to start. So we can reuse one of the rooms. Otherwise, we have to allocate a new room.\n",
    "5. If a meeting has indeed ended i.e. if start[s_ptr] >= end[e_ptr], then we increment e_ptr.\n",
    "6. Repeat this process until s_ptr processes all of the meetings.\n",
    "'''"
   ]
  },
  {
   "cell_type": "code",
   "execution_count": 83,
   "metadata": {},
   "outputs": [],
   "source": [
    "def minMeetingRooms2(intervals):\n",
    "    if not intervals:\n",
    "        return 0\n",
    "    # step 1: separate the start and end then sort them individually (separately)\n",
    "    start = []\n",
    "    end = []\n",
    "    for u, v in intervals:\n",
    "        start.append(u)\n",
    "        end.append(v)\n",
    "    start.sort()\n",
    "    end.sort()\n",
    "    \n",
    "    # step 2: set two pointers: s_ptr and e_ptr then iterate, 每次s_ptr移动一格代表遍历所有的intervals， 但是e_ptr是有条件的移动\n",
    "    num_room =  0\n",
    "    s_ptr, e_ptr = 0, 0 \n",
    "    while s_ptr < len(start):\n",
    "        # case 1: if a meeting starts before the current earliest endtime, allocate a new one\n",
    "        if start[s_ptr] < end[e_ptr]:\n",
    "            num_room += 1\n",
    "            \n",
    "        # case 2: if a meeting starts when another one has ends, reuse it!!! since the previous meeting has ended, we\n",
    "        # should increase end pointer\n",
    "        else:\n",
    "            e_ptr += 1\n",
    "        # loop for the next s_ptr \n",
    "        s_ptr += 1\n",
    "    return num_room\n",
    "        "
   ]
  },
  {
   "cell_type": "code",
   "execution_count": 84,
   "metadata": {},
   "outputs": [
    {
     "name": "stdout",
     "output_type": "stream",
     "text": [
      "2\n",
      "1\n",
      "3\n",
      "4\n"
     ]
    }
   ],
   "source": [
    "intervals = [[0, 30],[5, 10],[15, 20]]\n",
    "print(minMeetingRooms2(intervals))\n",
    "intervals = [[7,10],[2,4]]\n",
    "print(minMeetingRooms2(intervals))\n",
    "intervals = [[7,10],[2,4], [3,4], [10,13], [0, 3], [3,6]]\n",
    "print(minMeetingRooms2(intervals))\n",
    "intervals = [[1, 10], [2, 7], [3, 19], [8, 12], [10, 20], [11, 30]]\n",
    "print(minMeetingRooms2(intervals))"
   ]
  },
  {
   "cell_type": "code",
   "execution_count": null,
   "metadata": {},
   "outputs": [],
   "source": []
  },
  {
   "cell_type": "markdown",
   "metadata": {},
   "source": [
    "## Problem 3: Leetcode 452. Minimum Number of Arrows to Burst Balloons\n",
    "https://leetcode.com/problems/minimum-number-of-arrows-to-burst-balloons/"
   ]
  },
  {
   "cell_type": "code",
   "execution_count": null,
   "metadata": {},
   "outputs": [],
   "source": [
    "'''\n",
    "There are a number of spherical balloons spread in two-dimensional space. \n",
    "For each balloon, provided input is the start and end coordinates of the horizontal diameter.\n",
    "Since it's horizontal, y-coordinates don't matter and hence the x-coordinates of start and end of the diameter suffice. \n",
    "Start is always smaller than end. There will be at most 104 balloons.\n",
    "\n",
    "An arrow can be shot up exactly vertically from different points along the x-axis.\n",
    "A balloon with xstart and xend bursts by an arrow shot at x if xstart ≤ x ≤ xend. \n",
    "There is no limit to the number of arrows that can be shot. An arrow once shot keeps travelling up infinitely. \n",
    "The problem is to find the minimum number of arrows that must be shot to burst all balloons.\n",
    "\n",
    "e.g \n",
    "Input:\n",
    "[[10,16], [2,8], [1,6], [7,12]]\n",
    "\n",
    "Output:\n",
    "2\n",
    "\n",
    "Explanation:\n",
    "One way is to shoot one arrow for example at x = 6 \n",
    "(bursting the balloons [2,8] and [1,6]) and another arrow at x = 11 (bursting the other two balloons).\n",
    "'''"
   ]
  },
  {
   "cell_type": "code",
   "execution_count": 57,
   "metadata": {},
   "outputs": [],
   "source": [
    "Here I provide a concise template that I summarize for the so-called \"Overlapping Interval Problem\", \n",
    "e.g. Minimum Number of Arrows to Burst Balloons, and Non-overlapping Intervals etc. I found these problems share some similarities on their solutions.\n",
    "\n",
    "1. Sort intervals/pairs in increasing order of the start position.\n",
    "2. Scan the sorted intervals, and maintain an \"active set\" for overlapping intervals. \n",
    "   At most times, we do not need to use an explicit set to store them. Instead, we just need to maintain several key parameters,\n",
    "    e.g. the number of overlapping intervals (count), the minimum ending point among all overlapping intervals (minEnd).\n",
    "3. If the interval that we are currently checking overlaps with the active set, \n",
    "   which can be characterized by cur.start > minEnd, we need to renew those key parameters or change some states.\n",
    "4. If the current interval does not overlap with the active set, we just drop current active set, record some parameters, \n",
    "   and create a new active set that contains the current interval.\n",
    "        "
   ]
  },
  {
   "cell_type": "code",
   "execution_count": 77,
   "metadata": {},
   "outputs": [],
   "source": [
    "# method 1 sort the start\n",
    "def findMinArrowShots1(points):\n",
    "    if not points:\n",
    "        return 0\n",
    "    points = sorted(points, key=lambda x: x[0])\n",
    "    \n",
    "    # num_arrow, cur_end are the \"active set\",\n",
    "    cur_end = points[0][1]\n",
    "    num_arraow = 1\n",
    "    \n",
    "    for start, end in points[1:]:\n",
    "        # case 1: next start > cur end, 一根针戳不了啊~呜呜呜只能再来一根针了，好消息是我们只要拿end作为cur_end就可以了\n",
    "        # 因为经过排序，后面的points的start只会比这个start还要大\n",
    "        if start > cur_end:\n",
    "            num_arraow += 1\n",
    "            cur_end = end\n",
    "        # case 2: next start <= cur end, 重合了，不必多余浪费的针了，但是要update cur_end = min(cur_end, end)\n",
    "        # 因为 生怕下一个还可能不需要额外的针，e.g. [1,10],[2,6],[3,5] -> 一根针搞定！\n",
    "        else:\n",
    "            cur_end = min(cur_end, end)\n",
    "    return num_arraow\n",
    "            \n",
    "    \n",
    "            "
   ]
  },
  {
   "cell_type": "code",
   "execution_count": 78,
   "metadata": {},
   "outputs": [
    {
     "name": "stdout",
     "output_type": "stream",
     "text": [
      "2\n",
      "2\n",
      "2\n",
      "2\n"
     ]
    }
   ],
   "source": [
    "points = [[10,16], [2,8], [1,6], [7,12]]\n",
    "print(findMinArrowShots1(points))\n",
    "points = [[1,2], [2,3], [3,4], [4,5]]\n",
    "print(findMinArrowShots1(points))\n",
    "points = [[1,8],[2,6],[7,12]]\n",
    "print(findMinArrowShots1(points))\n",
    "points = [[1,10],[2,3],[4,6]]\n",
    "print(findMinArrowShots1(points))"
   ]
  },
  {
   "cell_type": "code",
   "execution_count": 67,
   "metadata": {},
   "outputs": [],
   "source": [
    "# method 2: sort the end \n",
    "def findMinArrowShots(points):\n",
    "    if not points:\n",
    "            return 0\n",
    "    points = sorted(points, key=lambda x:x[1])\n",
    "    num_arrow = 1\n",
    "    cur_end_pos = points[0][1]\n",
    "        \n",
    "    for point in points[1:]:\n",
    "        # case 1: the start pos is less than or equal to the cur end pos, then pass\n",
    "        # e.g. [1,6], [2,7]\n",
    "        if cur_end_pos >= point[0]:\n",
    "            pass\n",
    "        else:\n",
    "            num_arrow += 1\n",
    "            cur_end_pos = point[1]\n",
    "    return num_arrow"
   ]
  },
  {
   "cell_type": "code",
   "execution_count": 68,
   "metadata": {},
   "outputs": [
    {
     "name": "stdout",
     "output_type": "stream",
     "text": [
      "2\n",
      "2\n",
      "2\n",
      "2\n",
      "1\n"
     ]
    }
   ],
   "source": [
    "points = [[10,16], [2,8], [1,6], [7,12]]\n",
    "print(findMinArrowShots(points))\n",
    "points = [[1,2], [2,3], [3,4], [4,5]]\n",
    "print(findMinArrowShots(points))\n",
    "points = [[1,8],[2,6],[7,12]]\n",
    "print(findMinArrowShots(points))\n",
    "points = [[1,10],[2,3],[4,6]]\n",
    "print(findMinArrowShots(points))\n",
    "points = [[1,2],[2,3]]\n",
    "print(findMinArrowShots(points))"
   ]
  },
  {
   "cell_type": "code",
   "execution_count": null,
   "metadata": {},
   "outputs": [],
   "source": []
  },
  {
   "cell_type": "markdown",
   "metadata": {},
   "source": [
    "## Problem 4: Leetcode 435. Non-overlapping Intervals\n",
    "https://leetcode.com/problems/non-overlapping-intervals/"
   ]
  },
  {
   "cell_type": "code",
   "execution_count": null,
   "metadata": {},
   "outputs": [],
   "source": [
    "'''\n",
    "Given a collection of intervals, find the minimum number of intervals \n",
    "you need to remove to make the rest of the intervals non-overlapping.\n",
    "\n",
    "Note:\n",
    "1. You may assume the interval's end point is always bigger than its start point.\n",
    "2. Intervals like [1,2] and [2,3] have borders \"touching\" but they don't overlap each other.\n",
    "\n",
    "e.g \n",
    "Input: [[1,2],[2,3],[3,4],[1,3]]\n",
    "Output: 1\n",
    "Explanation: [1,3] can be removed and the rest of intervals are non-overlapping.\n",
    "\n",
    "Input: [[1,2],[1,2],[1,2]]\n",
    "Output: 2\n",
    "Explanation: You need to remove two [1,2] to make the rest of intervals non-overlapping.\n",
    "\n",
    "Input: [[1,2],[2,3]]\n",
    "Output: 0\n",
    "Explanation: You don't need to remove any of the intervals since they're already non-overlapping.\n",
    "'''"
   ]
  },
  {
   "cell_type": "code",
   "execution_count": 47,
   "metadata": {},
   "outputs": [],
   "source": [
    "def eraseOverlapIntervals(intervals):\n",
    "    if not intervals:\n",
    "        return 0\n",
    "    \n",
    "    intervals = sorted(intervals, key=lambda x: (x[1], x[0]))\n",
    "    num_removal = 0\n",
    "    cur_end = intervals[0][1]\n",
    "    \n",
    "    for start, end in intervals[1:]:\n",
    "        # case 1: if the start time of the next is larger than or equal to the current, do not need to remove and reset \n",
    "        # current end \n",
    "        if start >= cur_end:\n",
    "            cur_end = end\n",
    "        else:\n",
    "            num_removal += 1\n",
    "    return num_removal\n",
    "    "
   ]
  },
  {
   "cell_type": "code",
   "execution_count": 48,
   "metadata": {},
   "outputs": [
    {
     "name": "stdout",
     "output_type": "stream",
     "text": [
      "1\n",
      "2\n",
      "0\n"
     ]
    }
   ],
   "source": [
    "intervals = [[1,2],[2,3],[3,4],[1,3]]\n",
    "print(eraseOverlapIntervals(intervals))\n",
    "intervals = [[1,2],[1,2],[1,2]]\n",
    "print(eraseOverlapIntervals(intervals))\n",
    "intervals = [[1,2],[2,3]]\n",
    "print(eraseOverlapIntervals(intervals))"
   ]
  },
  {
   "cell_type": "code",
   "execution_count": null,
   "metadata": {},
   "outputs": [],
   "source": []
  },
  {
   "cell_type": "markdown",
   "metadata": {},
   "source": [
    "## Problem 5: Leetcode 1094. Car Pooling\n",
    "https://leetcode.com/problems/car-pooling/"
   ]
  },
  {
   "cell_type": "code",
   "execution_count": null,
   "metadata": {},
   "outputs": [],
   "source": [
    "'''\n",
    "You are driving a vehicle that has capacity empty seats initially available for passengers. \n",
    "The vehicle only drives east (ie. it cannot turn around and drive west.)\n",
    "\n",
    "Given a list of trips, trip[i] = [num_passengers, start_location, end_location] \n",
    "contains information about the i-th trip: the number of passengers that must be picked up, \n",
    "and the locations to pick them up and drop them off.  \n",
    "The locations are given as the number of kilometers due east from your vehicle's initial location.\n",
    "\n",
    "Return true if and only if it is possible to pick up and drop off all passengers for all the given trips. \n",
    "\n",
    "Input: trips = [[2,1,5],[3,3,7]], capacity = 4\n",
    "Output: false\n",
    "\n",
    "Input: trips = [[2,1,5],[3,3,7]], capacity = 5\n",
    "Output: true\n",
    "\n",
    "Input: trips = [[2,1,5],[3,5,7]], capacity = 3\n",
    "Output: true\n",
    "'''"
   ]
  },
  {
   "cell_type": "code",
   "execution_count": 63,
   "metadata": {},
   "outputs": [],
   "source": [
    "def carPooling(trips, capacity):\n",
    "    # reference: https://leetcode.com/problems/car-pooling/discuss/399018/Python-heap-solution-with-explanation\n",
    "    \n",
    "    # sort the trips by the starting point since the car cannot turn around\n",
    "    trips = sorted(trips, key=lambda x: x[1])\n",
    "    \n",
    "    # total: tracks the #passengers onboard currently\n",
    "    # heap: maintains the group of passengers sorted by the end point of the trip\n",
    "    import heapq\n",
    "    total, heap = 0, []\n",
    "    \n",
    "    for num, start, end in trips:\n",
    "        # if any passenger onboard has arrived\n",
    "        while heap and heap[0][0] <= start:\n",
    "            # let them go and substract the number from the total\n",
    "            _, num_off = heapq.heappop(heap)\n",
    "            total -= num_off\n",
    "        \n",
    "        # add the number of \"in\"\n",
    "        total += num\n",
    "        # if over-capacity, false\n",
    "        if total > capacity:\n",
    "            return False\n",
    "        # if holds, add the group th the heap identified by their end time\n",
    "        heapq.heappush(heap, (end, num))\n",
    "    return True\n",
    "    "
   ]
  },
  {
   "cell_type": "code",
   "execution_count": 34,
   "metadata": {},
   "outputs": [],
   "source": [
    "# 第二次做\n",
    "def carPooling(trips, capacity):\n",
    "    # why using min-heap, to keep the earliest end time (greedy)\n",
    "    trips = sorted(trips, key=lambda x: x[1])\n",
    "    import heapq\n",
    "    heap = [] # maintains endtime and num\n",
    "    total = 0 # simulate the current total amount of passengers\n",
    "    \n",
    "    for num, start, end in trips:\n",
    "        \n",
    "        # 先下车， 只要下一班的start >= 之前的end， 就下车！！ since heap may store multiple endtime, we will use while loop \n",
    "        while heap and start >= heap[0][0]:\n",
    "            _, n = heapq.heappop(heap)\n",
    "            total -= n # 下车\n",
    "        \n",
    "        # 再上车\n",
    "        total += num\n",
    "        if total > capacity:\n",
    "            return False\n",
    "        heapq.heappush(heap, (end, num))\n",
    "        \n",
    "    return True\n",
    "        "
   ]
  },
  {
   "cell_type": "code",
   "execution_count": 35,
   "metadata": {},
   "outputs": [
    {
     "name": "stdout",
     "output_type": "stream",
     "text": [
      "False\n",
      "True\n",
      "True\n"
     ]
    }
   ],
   "source": [
    "trips = [[2,1,5],[3,3,7]]\n",
    "capacity = 4\n",
    "print(carPooling(trips, capacity))\n",
    "trips = [[2,1,5],[3,3,7]]\n",
    "capacity = 5\n",
    "print(carPooling(trips, capacity))\n",
    "trips = [[2,1,5],[3,5,7],[1,3,4],[1,2,4]]\n",
    "capacity = 4\n",
    "print(carPooling(trips, capacity))"
   ]
  },
  {
   "cell_type": "code",
   "execution_count": null,
   "metadata": {},
   "outputs": [],
   "source": []
  },
  {
   "cell_type": "markdown",
   "metadata": {},
   "source": [
    "## Problem 6: Leetcode 759. Employee Free Time\n",
    "https://leetcode.com/problems/employee-free-time/"
   ]
  },
  {
   "cell_type": "code",
   "execution_count": null,
   "metadata": {},
   "outputs": [],
   "source": [
    "'''\n",
    "We are given a list schedule of employees, which represents the working time for each employee.\n",
    "\n",
    "Each employee has a list of non-overlapping Intervals, and these intervals are in sorted order.\n",
    "\n",
    "Return the list of finite intervals representing common, positive-length free time for all employees, also in sorted order.\n",
    "\n",
    "(Even though we are representing Intervals in the form [x, y], the objects inside are Intervals, not lists or arrays. \n",
    "For example, schedule[0][0].start = 1, schedule[0][0].end = 2, and schedule[0][0][0] is not defined).\n",
    "Also, we wouldn't include intervals like [5, 5] in our answer, as they have zero length.\n",
    "\n",
    "e.g 1\n",
    "Input: schedule = [[[1,2],[5,6]],[[1,3]],[[4,10]]]\n",
    "Output: [[3,4]]\n",
    "Explanation: There are a total of three employees, and all common\n",
    "free time intervals would be [-inf, 1], [3, 4], [10, inf].\n",
    "We discard any intervals that contain inf as they aren't finite.\n",
    "\n",
    "e.g 2\n",
    "Input: schedule = [[[1,3],[6,7]],[[2,4]],[[2,5],[9,12]]]\n",
    "Output: [[5,6],[7,9]]\n",
    "'''"
   ]
  },
  {
   "cell_type": "code",
   "execution_count": 110,
   "metadata": {},
   "outputs": [],
   "source": [
    "def employeeFreeTime(schedule):\n",
    "    s1 = sorted(schedule, key=lambda x: x[0])\n",
    "    #print(s1)\n",
    "    free_time = []\n",
    "    cur_end = s1[0][1]\n",
    "    for start, end in s1[1:]:\n",
    "        # case 1: if start > cur_end:  free time\n",
    "        if start > cur_end:\n",
    "            free_time.append([cur_end, start])\n",
    "            cur_end = end\n",
    "        # case 2: if start <= cur_end, no common fre time\n",
    "        else:\n",
    "            cur_end = max(cur_end, end)\n",
    "    return free_time\n",
    "    \n",
    "    "
   ]
  },
  {
   "cell_type": "code",
   "execution_count": 111,
   "metadata": {},
   "outputs": [
    {
     "name": "stdout",
     "output_type": "stream",
     "text": [
      "[[3, 4]]\n",
      "[[5, 6], [7, 9]]\n"
     ]
    }
   ],
   "source": [
    "schedule = [[1,2],[5,6],[1,3],[4,10]]\n",
    "print(employeeFreeTime(schedule))\n",
    "schedule = [[1,3], [6,7], [2,4], [2,5], [9,12]]\n",
    "print(employeeFreeTime(schedule))"
   ]
  },
  {
   "cell_type": "code",
   "execution_count": null,
   "metadata": {},
   "outputs": [],
   "source": []
  },
  {
   "cell_type": "markdown",
   "metadata": {},
   "source": [
    "## Problem 7: Leetcode 1229. Meeting Scheduler\n",
    "https://leetcode.com/problems/meeting-scheduler/"
   ]
  },
  {
   "cell_type": "code",
   "execution_count": null,
   "metadata": {},
   "outputs": [],
   "source": [
    "'''\n",
    "Given the availability time slots arrays slots1 and slots2 of two people and a meeting duration duration, \n",
    "return the earliest time slot that works for both of them and is of duration duration.\n",
    "If there is no common time slot that satisfies the requirements, return an empty array.\n",
    "The format of a time slot is an array of two elements [start, end] representing an inclusive time range from start to end.  \n",
    "It is guaranteed that no two availability slots of the same person intersect with each other. \n",
    "That is, for any two time slots [start1, end1] and [start2, end2] of the same person, either start1 > end2 or start2 > end1.\n",
    "\n",
    "Input: slots1 = [[10,50],[60,120],[140,210]], slots2 = [[0,15],[60,70]], duration = 8\n",
    "Output: [60,68]\n",
    "\n",
    "Input: slots1 = [[10,50],[60,120],[140,210]], slots2 = [[0,15],[60,70]], duration = 12\n",
    "Output: []\n",
    "'''"
   ]
  },
  {
   "cell_type": "code",
   "execution_count": 152,
   "metadata": {},
   "outputs": [],
   "source": [
    "def minAvailableDuration(slots1, slots2, duration):\n",
    "    if not slots1 or not slots2:\n",
    "        return []\n",
    "    slots1.extend(slots2)\n",
    "    slots = sorted(slots1, key=lambda x: x[0])\n",
    "    cur_end = slots[0][1]\n",
    "    for start, end in slots[1:]:\n",
    "        # case1: no intersect\n",
    "        if start >= cur_end:\n",
    "            cur_end = end\n",
    "        # case 2: intersect\n",
    "        else:\n",
    "            low, high = start, min(end, cur_end)\n",
    "            diff = high - low\n",
    "            # 2.1 if diff >= dur\n",
    "            if diff >= duration:\n",
    "                return [start, start + duration]\n",
    "            else:\n",
    "                cur_end = end\n",
    "    return []\n",
    "        \n",
    "    "
   ]
  },
  {
   "cell_type": "code",
   "execution_count": 153,
   "metadata": {},
   "outputs": [
    {
     "name": "stdout",
     "output_type": "stream",
     "text": [
      "[60, 68]\n",
      "[]\n"
     ]
    }
   ],
   "source": [
    "slots1 = [[10,50],[60,120],[140,210]]\n",
    "slots2 = [[0,15],[60,70]]\n",
    "duration = 8\n",
    "print(minAvailableDuration(slots1, slots2, duration))\n",
    "slots1 = [[10,50],[60,120],[140,210]]\n",
    "slots2 = [[0,15],[60,70]]\n",
    "duration = 12\n",
    "print(minAvailableDuration(slots1, slots2, duration))"
   ]
  },
  {
   "cell_type": "code",
   "execution_count": null,
   "metadata": {},
   "outputs": [],
   "source": []
  },
  {
   "cell_type": "code",
   "execution_count": null,
   "metadata": {},
   "outputs": [],
   "source": []
  },
  {
   "cell_type": "markdown",
   "metadata": {},
   "source": [
    "## Problem 8: Lintcode 391. Number of Airplanes in the Sky\n",
    "https://www.lintcode.com/problem/number-of-airplanes-in-the-sky/description"
   ]
  },
  {
   "cell_type": "code",
   "execution_count": null,
   "metadata": {},
   "outputs": [],
   "source": [
    "'''\n",
    "Given an list interval, which are taking off and landing time of the flight.\n",
    "How many airplanes are there at most at the same time in the sky?\n",
    "\n",
    "Note: If landing and taking off of different planes happen at the same time, we consider landing should happen at first.\n",
    "\n",
    "e.g 1\n",
    "Input: [(1, 10), (2, 3), (5, 8), (4, 7)]\n",
    "Output: 3\n",
    "Explanation:\n",
    "The first airplane takes off at 1 and lands at 10.\n",
    "The second ariplane takes off at 2 and lands at 3.\n",
    "The third ariplane takes off at 5 and lands at 8.\n",
    "The forth ariplane takes off at 4 and lands at 7.\n",
    "During 5 to 6, there are three airplanes in the sky.\n",
    "\n",
    "e.g 2\n",
    "Input: [(1, 2), (2, 3), (3, 4)]\n",
    "Output: 1\n",
    "Explanation: Landing happen before taking off.\n",
    "\n",
    "'''"
   ]
  },
  {
   "cell_type": "code",
   "execution_count": 3,
   "metadata": {},
   "outputs": [],
   "source": [
    "# method 1: greedy with min-heap\n",
    "def countOfAirplanes(airplanes):\n",
    "    airplanes = sorted(airplanes, key=lambda x: x[0])\n",
    "    \n",
    "    import heapq\n",
    "    heap = []\n",
    "    heapq.heappush(heap, airplanes[0][1])\n",
    "    \n",
    "    for start, end in airplanes[1:]:\n",
    "        # case 1: the start of next plane >= the current end, okay, and add the end to the heap\n",
    "        if start >= heap[0]:\n",
    "            heapq.heappop(heap)\n",
    "            heapq.heappush(heap, end)\n",
    "        else:\n",
    "            heapq.heappush(heap, end)\n",
    "    return len(heap)"
   ]
  },
  {
   "cell_type": "code",
   "execution_count": 4,
   "metadata": {},
   "outputs": [
    {
     "name": "stdout",
     "output_type": "stream",
     "text": [
      "3\n",
      "1\n"
     ]
    }
   ],
   "source": [
    "airplanes = [(1, 10), (2, 3), (5, 8), (4, 7)]\n",
    "print(countOfAirplanes(airplanes))\n",
    "airplanes = [(1, 2), (2, 3), (3, 4)]\n",
    "print(countOfAirplanes(airplanes))"
   ]
  },
  {
   "cell_type": "code",
   "execution_count": 9,
   "metadata": {},
   "outputs": [],
   "source": [
    "# method 2: chronological sorting\n",
    "# we do not care the exact plane that taking off or landing, but we just need to know there did a plane take off and land\n",
    "# when a plane takes off before another one has landed, we do not need allocate an extra space for this plane  \n",
    "def countOfAirplanes2(airplanes):\n",
    "    airplanes = sorted(airplanes, key=lambda x:x[0])\n",
    "    # separate the start and end\n",
    "    start, end = [], []\n",
    "    for u, v in airplanes:\n",
    "        start.append(u)\n",
    "        end.append(v)\n",
    "    start.sort()\n",
    "    end.sort()\n",
    "    \n",
    "    num_plane = 0\n",
    "    s_ptr, e_ptr = 0, 0\n",
    "    while s_ptr < len(start):\n",
    "        # case 1: if start[s_ptr] >= end[e_ptr], it represents that a plane has landed, and we don't need to add \n",
    "        # but move forward two pointers\n",
    "        if start[s_ptr] >= end[e_ptr]:\n",
    "            s_ptr += 1\n",
    "            e_ptr += 1\n",
    "        # case 2: if start[s_ptr] < end[e_ptr]\n",
    "        else:\n",
    "            num_plane += 1\n",
    "            s_ptr += 1\n",
    "    return num_plane"
   ]
  },
  {
   "cell_type": "code",
   "execution_count": 10,
   "metadata": {},
   "outputs": [
    {
     "name": "stdout",
     "output_type": "stream",
     "text": [
      "3\n",
      "1\n"
     ]
    }
   ],
   "source": [
    "airplanes = [(1, 10), (2, 3), (5, 8), (4, 7)]\n",
    "print(countOfAirplanes2(airplanes))\n",
    "airplanes = [(1, 2), (2, 3), (3, 4)]\n",
    "print(countOfAirplanes2(airplanes))"
   ]
  },
  {
   "cell_type": "code",
   "execution_count": null,
   "metadata": {},
   "outputs": [],
   "source": []
  },
  {
   "cell_type": "markdown",
   "metadata": {},
   "source": [
    "## Problem 9: Lintcode 821. Time Intersection\n",
    "https://www.lintcode.com/problem/time-intersection/description"
   ]
  },
  {
   "cell_type": "code",
   "execution_count": null,
   "metadata": {},
   "outputs": [],
   "source": [
    "'''\n",
    "Give two users' ordered online time series, and each section records the user's login time point x and offline time point y.\n",
    "Find out the time periods when both users are online at the same time, and output in ascending order.\n",
    "you need return a list of intervals.\n",
    "\n",
    "e.g 1\n",
    "Input: seqA = [(1,2),(5,100)], seqB = [(1,6)]\n",
    "Output: [(1,2),(5,6)]\n",
    "Explanation: In these two time periods (1,2), (5,6), both users are online at the same time.\n",
    "\n",
    "e.g 2\n",
    "Input: seqA = [(1,2),(10,15)], seqB = [(3,5),(7,9)]\n",
    "Output: []\n",
    "Explanation: There is no time period, both users are online at the same time.\n",
    "\n",
    "'''"
   ]
  },
  {
   "cell_type": "code",
   "execution_count": null,
   "metadata": {},
   "outputs": [],
   "source": [
    "'''\n",
    "这个题的做法很像merge排序的merge部分。首先复习一下Merge部分：把两个有序的数组合并成一个更大的有序数组，\n",
    "使用双指针从两个数组开始向后遍历，每次把较小的数字放到新的位置并将该指针后移，直到两个指针全部到达末尾。\n",
    "\n",
    "这个题较为复杂的是一个区间包含了开始和结束两部分，两个区间的交集需要由两个区间的开始和结束共同决定。\n",
    "我画了一个图，说明了总的只有这6种相交的状态。https://blog.csdn.net/fuxuemingzhu/article/details/87729287\n",
    "\n",
    "'''"
   ]
  },
  {
   "cell_type": "code",
   "execution_count": 26,
   "metadata": {},
   "outputs": [],
   "source": [
    "# naive version\n",
    "def timeIntersection(A, B):\n",
    "    if not A or not B:\n",
    "        return []\n",
    "    i, j = 0, 0\n",
    "    output = []\n",
    "    \n",
    "    while i < len(A) and j < len(B):\n",
    "        # case 1: no intersection (1) e.g A[i] = [1, 3], B[j] = [4, 6] -> discard A[i], i.e. i++\n",
    "        if A[i][1] < B[j][0]:\n",
    "            i += 1\n",
    "        \n",
    "        # case 2: no intersection (2) e.g. A[i] = [4,6], B[j] = [1,3] -> discard B[j] i.e. j++\n",
    "        elif A[i][0] > B[j][1]:\n",
    "            j += 1\n",
    "        \n",
    "        # case 3: intersection, we define low and high bound for intersection\n",
    "        else:\n",
    "            low = max(A[i][0], B[j][0])\n",
    "            high = min(A[i][1], B[j][1])\n",
    "            output.append([low, high])\n",
    "            # then discard the interval depends on the end time\n",
    "            if A[i][1] == B[j][1]:\n",
    "                i += 1\n",
    "                j += 1\n",
    "            elif A[i][1] < B[j][1]:\n",
    "                i += 1\n",
    "            else:\n",
    "                j += 1\n",
    "    return output\n",
    "        \n",
    "    "
   ]
  },
  {
   "cell_type": "code",
   "execution_count": 27,
   "metadata": {},
   "outputs": [
    {
     "name": "stdout",
     "output_type": "stream",
     "text": [
      "[[1, 2], [5, 6]]\n",
      "[]\n"
     ]
    }
   ],
   "source": [
    "seqA = [(1,2),(5,100)]\n",
    "seqB = [(1,6)]\n",
    "print(timeIntersection(seqA, seqB))\n",
    "seqA = [(1,2),(10,15)]\n",
    "seqB = [(3,5),(7,9)]\n",
    "print(timeIntersection(seqA, seqB))"
   ]
  },
  {
   "cell_type": "code",
   "execution_count": 30,
   "metadata": {},
   "outputs": [],
   "source": [
    "# advanced version: short code for checking intersection!!!!!\n",
    "def timeIntersection2(A, B):\n",
    "    if not A or not B:\n",
    "        return []\n",
    "    \n",
    "    i, j = 0, 0\n",
    "    output = []\n",
    "    \n",
    "    while i < len(A) and j < len(B):\n",
    "        # an easy way to check intersection\n",
    "        low = max(A[i][0], B[j][0])\n",
    "        high = min(A[i][1], B[j][1])\n",
    "        \n",
    "        # intersect\n",
    "        if low <= high:\n",
    "            output.append([low, high])\n",
    "            \n",
    "        # discard based on end time\n",
    "        if A[i][1] == B[j][1]:\n",
    "            i += 1\n",
    "            j += 1\n",
    "        elif A[i][1] > B[j][1]:\n",
    "            j += 1\n",
    "        else:\n",
    "            i += 1\n",
    "    return output"
   ]
  },
  {
   "cell_type": "code",
   "execution_count": 31,
   "metadata": {},
   "outputs": [
    {
     "name": "stdout",
     "output_type": "stream",
     "text": [
      "[[1, 2], [5, 6]]\n",
      "[]\n"
     ]
    }
   ],
   "source": [
    "seqA = [(1,2),(5,100)]\n",
    "seqB = [(1,6)]\n",
    "print(timeIntersection2(seqA, seqB))\n",
    "seqA = [(1,2),(10,15)]\n",
    "seqB = [(3,5),(7,9)]\n",
    "print(timeIntersection2(seqA, seqB))"
   ]
  },
  {
   "cell_type": "code",
   "execution_count": null,
   "metadata": {},
   "outputs": [],
   "source": []
  },
  {
   "cell_type": "markdown",
   "metadata": {},
   "source": [
    "## Problem 10: Leetcode 1353. Maximum Number of Events That Can Be Attended\n",
    "https://leetcode.com/problems/maximum-number-of-events-that-can-be-attended/"
   ]
  },
  {
   "cell_type": "code",
   "execution_count": null,
   "metadata": {},
   "outputs": [],
   "source": [
    "'''\n",
    "Given an array of events where events[i] = [startDayi, endDayi].\n",
    "Every event i starts at startDayi and ends at endDayi.\n",
    "\n",
    "You can attend an event i at any day d where startTimei <= d <= endTimei. \n",
    "Notice that you can only attend one event at any time d.\n",
    "\n",
    "Return the maximum number of events you can attend.\n",
    "\n",
    "Input: events = [[1,2],[2,3],[3,4]]\n",
    "Output: 3\n",
    "Explanation: You can attend all the three events.\n",
    "One way to attend them all is as shown.\n",
    "Attend the first event on day 1.\n",
    "Attend the second event on day 2.\n",
    "Attend the third event on day 3.\n",
    "\n",
    "Input: events= [[1,2],[2,3],[3,4],[1,2]]\n",
    "Output: 4\n",
    "\n",
    "Input: events = [[1,4],[4,4],[2,2],[3,4],[1,1]]\n",
    "Output: 4\n",
    "\n",
    "Input: events = [[1,1],[1,2],[1,3],[1,4],[1,5],[1,6],[1,7]]\n",
    "Output: 7\n",
    "'''"
   ]
  },
  {
   "cell_type": "code",
   "execution_count": null,
   "metadata": {},
   "outputs": [],
   "source": [
    "'''\n",
    "Sol'n: https://leetcode.com/problems/maximum-number-of-events-that-can-be-attended/discuss/510262/Detailed-analysisLet-me-lead-you-to-the-solution-step-by-step\n",
    "Greedy: \n",
    "As we go through each days to figure out the availability of each events, \n",
    "it is very intuitive to first sort the events by the starting day of the events. \n",
    "Then the question is, how to find out which (still available) event ends the earliest? \n",
    "It seems that we need to sort the currently available events according to the ending day of the events. How to do that? \n",
    "Again, the interviewers don't expect you to invent something realy new! \n",
    "What data structures / algorithm have you learned that can efficiently keep track of the biggest value, \n",
    "while you can dynamically add and remove elements? \n",
    "Yes! Binary search/insert and min/max heap! Obviously, heap is more efficient than binary search, \n",
    "because adding/removing an elements after doing binary search can potentionally cause linear time complexity.\n",
    "'''"
   ]
  },
  {
   "cell_type": "code",
   "execution_count": 116,
   "metadata": {},
   "outputs": [],
   "source": [
    "def maxEvents(events):\n",
    "    if not events:\n",
    "        return 0\n",
    "    # sort the events by starting time\n",
    "    events = sorted(events, key=lambda x: x[0])\n",
    "    # find the latest time\n",
    "    total_days = max(event[1] for event in events)\n",
    "    import heapq\n",
    "    min_heap = []\n",
    "    event_id, cnt, day = 0, 0, events[0][0]\n",
    "    \n",
    "    while day <= total_days:\n",
    "        # all events starting from today are newly available. add them to the heap.\n",
    "        while event_id < len(events) and events[event_id][0] <= day:\n",
    "            heapq.heappush(min_heap, events[event_id][1])\n",
    "            event_id += 1\n",
    "            \n",
    "        # if the event at heap top already ended, then discard it.\n",
    "        while min_heap and min_heap[0] < day:\n",
    "            heapq.heappop(min_heap)\n",
    "        \n",
    "        # attend the event that will end the earliest\n",
    "        if min_heap:\n",
    "            heapq.heappop(min_heap)\n",
    "            cnt += 1\n",
    "        # no more events to attend. so stop early to save time.\n",
    "        elif event_id >= len(events):\n",
    "            break  \n",
    "        day += 1\n",
    "    return cnt   \n",
    "            \n"
   ]
  },
  {
   "cell_type": "code",
   "execution_count": 117,
   "metadata": {},
   "outputs": [
    {
     "name": "stdout",
     "output_type": "stream",
     "text": [
      "3\n",
      "4\n",
      "4\n",
      "7\n"
     ]
    }
   ],
   "source": [
    "events= [[1,2],[2,3],[3,4]]\n",
    "print(maxEvents(events))\n",
    "events= [[1,2],[2,3],[3,4],[1,2]]\n",
    "print(maxEvents(events))\n",
    "events= [[1,4],[4,4],[2,2],[3,4],[1,1]]\n",
    "print(maxEvents(events))\n",
    "events = [[1,1],[1,2],[1,3],[1,4],[1,5],[1,6],[1,7]]\n",
    "print(maxEvents(events))"
   ]
  },
  {
   "cell_type": "code",
   "execution_count": null,
   "metadata": {},
   "outputs": [],
   "source": []
  },
  {
   "cell_type": "markdown",
   "metadata": {},
   "source": [
    "## Problem 11: Leetcode 986. Interval List Intersections\n",
    "https://leetcode.com/problems/interval-list-intersections/"
   ]
  },
  {
   "cell_type": "code",
   "execution_count": null,
   "metadata": {},
   "outputs": [],
   "source": [
    "'''\n",
    "这道题和 time intersection 一样！！\n",
    "'''"
   ]
  },
  {
   "cell_type": "code",
   "execution_count": null,
   "metadata": {},
   "outputs": [],
   "source": [
    "'''\n",
    "Given two lists of closed intervals, each list of intervals is pairwise disjoint and in sorted order.\n",
    "\n",
    "Return the intersection of these two interval lists.\n",
    "\n",
    "(Formally, a closed interval [a, b] (with a <= b) denotes the set of real numbers x with a <= x <= b. \n",
    "The intersection of two closed intervals is a set of real numbers that is either empty, \n",
    "or can be represented as a closed interval.  For example, the intersection of [1, 3] and [2, 4] is [2, 3].)\n",
    "\n",
    "e.g \n",
    "Input: A = [[0,2],[5,10],[13,23],[24,25]], B = [[1,5],[8,12],[15,24],[25,26]]\n",
    "Output: [[1,2],[5,5],[8,10],[15,23],[24,24],[25,25]]\n",
    "Reminder: The inputs and the desired output are lists of Interval objects, and not arrays or lists.\n",
    "\n",
    "'''"
   ]
  },
  {
   "cell_type": "code",
   "execution_count": 32,
   "metadata": {},
   "outputs": [],
   "source": [
    "def intervalIntersection(A, B):\n",
    "    i, j= 0, 0\n",
    "    output = []\n",
    "    \n",
    "    # i, j 同时满足，只要有一个走到头就结束\n",
    "    while i < len(A) and j < len(B):\n",
    "        low = max(A[i][0], B[j][0])\n",
    "        high = min(A[i][1], B[j][1])\n",
    "        if low <= high:\n",
    "            output.append([low, high])\n",
    "            \n",
    "        if A[i][1] == B[j][1]:\n",
    "            i += 1\n",
    "            j += 1\n",
    "        elif A[i][1] > B[j][1]:\n",
    "            j += 1\n",
    "        else:\n",
    "            i += 1\n",
    "    return output\n",
    "        \n",
    "        \n",
    "    "
   ]
  },
  {
   "cell_type": "code",
   "execution_count": 33,
   "metadata": {},
   "outputs": [
    {
     "name": "stdout",
     "output_type": "stream",
     "text": [
      "[[1, 2], [5, 5], [8, 10], [15, 23], [24, 24], [25, 25]]\n"
     ]
    }
   ],
   "source": [
    "A = [[0,2],[5,10],[13,23],[24,25]]\n",
    "B = [[1,5],[8,12],[15,24],[25,26]]\n",
    "print(intervalIntersection(A, B))"
   ]
  }
 ],
 "metadata": {
  "kernelspec": {
   "display_name": "Python 3",
   "language": "python",
   "name": "python3"
  },
  "language_info": {
   "codemirror_mode": {
    "name": "ipython",
    "version": 3
   },
   "file_extension": ".py",
   "mimetype": "text/x-python",
   "name": "python",
   "nbconvert_exporter": "python",
   "pygments_lexer": "ipython3",
   "version": "3.6.5"
  }
 },
 "nbformat": 4,
 "nbformat_minor": 2
}
