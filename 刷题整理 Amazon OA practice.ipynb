{
 "cells": [
  {
   "cell_type": "markdown",
   "metadata": {},
   "source": [
    "## Probelm 1: Top K mentioned keywords\n",
    "https://leetcode.com/discuss/interview-question/542597/\n",
    "\n",
    "或者 lintcode link: https://www.lintcode.com/problem/top-k-frequently-mentioned-keywords/description"
   ]
  },
  {
   "cell_type": "code",
   "execution_count": null,
   "metadata": {},
   "outputs": [],
   "source": [
    "'''\n",
    "Given a list of reviews, a list of keywords and an integer k. \n",
    "Find the most popular k keywords in order of most to least frequently mentioned.\n",
    "\n",
    "The comparison of strings is case-insensitive. \n",
    "If keywords are mentioned an equal number of times in reviews, sort alphabetically.\n",
    "\n",
    "Example 1:\n",
    "\n",
    "Input:\n",
    "k = 2\n",
    "keywords = [\"anacell\", \"cetracular\", \"betacellular\"]\n",
    "reviews = [\n",
    "  \"Anacell provides the best services in the city\",\n",
    "  \"betacellular has awesome services\",\n",
    "  \"Best services provided by anacell, everyone should use anacell\",\n",
    "]\n",
    "\n",
    "Output:\n",
    "[\"anacell\", \"betacellular\"]\n",
    "\n",
    "Explanation:\n",
    "\"anacell\" is occuring in 2 different reviews and \"betacellular\" is only occuring in 1 review.\n",
    "Example 2:\n",
    "\n",
    "Input:\n",
    "k = 2\n",
    "keywords = [\"anacell\", \"betacellular\", \"cetracular\", \"deltacellular\", \"eurocell\"]\n",
    "reviews = [\n",
    "  \"I love anacell Best services; Best services provided by anacell\",\n",
    "  \"betacellular has great services\",\n",
    "  \"deltacellular provides much better services than betacellular\",\n",
    "  \"cetracular is worse than anacell\",\n",
    "  \"Betacellular is better than deltacellular.\",\n",
    "]\n",
    "\n",
    "Output:\n",
    "[\"betacellular\", \"anacell\"]\n",
    "\n",
    "Explanation:\n",
    "\"betacellular\" is occuring in 3 different reviews. \"anacell\" and \"deltacellular\" are occuring in 2 reviews, \n",
    "but \"anacell\" is lexicographically smaller.\n",
    "'''"
   ]
  },
  {
   "cell_type": "code",
   "execution_count": null,
   "metadata": {},
   "outputs": [],
   "source": [
    "'''\n",
    "思路：\n",
    "step 1: 现预处理： \n",
    "     (a). 符号问题 （把所有的符号 -> ''）\n",
    "     (b). 大小写\n",
    "     (c). 按空格切分\n",
    "step 2: 记录每个单词的出现次数；\n",
    "step 3: 按出现次数降序排序，按字典序升序排序。\n",
    "'''"
   ]
  },
  {
   "cell_type": "code",
   "execution_count": 156,
   "metadata": {},
   "outputs": [],
   "source": [
    "# 实验\n",
    "reviews = [\n",
    "  \"I love anacell Best services; Best services provided by anacell\",\n",
    "  \"betacellular has great services\",\n",
    "  \"deltacellular provides much better services than betacellular\",\n",
    "  \"cetracular is worse than anacell\",\n",
    "  \"Betacellular is better than deltacellular.\",\n",
    "]\n",
    "keywords = [\"anacell\", \"cetracular\", \"betacellular\"]\n",
    "word_list = []\n",
    "import re\n",
    "for review in reviews:\n",
    "    review = review.lower().split(' ')\n",
    "    for word in review:\n",
    "        word = re.sub('[^a-z]', '', word)\n",
    "        word_list.append(word)"
   ]
  },
  {
   "cell_type": "code",
   "execution_count": 292,
   "metadata": {},
   "outputs": [],
   "source": [
    "import re\n",
    "from functools import cmp_to_key\n",
    "class Word():\n",
    "    \n",
    "    def __init__(self, word):\n",
    "        self.word = word\n",
    "        self.freq = 0\n",
    "    \n",
    "def TopkKeywords(K, keywords, reviews):\n",
    "    res = []\n",
    "    keyword_dict = {keyword:Word(keyword) for keyword in keywords}\n",
    "    for review in reviews:\n",
    "        review = review.lower().split(' ')\n",
    "        temp_list = []\n",
    "        for word in review:\n",
    "            word = re.sub('[^a-z]', '', word)\n",
    "            temp_list.append(word)\n",
    "        temp_list_set = set(temp_list)\n",
    "        for keyword in keywords:\n",
    "            if keyword in temp_list_set:\n",
    "                keyword_dict[keyword].freq += 1\n",
    "    candidates = [keyword for keyword in keyword_dict.values()]\n",
    "    candidates.sort(key = cmp_to_key(cmp))\n",
    "    n = min(K, len(candidates))\n",
    "    for k in range(n):\n",
    "        res.append(candidates[k].word)\n",
    "    return res\n",
    "            \n",
    "def cmp(word1, word2):\n",
    "    '''\n",
    "    -1: 不换位置！ 1：换位置 \n",
    "    '''\n",
    "    # 如果 word1.freq < word2.freq -> 1 -> 交换 word1 和 word2 的位置！！ 否则不交换\n",
    "    if word1.freq != word2.freq:\n",
    "        return word2.freq - word1.freq\n",
    "    # 如果 word1 的字母序 < word2 的字母序 -> -1 -> 交换； 否则不交换！！\n",
    "    if word1.word < word2.word:\n",
    "        return -1\n",
    "    return 1\n"
   ]
  },
  {
   "cell_type": "code",
   "execution_count": 321,
   "metadata": {},
   "outputs": [
    {
     "name": "stdout",
     "output_type": "stream",
     "text": [
      "['anacell', 'betacellular']\n",
      "['betacellular', 'anacell']\n"
     ]
    }
   ],
   "source": [
    "K = 2\n",
    "keywords = [\"anacell\", \"cetracular\", \"betacellular\"]\n",
    "reviews = [\n",
    "  \"Anacell provides the best services in the city\",\n",
    "  \"betacellular has awesome services\",\n",
    "  \"Best services provided by anacell, everyone should use anacell\",\n",
    "]\n",
    "print(TopkKeywords(K, keywords, reviews))\n",
    "K = 2\n",
    "keywords = [\"anacell\", \"betacellular\", \"cetracular\", \"deltacellular\", \"eurocell\"]\n",
    "reviews = [\n",
    "  \"I love anacell Best services; Best services provided by anacell\",\n",
    "  \"betacellular has great services\",\n",
    "  \"deltacellular provides much better services than betacellular\",\n",
    "  \"cetracular is worse than anacell\",\n",
    "  \"Betacellular is better than deltacellular.\",\n",
    "]\n",
    "print(TopkKeywords(K, keywords, reviews))"
   ]
  },
  {
   "cell_type": "code",
   "execution_count": 154,
   "metadata": {},
   "outputs": [],
   "source": [
    "# 简单版： 对list进行排序 sorted(candidates, key = lambda x:(-x[1], x[0]))\n",
    "import re\n",
    "from functools import cmp_to_key\n",
    "class Solution():\n",
    "    \n",
    "    def TopkKeywords(self, K, keywords, reviews):\n",
    "        if not reviews:\n",
    "            return\n",
    "        res = []\n",
    "        keyword_dict = {keyword:0 for keyword in keywords}\n",
    "        \n",
    "        for review in reviews:\n",
    "            review = review.lower().split(' ')\n",
    "            temp_list = []\n",
    "            for word in review:\n",
    "                word = re.sub('[^a-z]','', word)\n",
    "                temp_list.append(word)\n",
    "            temp_set = set(temp_list)\n",
    "            for ele in temp_set:\n",
    "                if ele in keyword_dict:\n",
    "                    keyword_dict[ele] += 1\n",
    "        candidates = [keyword for keyword in keyword_dict.items()]\n",
    "        candidates.sort(key=lambda x: (-x[1], x[0]))\n",
    "        n = min(K, len(candidates))\n",
    "        for i in range(n):\n",
    "            res.append(candidates[i][0])\n",
    "        return res"
   ]
  },
  {
   "cell_type": "code",
   "execution_count": 150,
   "metadata": {},
   "outputs": [
    {
     "data": {
      "text/plain": [
       "[('betacellular', 3),\n",
       " ('anacell', 2),\n",
       " ('deltacellular', 2),\n",
       " ('cetracular', 1),\n",
       " ('eurocell', 0)]"
      ]
     },
     "execution_count": 150,
     "metadata": {},
     "output_type": "execute_result"
    }
   ],
   "source": [
    "\n",
    "res  = {'anacell': 2, 'betacellular': 3, 'cetracular': 1, 'deltacellular': 2, 'eurocell': 0}\n",
    "can = [('anacell', 2), ('betacellular', 3), ('cetracular', 1), ('deltacellular', 2), ('eurocell', 0)]\n",
    "#sorted(can, key=lambda x:(-x[1], x[0]))\n",
    "can.sort(key=lambda x:(-x[1], x[0]))\n",
    "can"
   ]
  },
  {
   "cell_type": "code",
   "execution_count": 155,
   "metadata": {},
   "outputs": [
    {
     "name": "stdout",
     "output_type": "stream",
     "text": [
      "['anacell', 'betacellular']\n",
      "['betacellular', 'anacell']\n"
     ]
    }
   ],
   "source": [
    "K = 2\n",
    "keywords = [\"anacell\", \"cetracular\", \"betacellular\"]\n",
    "reviews = [\n",
    "  \"Anacell provides the best services in the city\",\n",
    "  \"betacellular has awesome services\",\n",
    "  \"Best services provided by anacell, everyone should use anacell\",\n",
    "]\n",
    "s = Solution()\n",
    "print( s.TopkKeywords(K, keywords, reviews))\n",
    "K = 2\n",
    "keywords = [\"anacell\", \"betacellular\", \"cetracular\", \"deltacellular\", \"eurocell\"]\n",
    "reviews = [\n",
    "  \"I love anacell Best services; Best services provided by anacell\",\n",
    "  \"betacellular has great services\",\n",
    "  \"deltacellular provides much better services than betacellular\",\n",
    "  \"cetracular is worse than anacell\",\n",
    "  \"Betacellular is better than deltacellular.\",\n",
    "]\n",
    "s = Solution()\n",
    "print( s.TopkKeywords(K, keywords, reviews))"
   ]
  },
  {
   "cell_type": "code",
   "execution_count": 1,
   "metadata": {},
   "outputs": [
    {
     "name": "stdout",
     "output_type": "stream",
     "text": [
      "5 4\n",
      "5 5\n",
      "2 1\n",
      "1 5\n",
      "4 1\n",
      "2 3\n",
      "[(1, 5), (2, 3), (2, 1), (4, 1), (5, 5), (5, 4)]\n"
     ]
    }
   ],
   "source": [
    "import functools\n",
    "#默认为升序\n",
    "def cmp(a,b):\n",
    "    if a<b:\n",
    "        return -1\n",
    "    else :\n",
    "        return  1\n",
    "#第一个元素升序，第二个元素降序\n",
    "def mycmp(a,b):\n",
    "    if a[0]==b[0]:\n",
    "        return -cmp(a[1],b[1])\n",
    "    else :\n",
    "        return cmp(a[0],b[0])\n",
    "x=[]\n",
    "for i in range(6):\n",
    "      s=input().split(sep=' ')\n",
    "      x=x+[(int(s[0]),int(s[1]))]\n",
    "x.sort(key=functools.cmp_to_key(mycmp))\n",
    "print(x)"
   ]
  },
  {
   "cell_type": "markdown",
   "metadata": {},
   "source": [
    "### related questions: \n",
    "https://leetcode.com/problems/top-k-frequent-words/\n",
    "\n",
    "https://leetcode.com/problems/top-k-frequent-elements/"
   ]
  },
  {
   "cell_type": "code",
   "execution_count": null,
   "metadata": {},
   "outputs": [],
   "source": []
  },
  {
   "cell_type": "code",
   "execution_count": null,
   "metadata": {},
   "outputs": [],
   "source": []
  },
  {
   "cell_type": "code",
   "execution_count": null,
   "metadata": {},
   "outputs": [],
   "source": []
  },
  {
   "cell_type": "markdown",
   "metadata": {},
   "source": [
    "## Problem 2: critical connections\n",
    "## Lintcode1271. Critical Connections in a Network\n",
    "Lintcode 链接： https://www.lintcode.com/problem/critical-connections-in-a-network/description\n",
    "## Leetcode1192. Critical Connections in a Network\n",
    "Leetcode 链接： https://leetcode.com/discuss/interview-question/372581"
   ]
  },
  {
   "cell_type": "code",
   "execution_count": null,
   "metadata": {},
   "outputs": [],
   "source": [
    "'''\n",
    "There are n servers numbered from 0 to n-1 \n",
    "connected by undirected server-to-server connections forming a network \n",
    "where connections[i] = [a, b] represents a connection between servers a and b. \n",
    "Any server can reach any other server directly or indirectly through the network.\n",
    "\n",
    "A critical connection is a connection that, if removed, will make some server unable to reach some other server.\n",
    "\n",
    "Return all critical connections in the network in any order.\n",
    "\n",
    "Input: n = 4, connections = [[0,1],[1,2],[2,0],[1,3]]\n",
    "Output: [[1,3]]\n",
    "Explanation: [[3,1]] is also accepted.\n",
    "'''"
   ]
  },
  {
   "cell_type": "code",
   "execution_count": null,
   "metadata": {},
   "outputs": [],
   "source": [
    "'''\n",
    "思路： \n",
    "An edge is a critical connection, if and only if it is not in a cycle.\n",
    "所以关键点就是 find circles!!!!!\n",
    "if we know how to find cycles, and discard all edges in the cycles, \n",
    "then the remaining connections are a complete collection of critical connections.\n",
    "\n",
    "一个不错的idea找circle！！：\n",
    "https://leetcode.com/problems/critical-connections-in-a-network/discuss/382638/No-TarjanDFS-detailed-explanation-O(orEor)-solution-(I-like-this-question)\n",
    "\n",
    "Complexity analysis\n",
    "DFS time complexity is O(|E| + |V|), attempting to visit each edge at most twice. (the second attempt will immediately return.)\n",
    "As the graph is always a connected graph, |E| >= |V|.\n",
    "\n",
    "So, time complexity = O(|E|).\n",
    "\n",
    "Space complexity = O(graph) + O(rank) + O(connections) = 3 * O(|E| + |V|) = O(|E|).\n",
    "'''"
   ]
  },
  {
   "cell_type": "code",
   "execution_count": 2,
   "metadata": {},
   "outputs": [],
   "source": [
    "import collections\n",
    "class Solution(object):\n",
    "    def get_graph(self, connections):\n",
    "        graph = collections.defaultdict(list)\n",
    "        for u, v in connections:\n",
    "            graph[u].append(v)\n",
    "            graph[v].append(u)\n",
    "        return graph\n",
    "    \n",
    "    def criticalConnections(self, n, connections):\n",
    "        # step 1: build graph\n",
    "        graph = self.get_graph(connections)\n",
    "        # sort (node1, node2) s.t. node1 < node2 and convert edges into tuple\n",
    "        connections = set(map(tuple, map(sorted, connections)))\n",
    "        # step 2: initialize the dfs rank for each node\n",
    "        rank = [-2] * (n+1)\n",
    "        # step 3: DFS to  get the dfs_rank of each node\n",
    "        self.dfs(1, 0, graph, n, connections, rank)\n",
    "        return list(connections)\n",
    "    \n",
    "    def dfs(self, node, depth, graph, n, connections, rank):\n",
    "        # exit: if the node has been visited\n",
    "        if rank[node] >= 0:\n",
    "            return rank[node]\n",
    "        \n",
    "        # if the node has not been visited\n",
    "        rank[node] = depth\n",
    "        min_back_depth = n\n",
    "        \n",
    "        for neighbor in graph[node]:\n",
    "            # if this neighbor is the last node visited i.e. rank = depth - 1, then continue and visited the next neighbor\n",
    "            if rank[neighbor] == depth - 1:\n",
    "                continue\n",
    "            # if this neighbor is the not last node, then visit this neighbor, and get the returned dfs rank from its child node\n",
    "            back_depth = self.dfs(neighbor, depth + 1, graph, n, connections, rank)\n",
    "            # if the rank of its child node <= the rank of the current node ,i.e. back_depth <= depth, delete this node\n",
    "            if back_depth <= rank[node]:\n",
    "                connections.discard(tuple(sorted((node, neighbor))))\n",
    "            min_back_depth = min(min_back_depth, back_depth)\n",
    "        # 返回告诉父亲，自己见到的最小的dfs order value\n",
    "        return min_back_depth\n",
    "                \n",
    "        "
   ]
  },
  {
   "cell_type": "code",
   "execution_count": 3,
   "metadata": {},
   "outputs": [
    {
     "name": "stdout",
     "output_type": "stream",
     "text": [
      "[(1, 2), (4, 5)]\n",
      "[]\n",
      "[(4, 5), (3, 6), (3, 4)]\n",
      "[(1, 2), (3, 4), (2, 3)]\n"
     ]
    }
   ],
   "source": [
    "n = 5\n",
    "connections = [[1, 2], [1, 3], [3, 4], [1, 4], [4, 5]]\n",
    "s = Solution()\n",
    "print(s.criticalConnections(n, connections))\n",
    "n = 6\n",
    "connections = [[1, 2], [1, 3], [2, 3], [2, 4], [2, 5], [4, 6], [5, 6]]\n",
    "s = Solution()\n",
    "print(s.criticalConnections(n, connections))\n",
    "n = 9\n",
    "connections = [[1, 2], [1, 3], [2, 3], [3, 4], [3, 6], [4, 5], [6, 7], [6, 9], [7, 8], [8, 9]]\n",
    "s = Solution()\n",
    "print(s.criticalConnections(n, connections))\n",
    "n = 4\n",
    "connections = [[1,2],[2,3],[3,4]]\n",
    "s = Solution()\n",
    "print(s.criticalConnections(n, connections))"
   ]
  },
  {
   "cell_type": "code",
   "execution_count": null,
   "metadata": {},
   "outputs": [],
   "source": []
  },
  {
   "cell_type": "code",
   "execution_count": 4,
   "metadata": {},
   "outputs": [
    {
     "name": "stdout",
     "output_type": "stream",
     "text": [
      "defaultdict(<class 'list'>, {1: [2, 3], 2: [1, 3], 3: [1, 2, 4, 6], 4: [3, 5], 6: [3, 7, 9], 5: [4], 7: [6, 8], 9: [6, 8], 8: [7, 9]})\n"
     ]
    }
   ],
   "source": [
    "# step 1: we first build graph based on connections / edges\n",
    "def get_graph(connections):\n",
    "    import collections\n",
    "    graph = collections.defaultdict(list)\n",
    "    for u, v in connections:\n",
    "        graph[u].append(v)\n",
    "        graph[v].append(u)\n",
    "    return graph\n",
    "n = 9\n",
    "connections = [[1, 2], [1, 3], [2, 3], [3, 4], [3, 6], [4, 5], [6, 7], [6, 9], [7, 8], [8, 9]]\n",
    "graph = get_graph(connections)\n",
    "print(graph)"
   ]
  },
  {
   "cell_type": "code",
   "execution_count": 5,
   "metadata": {},
   "outputs": [],
   "source": [
    "# step 2: sorted connections and convert edges (list) to tuple\n",
    "connections = set(map(tuple, map(sorted, connections)))\n",
    "rank = [-2] * (n+1)"
   ]
  },
  {
   "cell_type": "code",
   "execution_count": 33,
   "metadata": {},
   "outputs": [
    {
     "data": {
      "text/plain": [
       "0"
      ]
     },
     "execution_count": 33,
     "metadata": {},
     "output_type": "execute_result"
    }
   ],
   "source": [
    "# step 3: DFS\n",
    "def dfs(node, depth, n, graph, connections, rank):\n",
    "    # exit： 如果这个点被访问过\n",
    "    if rank[node] >= 0:\n",
    "        return rank[node]\n",
    "    # 如果这个点没有被访问过：\n",
    "    rank[node] = depth\n",
    "    min_back_depth = n\n",
    "    # 对所有的邻居访问\n",
    "    for neighbor in graph[node]:\n",
    "        # 如果这个邻居是上一个节点i.e. rank = depth - 1, 则直接跳过这个邻居，找下一个邻居去\n",
    "        if rank[neighbor] == depth - 1:\n",
    "            continue\n",
    "        # 如果这个邻居不是上一个节点，则访问它，访问完后会获得一个自己点传来的dfs序\n",
    "        back_depth = dfs(neighbor, depth + 1, n, graph, connections, rank)\n",
    "        # 如果这个back_depth <= rank[node] / depth, 则删除node 与这个邻居的边\n",
    "        if back_depth <= rank[node]:\n",
    "            connections.discard(tuple(sorted((node, neighbor))))\n",
    "        min_back_depth = min(min_back_depth, back_depth)\n",
    "        \n",
    "    return min_back_depth\n",
    "dfs(1, 0, n, graph, connections, rank)"
   ]
  },
  {
   "cell_type": "code",
   "execution_count": 28,
   "metadata": {},
   "outputs": [
    {
     "data": {
      "text/plain": [
       "[(4, 5), (3, 6), (3, 4)]"
      ]
     },
     "execution_count": 28,
     "metadata": {},
     "output_type": "execute_result"
    }
   ],
   "source": [
    "list(connections)"
   ]
  },
  {
   "cell_type": "code",
   "execution_count": null,
   "metadata": {},
   "outputs": [],
   "source": [
    "##### method 2: low-link value\n",
    "'''\n",
    "We will use\n",
    "\n",
    "'''\n"
   ]
  },
  {
   "cell_type": "code",
   "execution_count": 60,
   "metadata": {},
   "outputs": [],
   "source": [
    "class Solution(object):\n",
    "    \n",
    "    def build_graph(self, connections):\n",
    "        graph = collections.defaultdict(list)\n",
    "        for u, v in connections:\n",
    "            graph[u].append(v)\n",
    "            graph[v].append(u)\n",
    "        return graph\n",
    "    \n",
    "    def criticalConnections(self, n, connections):\n",
    "        bridges = []\n",
    "        \n",
    "        # step 1: build graph\n",
    "        graph = self.build_graph(connections)\n",
    "         \n",
    "        # initialize the value of id, array of ids, low_link, visited\n",
    "        id = 1\n",
    "        ids = [0] * (n+1)\n",
    "        low_link = [0] * (n+1)\n",
    "        visited = [False] * (n+1)\n",
    "        \n",
    "        for i in range(1,n+1):\n",
    "            if not visited[i]:\n",
    "                # i: cur; -1: parent (since no previous node)\n",
    "                self.dfs(i, -1, n, graph, bridges, id, ids, low_link, visited)\n",
    "        return bridges\n",
    "                \n",
    "                \n",
    "    def dfs(self, cur, parent, n, graph, bridges, id, ids, low_link, visited):\n",
    "        # visited cur node\n",
    "        visited[cur] = True\n",
    "        ids[cur] = low_link[cur] = id\n",
    "        id = id + 1\n",
    "        # search its neighbors\n",
    "        for to in graph[cur]:\n",
    "            # case 1: back to the last node, skip\n",
    "            if to == parent:\n",
    "                continue\n",
    "            # case 2: a new node, traverse it by calling DFS\n",
    "            if not visited[to]:\n",
    "                self.dfs(to, cur, n, graph, bridges, id, ids, low_link, visited)\n",
    "                # when it calls back, propagates the low_link value\n",
    "                low_link[cur] = min(low_link[cur], low_link[to])\n",
    "                # if ids[cur] < low_link[to], its is a bridge\n",
    "                if ids[cur] < low_link[to]:\n",
    "                    bridges.append(sorted([cur+1, to+1]))\n",
    "            # case 3: a visited node, which represents it returns back to a start of a cycle\n",
    "            else:\n",
    "                low_link[cur] = min(low_link[cur], ids[to])"
   ]
  },
  {
   "cell_type": "code",
   "execution_count": 61,
   "metadata": {},
   "outputs": [
    {
     "name": "stdout",
     "output_type": "stream",
     "text": [
      "[[2, 3], [5, 6]]\n",
      "[]\n",
      "[[5, 6], [4, 5], [4, 7]]\n",
      "[[4, 5], [3, 4], [2, 3]]\n"
     ]
    }
   ],
   "source": [
    "n = 5\n",
    "connections = [[1, 2], [1, 3], [3, 4], [1, 4], [4, 5]]\n",
    "s = Solution()\n",
    "print(s.criticalConnections(n, connections))\n",
    "n = 6\n",
    "connections = [[1, 2], [1, 3], [2, 3], [2, 4], [2, 5], [4, 6], [5, 6]]\n",
    "s = Solution()\n",
    "print(s.criticalConnections(n, connections))\n",
    "n = 9\n",
    "connections = [[1, 2], [1, 3], [2, 3], [3, 4], [3, 6], [4, 5], [6, 7], [6, 9], [7, 8], [8, 9]]\n",
    "s = Solution()\n",
    "print(s.criticalConnections(n, connections))\n",
    "n = 4\n",
    "connections = [[1,2],[2,3],[3,4]]\n",
    "s = Solution()\n",
    "print(s.criticalConnections(n, connections))"
   ]
  },
  {
   "cell_type": "code",
   "execution_count": null,
   "metadata": {},
   "outputs": [],
   "source": []
  },
  {
   "cell_type": "markdown",
   "metadata": {},
   "source": [
    "## Problem 3: Optimal Utilization\n",
    "https://leetcode.com/discuss/interview-question/373202"
   ]
  },
  {
   "cell_type": "code",
   "execution_count": null,
   "metadata": {},
   "outputs": [],
   "source": [
    "'''\n",
    "Given 2 lists a and b. Each element is a pair of integers \n",
    "where the first integer represents the unique id and the second integer represents a value.\n",
    "Your task is to find an element from a and an element from b \n",
    "such that the sum of their values is less or equal to target and as close to target as possible. \n",
    "Return a list of ids of selected elements. If no pair is possible, return an empty list.\n",
    "\n",
    "Example 1:\n",
    "\n",
    "Input:\n",
    "a = [[1, 2], [2, 4], [3, 6]]\n",
    "b = [[1, 2]]\n",
    "target = 7\n",
    "\n",
    "Output: [[2, 1]]\n",
    "\n",
    "Explanation:\n",
    "There are only three combinations [1, 1], [2, 1], and [3, 1], which have a total sum of 4, 6 and 8, respectively.\n",
    "Since 6 is the largest sum that does not exceed 7, [2, 1] is the optimal pair.\n",
    "Example 2:\n",
    "\n",
    "Input:\n",
    "a = [[1, 3], [2, 5], [3, 7], [4, 10]]\n",
    "b = [[1, 2], [2, 3], [3, 4], [4, 5]]\n",
    "target = 10\n",
    "\n",
    "Output: [[2, 4], [3, 2]]\n",
    "\n",
    "Explanation:\n",
    "There are two pairs possible. Element with id = 2 from the list `a` has a value 5, and element with id = 4 from the list `b` also has a value 5.\n",
    "Combined, they add up to 10. Similarily, element with id = 3 from `a` has a value 7, and element with id = 2 from `b` has a value 3.\n",
    "These also add up to 10. Therefore, the optimal pairs are [2, 4] and [3, 2].\n",
    "Example 3:\n",
    "\n",
    "Input:\n",
    "a = [[1, 8], [2, 7], [3, 14]]\n",
    "b = [[1, 5], [2, 10], [3, 14]]\n",
    "target = 20\n",
    "\n",
    "Output: [[3, 1]]\n",
    "Example 4:\n",
    "\n",
    "Input:\n",
    "a = [[1, 8], [2, 15], [3, 9]]\n",
    "b = [[1, 8], [2, 11], [3, 12]]\n",
    "target = 20\n",
    "\n",
    "Output: [[1, 3], [3, 2]]\n",
    "'''"
   ]
  },
  {
   "cell_type": "code",
   "execution_count": 326,
   "metadata": {},
   "outputs": [],
   "source": [
    "import sys\n",
    "class Solution:\n",
    "    def findPairs(self, a, b, target):\n",
    "        res = []\n",
    "        a = sorted(a, key = lambda x:x[1])\n",
    "        b = sorted(b, key = lambda x:x[1])\n",
    "        \n",
    "        last_sum = - sys.maxsize\n",
    "        left, right = 0, len(b) - 1\n",
    "        \n",
    "        while left < len(a) and right >= 0:\n",
    "            # current sum\n",
    "            cur_sum = a[left][1] + b[right][1]\n",
    "            # case 1: current sum > target, move right pointer:\n",
    "            if cur_sum > target:\n",
    "                right -= 1\n",
    "            # case 2: current sum <= target: \n",
    "            else:\n",
    "                if cur_sum >= last_sum:\n",
    "                    # case 2.1 current sum >= last sum, then clean res, and update last_sum\n",
    "                    if cur_sum > last_sum:\n",
    "                        res = []\n",
    "                        last_sum = cur_sum\n",
    "                        res.append([a[left][0], b[right][0]])\n",
    "                    # case 2.2 current sum == last sum, then append directly\n",
    "                    else:\n",
    "                        res.append([a[left][0], b[right][0]])\n",
    "                    # in case of duplicate\n",
    "                    temp_right = right\n",
    "                    while temp_right > 0 and b[temp_right][1] == b[temp_right - 1][1]:\n",
    "                        res.append([a[left][0], b[temp_right - 1][0]])\n",
    "                        temp_right -= 1 \n",
    "                left += 1\n",
    "        return res\n",
    "        "
   ]
  },
  {
   "cell_type": "code",
   "execution_count": 327,
   "metadata": {},
   "outputs": [
    {
     "name": "stdout",
     "output_type": "stream",
     "text": [
      "[[2, 1]]\n",
      "[[2, 4], [3, 2]]\n",
      "[[3, 1]]\n",
      "[[1, 3], [3, 2]]\n"
     ]
    }
   ],
   "source": [
    "a = [[1, 2], [2, 4], [3, 6]]\n",
    "b = [[1, 2]]\n",
    "target = 7\n",
    "s = Solution()\n",
    "print(s.findPairs(a, b, target))\n",
    "a = [[1, 3], [2, 5], [3, 7], [4, 10]]\n",
    "b = [[1, 2], [2, 3], [3, 4], [4, 5]]\n",
    "target = 10\n",
    "s = Solution()\n",
    "print(s.findPairs(a, b, target))\n",
    "a = [[1, 8], [2, 7], [3, 14]]\n",
    "b = [[1, 5], [2, 10], [3, 14]]\n",
    "target = 20\n",
    "print(s.findPairs(a, b, target))\n",
    "a = [[1, 8], [2, 15], [3, 9]]\n",
    "b = [[1, 8], [2, 11], [3, 12]]\n",
    "target = 20\n",
    "print(s.findPairs(a, b, target))"
   ]
  },
  {
   "cell_type": "code",
   "execution_count": 40,
   "metadata": {},
   "outputs": [
    {
     "data": {
      "text/plain": [
       "[[1, 3], [2, 5], [3, 7], [4, 10]]"
      ]
     },
     "execution_count": 40,
     "metadata": {},
     "output_type": "execute_result"
    }
   ],
   "source": [
    "a = [[1, 3], [2, 5], [3, 7], [4, 10]]\n",
    "sorted(a, key=lambda x: x[1])"
   ]
  },
  {
   "cell_type": "markdown",
   "metadata": {},
   "source": [
    "## Problem 3. easy version 1099. Two Sum Less Than K\n",
    "https://leetcode.com/problems/two-sum-less-than-k/"
   ]
  },
  {
   "cell_type": "code",
   "execution_count": null,
   "metadata": {},
   "outputs": [],
   "source": [
    "'''\n",
    "Given an array A of integers and integer K, \n",
    "return the maximum S such that there exists i < j with A[i] + A[j] = S and S < K. \n",
    "If no i, j exist satisfying this equation, return -1.\n",
    "Example 1:\n",
    "\n",
    "Input: A = [34,23,1,24,75,33,54,8], K = 60\n",
    "Output: 58\n",
    "Explanation: \n",
    "We can use 34 and 24 to sum 58 which is less than 60.\n",
    "Example 2:\n",
    "\n",
    "Input: A = [10,20,30], K = 15\n",
    "Output: -1\n",
    "Explanation: \n",
    "In this case it's not possible to get a pair sum less that 15.\n",
    "'''\n"
   ]
  },
  {
   "cell_type": "code",
   "execution_count": 68,
   "metadata": {},
   "outputs": [],
   "source": [
    "def twoSumLessThanK(A, K):\n",
    "        nums = sorted(A)\n",
    "        left, right = 0, len(nums) - 1\n",
    "        last_max = -sys.maxsize\n",
    "        while left < right:\n",
    "            cur_sum = nums[left] + nums[right]\n",
    "            # case 1: if cur_sum >= target, the right --\n",
    "            if cur_sum >= K:\n",
    "                right -= 1\n",
    "            # case 2: if cur_sum <= target\n",
    "            else:\n",
    "                last_max = max(cur_sum, last_max)\n",
    "                left += 1\n",
    "        if last_max == -sys.maxsize:\n",
    "            return -1\n",
    "        return last_max\n",
    "    "
   ]
  },
  {
   "cell_type": "code",
   "execution_count": 69,
   "metadata": {},
   "outputs": [
    {
     "name": "stdout",
     "output_type": "stream",
     "text": [
      "58\n",
      "-1\n",
      "198\n"
     ]
    }
   ],
   "source": [
    "A = [34,23,1,24,75,33,54,8]\n",
    "K = 60\n",
    "print(twoSumLessThanK(A, K))\n",
    "A = [10,20,30]\n",
    "K = 15\n",
    "print(twoSumLessThanK(A, K))\n",
    "A = [254,914,110,900,147,441,209,122,571,942,136,350,160,127,178,839,201,386,462,45,735,467,153,415,875,282,204,534,639,994,284,320,865,468,1,838,275,370,295,574,309,268,415,385,786,62,359,78,854,944]\n",
    "K = 200\n",
    "print(twoSumLessThanK(A, K))"
   ]
  },
  {
   "cell_type": "code",
   "execution_count": null,
   "metadata": {},
   "outputs": [],
   "source": []
  },
  {
   "cell_type": "markdown",
   "metadata": {},
   "source": [
    "## Problem 4. Zombie in Matrix\n",
    "https://leetcode.com/discuss/interview-question/411357/"
   ]
  },
  {
   "cell_type": "code",
   "execution_count": null,
   "metadata": {},
   "outputs": [],
   "source": [
    "'''\n",
    "Given a 2D grid, each cell is either a zombie 1 or a human 0. \n",
    "Zombies can turn adjacent (up/down/left/right) human beings into zombies every hour. \n",
    "Find out how many hours does it take to infect all humans?\n",
    "\n",
    "All 1's\n",
    "All 0's\n",
    "null input\n",
    "1D grid, empty []\n",
    "\n",
    "Example:\n",
    "\n",
    "Input:\n",
    "[[0, 1, 1, 0, 1],\n",
    " [0, 1, 0, 1, 0],\n",
    " [0, 0, 0, 0, 1],\n",
    " [0, 1, 0, 0, 0]]\n",
    "\n",
    "Output: 2\n",
    "\n",
    "Explanation:\n",
    "At the end of the 1st hour, the status of the grid:\n",
    "[[1, 1, 1, 1, 1],\n",
    " [1, 1, 1, 1, 1],\n",
    " [0, 1, 0, 1, 1],\n",
    " [1, 1, 1, 0, 1]]\n",
    "\n",
    "At the end of the 2nd hour, the status of the grid:\n",
    "[[1, 1, 1, 1, 1],\n",
    " [1, 1, 1, 1, 1],\n",
    " [1, 1, 1, 1, 1],\n",
    " [1, 1, 1, 1, 1]]\n",
    "'''\n"
   ]
  },
  {
   "cell_type": "code",
   "execution_count": 168,
   "metadata": {},
   "outputs": [],
   "source": [
    "from collections import deque\n",
    "D = [[1, 0], [-1,0], [0, 1], [0, -1]]\n",
    "class Solution:\n",
    "    def zombie(self, grid):\n",
    "        if not grid or not grid[0]:\n",
    "            return 0\n",
    "        m, n = len(grid), len(grid[0])\n",
    "        que = deque()\n",
    "        for i in range(m):\n",
    "            for j in range(n):\n",
    "                if grid[i][j] == 1:\n",
    "                    que.append([i,j])\n",
    "        if len(que) == 0:\n",
    "            return -1\n",
    "        if len(que) == m * n:\n",
    "            return 0\n",
    "        day = 0\n",
    "        while que:\n",
    "            size = len(que)\n",
    "            infect = False\n",
    "            for _ in range(size):\n",
    "                cur_x, cur_y = que.popleft()\n",
    "                for dx, dy in D:\n",
    "                    nx = cur_x + dx \n",
    "                    ny = cur_y + dy\n",
    "                    if 0 <= nx < m and 0 <= ny < n and grid[nx][ny] == 0:\n",
    "                        grid[nx][ny] = 1\n",
    "                        infect = True\n",
    "                        que.append([nx, ny])\n",
    "            if infect == True:\n",
    "                day += 1\n",
    "        # check if all humans can be turned into zombies\n",
    "        for i in range(m):\n",
    "            for j in range(n):\n",
    "                if grid[i][j] == 0:\n",
    "                    return -1\n",
    "        return day\n",
    "                   \n",
    "\n",
    "    "
   ]
  },
  {
   "cell_type": "code",
   "execution_count": 169,
   "metadata": {},
   "outputs": [
    {
     "name": "stdout",
     "output_type": "stream",
     "text": [
      "2\n"
     ]
    }
   ],
   "source": [
    "s = Solution()\n",
    "grid = [[0, 1, 1, 0, 1],\n",
    " [0, 1, 0, 1, 0],\n",
    " [0, 0, 0, 0, 1],\n",
    " [0, 1, 0, 0, 0]]\n",
    "print(s.zombie(grid))"
   ]
  },
  {
   "cell_type": "code",
   "execution_count": null,
   "metadata": {},
   "outputs": [],
   "source": []
  },
  {
   "cell_type": "markdown",
   "metadata": {},
   "source": [
    "## Problem 5:  Critical Routers\n",
    "https://leetcode.com/discuss/interview-question/436073/"
   ]
  },
  {
   "cell_type": "code",
   "execution_count": null,
   "metadata": {},
   "outputs": [],
   "source": [
    "'''\n",
    "You are given an undirected connected graph. An articulation point (or cut vertex) is defined as a vertex which, when removed along with associated edges, makes the graph disconnected (or more precisely, increases the number of connected components in the graph). The task is to find all articulation points in the given graph.\n",
    "\n",
    "Input:\n",
    "The input to the function/method consists of three arguments:\n",
    "\n",
    "numNodes, an integer representing the number of nodes in the graph.\n",
    "numEdges, an integer representing the number of edges in the graph.\n",
    "edges, the list of pair of integers - A, B representing an edge between the nodes A and B.\n",
    "Output:\n",
    "Return a list of integers representing the critical nodes.\n",
    "\n",
    "Example:\n",
    "\n",
    "Input: numNodes = 7, numEdges = 7, edges = [[0, 1], [0, 2], [1, 3], [2, 3], [2, 5], [5, 6], [3, 4]]\n",
    "Output: [2, 3, 5]\n",
    "'''\n"
   ]
  },
  {
   "cell_type": "code",
   "execution_count": null,
   "metadata": {},
   "outputs": [],
   "source": [
    "# 思路 1：暴力算法\n",
    "'''\n",
    "How to find all articulation points in a given graph?\n",
    "A simple approach is to one by one remove all vertices and see if removal of a vertex causes disconnected graph. \n",
    "Following are steps of simple approach for connected graph.\n",
    "暴力算法：\n",
    "1) For every vertex v, do following\n",
    "    a) Remove v from graph\n",
    "    b) See if the graph remains connected (We can either use BFS or DFS) \n",
    "    c) Add v back to the graph\n",
    "    \n",
    "'''"
   ]
  },
  {
   "cell_type": "code",
   "execution_count": 12,
   "metadata": {},
   "outputs": [],
   "source": [
    "# 暴力算法\n",
    "class baoli():\n",
    "    \n",
    "    def union(self, p1, p2):\n",
    "        f1 = self.find(p1)\n",
    "        f2 = self.find(p2)\n",
    "        if f1!=f2:\n",
    "            self.father[f1] = f2\n",
    "            \n",
    "    def find(self, p):\n",
    "        path = []\n",
    "        while p != self.father[p]:\n",
    "            path.append(p)\n",
    "            p = self.father[p]\n",
    "        for ele in path:\n",
    "            self.father[ele] = p\n",
    "        return p\n",
    "\n",
    "    def getCriticalRouters(self, numNodes, numEdges, edges):\n",
    "        res = []\n",
    "        # for each vertex \n",
    "        for node in range(numNodes):\n",
    "            self.father = {}\n",
    "            # remove this node\n",
    "            for i in range(1, numEdges+1):\n",
    "                if i == node:\n",
    "                    continue\n",
    "                self.father[i] = i\n",
    "            # connect the remaining edges\n",
    "            for e1, e2 in edges:\n",
    "                if node == e1 or node == e2:\n",
    "                    continue\n",
    "                if self.find(e1) != self.find(e2):\n",
    "                    self.union(e1, e2)\n",
    "            # to see if the remaining edges are connected\n",
    "            if len({self.find(x) for x in self.father}) != 1:\n",
    "                res.append(node)\n",
    "        return res\n",
    "            \n",
    "            "
   ]
  },
  {
   "cell_type": "code",
   "execution_count": 13,
   "metadata": {},
   "outputs": [
    {
     "name": "stdout",
     "output_type": "stream",
     "text": [
      "[3, 4, 6]\n"
     ]
    }
   ],
   "source": [
    "#numNodes = 7\n",
    "#numEdges = 7\n",
    "#edges = [[0, 1], [0, 2], [1, 3], [2, 3], [2, 5], [5, 6], [3, 4]]\n",
    "#sol = baoli()\n",
    "#print(sol.getCriticalRouters(numNodes, numEdges, edges))\n",
    "numNodes= 7\n",
    "numEdges=7\n",
    "edges = [[1,2], [1,3], [2,4], [3,4], [3,6], [6, 7], [4,5]] # [3,4,6]\n",
    "sol = baoli()\n",
    "print(sol.getCriticalRouters(numNodes, numEdges, edges))"
   ]
  },
  {
   "cell_type": "code",
   "execution_count": null,
   "metadata": {},
   "outputs": [],
   "source": [
    "# 当然啦，暴力算法的时间复杂度和空间复杂度都很高 O(|V|*(|V|+|E| +|h|)), Space: O(2*|V|)\n",
    "#  Can we do better?\n",
    "# The idea is to use DFS (Depth First Search). \n",
    "# In DFS, we follow vertices in tree form called DFS tree. \n",
    "# In DFS tree, a vertex u is parent of another vertex v, if v is discovered by u (obviously v is an adjacent of u in graph).\n",
    "# In DFS tree, a vertex u is articulation point if one of the following two conditions is true.\n",
    "#   1) u is root of DFS tree and it has at least two children.\n",
    "#   2) u is not root of DFS tree and it has a child v such that no vertex in subtree rooted with v has a back edge to one of the ancestors (in DFS tree) of u."
   ]
  },
  {
   "cell_type": "code",
   "execution_count": null,
   "metadata": {},
   "outputs": [],
   "source": [
    "'''\n",
    "Time complexity: O(|V|+|E|)\n",
    "Space: O(|V|)\n",
    "\n",
    "Thoughts:\n",
    "First, if an edge (u, v) is a critical connections then either u or v is an articulation point. \n",
    "i.e. find ids[e.from] < low_link[e.to]\n",
    "But it is not sufficient. So it cannot capture all articulation points;\n",
    "e.g. cycles in a graph might not have critical connections, but it may have critical routers.\n",
    "(因为 cycle in agraph corresponds to a strongly connected component and removing the node which started the cycle who is aslo\n",
    " connected to another component will separate the graph in two pieces)\n",
    "So then we will focus on the cycle, i.e. find the router with ids[e.from] == low_link[e.to].\n",
    "However, there still some extreme cases, when the starting node has 0 or 1 outgoing directed edges.\n",
    "0 case: singleton or stand-alone point\n",
    "1 case: the node is trapped inside a cycle\n",
    "Hence, to be an articulaton point, you need to have > 1 outgoing edges\n",
    "\n",
    "A router to be a critical router, it needs to satisfy the following condition:\n",
    " (1). if a starting point router is inside of a loop, its # of outGoingEdge need to be greater than 1;\n",
    "(2). if a router's id less than the low_link value of its_going_to router, which means that this is \n",
    "the only path the router can reach to its_going_to router;\n",
    "(3). if a router is not at starting point router and it is inside a cycle, if router's id value == low_link\n",
    "value of its_going_to_router (因为 this router is the first entry point, if outer router want to connect to this component).\n",
    "\n",
    "id = 0 when doing the traversal, assign id to each unvisited node\n",
    "outGoingEdge = 0 count outGoingEdge for router, if this router is a critical router which means outGoingEdge > 1\n",
    "low_link the lowest id which this router could be reachable;\n",
    "ids: each router's id\n",
    "visited: check if this router has been visited\n",
    "isCriticalRouter: store the index of criticalRouters.\n",
    "\n",
    "Process:\n",
    "1. build the graph based on the numRouters\n",
    "2. connect to each edge based on links\n",
    "3. findCriticalRouter for this graph\n",
    "'''"
   ]
  },
  {
   "cell_type": "code",
   "execution_count": 68,
   "metadata": {},
   "outputs": [],
   "source": [
    "class Solution():\n",
    "    def build_graph(self, edges):\n",
    "        graph = collections.defaultdict(list)\n",
    "        for u, v in edges:\n",
    "            graph[u].append(v)\n",
    "            graph[v].append(u)\n",
    "        return graph\n",
    "    \n",
    "    def getCriticalRouters(self, numNodes, numEdges, edges):\n",
    "        # step 1: build graph\n",
    "        graph = self.build_graph(edges)\n",
    "        \n",
    "        # step2: initialize value of id, array of visited, low_link, ids, and isArt\n",
    "        id = 1\n",
    "        visited = [False] * (numNodes + 1)\n",
    "        ids = [0] * (numNodes + 1)\n",
    "        low_link = [0] * (numNodes + 1)\n",
    "        isArt = [0] * (numNodes + 1)\n",
    "        \n",
    "        # step3: loop all nodes\n",
    "        for i in range(1, numNodes+1):\n",
    "            if not visited[i]:\n",
    "                numOutEdge = 0\n",
    "                self.dfs(i, i, -1, graph, id, visited, ids, low_link, isArt, numOutEdge)\n",
    "                isArt[i] = numOutEdge > 1\n",
    "        return [index for index, flag in enumerate(isArt) if flag]\n",
    "    \n",
    "    def dfs(self, root, cur, parent, graph, id, visited, ids, low_link, isArt, numOutEdge):\n",
    "        if parent == root:\n",
    "            numOutEdge += 1\n",
    "        visited[cur] = True\n",
    "        low_link[cur] = ids[cur] = id\n",
    "        id = id + 1\n",
    "        \n",
    "        # for each edge from node \"cur\" to node \"to\"\n",
    "        for to in graph[cur]:\n",
    "            # case 1: last node, skip\n",
    "            if to == parent:\n",
    "                continue\n",
    "            # case 2: a new node\n",
    "            if not visited[to]:\n",
    "                self.dfs(root, to, cur, graph, id, visited, ids, low_link, isArt, numOutEdge)\n",
    "                # when it calls back, propagates the low link\n",
    "                low_link[cur] = min(low_link[cur], low_link[to])\n",
    "                # case a: articulation point found via bridge\n",
    "                if ids[cur] < low_link[to]:\n",
    "                    isArt[cur] = True\n",
    "                # case b: articulation point found via cycle\n",
    "                if ids[cur] == low_link[to]:\n",
    "                    isArt[cur] = True\n",
    "            # case 3: a visited node\n",
    "            else:\n",
    "                low_link[cur] = min(low_link[cur], ids[to])\n",
    "            \n",
    "            \n",
    "        \n",
    "        "
   ]
  },
  {
   "cell_type": "code",
   "execution_count": 69,
   "metadata": {},
   "outputs": [
    {
     "name": "stdout",
     "output_type": "stream",
     "text": [
      "[3, 4, 6]\n"
     ]
    }
   ],
   "source": [
    "# OA e.g.\n",
    "numNodes= 7\n",
    "numEdges=7\n",
    "edges = [[1,2], [1,3], [2,4], [3,4], [3,6], [6, 7], [4,5]] # [3,4,6]\n",
    "sol = Solution() \n",
    "print(sol.getCriticalRouters(numNodes, numEdges, edges))"
   ]
  },
  {
   "cell_type": "code",
   "execution_count": null,
   "metadata": {},
   "outputs": [],
   "source": []
  },
  {
   "cell_type": "code",
   "execution_count": null,
   "metadata": {},
   "outputs": [],
   "source": []
  },
  {
   "cell_type": "markdown",
   "metadata": {},
   "source": [
    "## Problem 6. 1268. Search Suggestions System\n",
    "https://leetcode.com/problems/search-suggestions-system/"
   ]
  },
  {
   "cell_type": "code",
   "execution_count": null,
   "metadata": {},
   "outputs": [],
   "source": [
    "'''\n",
    "Given an array of strings products and a string searchWord. \n",
    "We want to design a system that suggests at most three product names from products after each character of searchWord is typed.\n",
    "Suggested products should have common prefix with the searchWord.\n",
    "If there are more than three products with a common prefix return the three lexicographically minimums products.\n",
    "\n",
    "Return list of lists of the suggested products after each character of searchWord is typed. \n",
    "Example 1:\n",
    "\n",
    "Input: products = [\"mobile\",\"mouse\",\"moneypot\",\"monitor\",\"mousepad\"], searchWord = \"mouse\"\n",
    "Output: [\n",
    "[\"mobile\",\"moneypot\",\"monitor\"],\n",
    "[\"mobile\",\"moneypot\",\"monitor\"],\n",
    "[\"mouse\",\"mousepad\"],\n",
    "[\"mouse\",\"mousepad\"],\n",
    "[\"mouse\",\"mousepad\"]\n",
    "]\n",
    "Explanation: products sorted lexicographically = [\"mobile\",\"moneypot\",\"monitor\",\"mouse\",\"mousepad\"]\n",
    "After typing m and mo all products match and we show user [\"mobile\",\"moneypot\",\"monitor\"]\n",
    "After typing mou, mous and mouse the system suggests [\"mouse\",\"mousepad\"]\n",
    "Example 2:\n",
    "\n",
    "Input: products = [\"havana\"], searchWord = \"havana\"\n",
    "Output: [[\"havana\"],[\"havana\"],[\"havana\"],[\"havana\"],[\"havana\"],[\"havana\"]]\n",
    "Example 3:\n",
    "\n",
    "Input: products = [\"bags\",\"baggage\",\"banner\",\"box\",\"cloths\"], searchWord = \"bags\"\n",
    "Output: [[\"baggage\",\"bags\",\"banner\"],[\"baggage\",\"bags\",\"banner\"],[\"baggage\",\"bags\"],[\"bags\"]]\n",
    "'''"
   ]
  },
  {
   "cell_type": "code",
   "execution_count": null,
   "metadata": {},
   "outputs": [],
   "source": [
    "#### 暴力搜索！"
   ]
  },
  {
   "cell_type": "code",
   "execution_count": 183,
   "metadata": {},
   "outputs": [],
   "source": [
    "class Solution(object):\n",
    "    \"\"\"\n",
    "        :type products: List[str]\n",
    "        :type searchWord: str\n",
    "        :rtype: List[List[str]]\n",
    "    \"\"\"\n",
    "    # brute force\n",
    "    def suggestedProducts(self, products, searchWord):\n",
    "        \n",
    "        if not products:\n",
    "            return\n",
    "        res = []\n",
    "        products.sort()\n",
    "        \n",
    "        size = len(searchWord)\n",
    "        for i in range(size):\n",
    "            temp = []\n",
    "            prefix = searchWord[:i+1]\n",
    "            for product in products:\n",
    "                if len(temp) == 3:\n",
    "                    break\n",
    "                if product[:i+1] == prefix:\n",
    "                    temp.append(product)\n",
    "            res.append(temp)\n",
    "        return res"
   ]
  },
  {
   "cell_type": "code",
   "execution_count": 184,
   "metadata": {},
   "outputs": [
    {
     "name": "stdout",
     "output_type": "stream",
     "text": [
      "[['mobile', 'moneypot', 'monitor'], ['mobile', 'moneypot', 'monitor'], ['mouse', 'mousepad'], ['mouse', 'mousepad'], ['mouse', 'mousepad']]\n",
      "[['havana'], ['havana'], ['havana'], ['havana'], ['havana'], ['havana']]\n",
      "[[], [], [], []]\n"
     ]
    }
   ],
   "source": [
    "products = [\"mobile\",\"mouse\",\"moneypot\",\"monitor\",\"mousepad\"]\n",
    "searchWord = \"mouse\"\n",
    "s = Solution()\n",
    "print(s.suggestedProducts(products, searchWord))\n",
    "products = [\"havana\"]\n",
    "searchWord = \"havana\"\n",
    "s = Solution()\n",
    "print(s.suggestedProducts(products, searchWord))\n",
    "roducts = [\"bags\",\"baggage\",\"banner\",\"box\",\"cloths\"]\n",
    "searchWord = \"bags\"\n",
    "s = Solution()\n",
    "print(s.suggestedProducts(products, searchWord))"
   ]
  },
  {
   "cell_type": "code",
   "execution_count": null,
   "metadata": {},
   "outputs": [],
   "source": [
    "#### method2: two pointers, decrease the range of [left, right] by prefix\n",
    "## monitor shares the same prefix 'mo' with mouse, but does not when prefix = 'mou' -> so is the case of 'mous'"
   ]
  },
  {
   "cell_type": "code",
   "execution_count": 189,
   "metadata": {},
   "outputs": [],
   "source": [
    "class Solution(object):\n",
    "    \"\"\"\n",
    "        :type products: List[str]\n",
    "        :type searchWord: str\n",
    "        :rtype: List[List[str]]\n",
    "    \"\"\"\n",
    "    # brute force\n",
    "    def suggestedProducts(self, products, searchWord):\n",
    "        \n",
    "        if not products:\n",
    "            return\n",
    "        res = []\n",
    "        products.sort()\n",
    "        size = len(searchWord)\n",
    "        left, right = 0, len(products) - 1\n",
    "        # iterative all prefixes\n",
    "        for i in range(size):\n",
    "            char = searchWord[i]\n",
    "            # moving left pointer if necessary\n",
    "            while (left <= right) and (len(products[left]) <= i or products[left][i] != char):\n",
    "                left += 1\n",
    "                \n",
    "            # moving right pointer if necessary\n",
    "            while (left <= right) and (len(products[right]) <= i or products[right][i] != char):\n",
    "                right -= 1\n",
    "            \n",
    "            min_right = min(left + 3, right + 1)\n",
    "            temp = []\n",
    "            for k in range(left, min_right):\n",
    "                temp.append(products[k])\n",
    "            res.append(temp)\n",
    "        return res\n",
    "            \n",
    "            "
   ]
  },
  {
   "cell_type": "code",
   "execution_count": 190,
   "metadata": {},
   "outputs": [
    {
     "name": "stdout",
     "output_type": "stream",
     "text": [
      "[['mobile', 'moneypot', 'monitor'], ['mobile', 'moneypot', 'monitor'], ['mouse', 'mousepad'], ['mouse', 'mousepad'], ['mouse', 'mousepad']]\n",
      "[['havana'], ['havana'], ['havana'], ['havana'], ['havana'], ['havana']]\n",
      "[[], [], [], []]\n"
     ]
    }
   ],
   "source": [
    "products = [\"mobile\",\"mouse\",\"moneypot\",\"monitor\",\"mousepad\"]\n",
    "searchWord = \"mouse\"\n",
    "s = Solution()\n",
    "print(s.suggestedProducts(products, searchWord))\n",
    "products = [\"havana\"]\n",
    "searchWord = \"havana\"\n",
    "s = Solution()\n",
    "print(s.suggestedProducts(products, searchWord))\n",
    "roducts = [\"bags\",\"baggage\",\"banner\",\"box\",\"cloths\"]\n",
    "searchWord = \"bags\"\n",
    "s = Solution()\n",
    "print(s.suggestedProducts(products, searchWord))"
   ]
  },
  {
   "cell_type": "code",
   "execution_count": 196,
   "metadata": {},
   "outputs": [
    {
     "name": "stdout",
     "output_type": "stream",
     "text": [
      "True\n",
      "True\n",
      "False\n"
     ]
    }
   ],
   "source": [
    "#### Trie\n",
    "class Trie():\n",
    "    \n",
    "    def __init__(self):\n",
    "        self.head = {}\n",
    "    \n",
    "    def add(self, word):\n",
    "        cur = self.head\n",
    "        for char in word:\n",
    "            if char not in cur:\n",
    "                cur[char] = {}\n",
    "            cur = cur[char]\n",
    "        cur['*'] = True\n",
    "    \n",
    "    def search(self, word):\n",
    "        cur = self.head\n",
    "        for char in word:\n",
    "            if char not in cur:\n",
    "                return False\n",
    "            cur = cur[char]\n",
    "        if '*' in cur:\n",
    "            return True\n",
    "        return False\n",
    "dic = Trie()\n",
    "dic.add(\"mobile\")\n",
    "dic.add(\"mouse\")\n",
    "dic.add(\"moneypot\")\n",
    "dic.add(\"monitor\")\n",
    "print(dic.search(\"mobile\"))\n",
    "print(dic.search(\"monitor\"))\n",
    "print(dic.search(\"mou\"))"
   ]
  },
  {
   "cell_type": "code",
   "execution_count": null,
   "metadata": {},
   "outputs": [],
   "source": []
  },
  {
   "cell_type": "markdown",
   "metadata": {},
   "source": [
    "## Problem 7: 200. Number of Islands\n",
    "https://leetcode.com/problems/number-of-islands/"
   ]
  },
  {
   "cell_type": "code",
   "execution_count": null,
   "metadata": {},
   "outputs": [],
   "source": [
    "'''\n",
    "method 1: DFS\n",
    "method 2: Union Find\n",
    "'''"
   ]
  },
  {
   "cell_type": "code",
   "execution_count": null,
   "metadata": {},
   "outputs": [],
   "source": [
    "# method 1: DFS\n",
    "# Time complexity : O(M×N) where M is the number of rows and N is the number of columns.\n",
    "# Space complexity : worst case O(M×N) in case that the grid map is filled with lands where DFS goes by M×N deep."
   ]
  },
  {
   "cell_type": "code",
   "execution_count": null,
   "metadata": {},
   "outputs": [],
   "source": [
    "class Solution(object):\n",
    "    # method 1: 灌水法，DFS把所有连通的点设为0\n",
    "    def numIslands(self, grid):\n",
    "        \"\"\"\n",
    "        :type grid: List[List[str]]\n",
    "        :rtype: int\n",
    "        \"\"\"\n",
    "        # corner case:\n",
    "        if not grid:\n",
    "            return 0\n",
    "        \n",
    "        m, n = len(grid), len(grid[0])\n",
    "        count = 0\n",
    "        for x in range(m):\n",
    "            for y in range(n):\n",
    "                if grid[x][y] == \"1\":\n",
    "                    count += 1\n",
    "                    self.dfs(grid, m, n, x, y)\n",
    "        return count\n",
    "    \n",
    "    def dfs(self, grid, m, n, x, y):\n",
    "        # 递归的出口 1: out of the boundary\n",
    "        if x < 0 or x >= m or y < 0 or y >= n:\n",
    "            return\n",
    "        # 递归的出口 2： water\n",
    "        if grid[x][y] == '0':\n",
    "            return\n",
    "        \n",
    "        grid[x][y] = \"0\"\n",
    "        D = [[1, 0], [-1, 0], [0, 1], [0, -1]]\n",
    "        for dx, dy in D:\n",
    "            nx = x + dx\n",
    "            ny = y + dy\n",
    "            self.dfs(grid, m, n, nx, ny)"
   ]
  },
  {
   "cell_type": "code",
   "execution_count": null,
   "metadata": {},
   "outputs": [],
   "source": [
    "# Method 2: Union find\n",
    "# Time complexity : O(M×N) where M is the number of rows and N is the number of columns. \n",
    "# Note that Union operation takes essentially constant time when UnionFind is implemented with both path compression\n",
    "# Space complexity : O(M×N) as required by UnionFind data structure.\n",
    "\n",
    "UNION FIND 注意 nearby = set([]) !!!!!! 和 self.representative[f1] = f2"
   ]
  },
  {
   "cell_type": "code",
   "execution_count": null,
   "metadata": {},
   "outputs": [],
   "source": [
    "class Solution(object):\n",
    "\n",
    "    # method 2: Union find\n",
    "    # union find 的思路如下：遍历每个所有的点，并且当这个点是陆地时，我们做 self-representative, 并且搜索附近的点，如果有相邻的则UNION 这两个 set， 通过找到各自的representative合并\n",
    "    # 注意union find需要压缩路径\n",
    "    def numIslands(self, grid):\n",
    "        if not grid:\n",
    "            return 0\n",
    "        m, n = len(grid), len(grid[0])\n",
    "        near_by = set([])\n",
    "        self.representative = {}\n",
    "        self.count = 0\n",
    "        \n",
    "        D = [[1, 0], [-1, 0], [0, 1], [0, -1]]\n",
    "        for i in range(m):\n",
    "            for j in range(n):\n",
    "                if grid[i][j] == '0':\n",
    "                    continue\n",
    "                self.count += 1\n",
    "                near_by.add((i, j))\n",
    "                self.representative[(i, j)] = (i, j)\n",
    "                for dx, dy in D:\n",
    "                    nx = i + dx\n",
    "                    ny = j + dy\n",
    "                    if (nx, ny) in near_by:\n",
    "                        self.union((nx, ny), (i, j))\n",
    "        return self.count\n",
    "    \n",
    "    \n",
    "    def union(self, point1, point2):\n",
    "        representative_1 = self.find_representative(point1)\n",
    "        representative_2 = self.find_representative(point2)\n",
    "        if representative_1 != representative_2:\n",
    "            self.count -= 1\n",
    "            self.representative[representative_1] = representative_2\n",
    "\n",
    "    def find_representative(self, point):\n",
    "        path = []\n",
    "        while point != self.representative[point]:\n",
    "            path.append(point)\n",
    "            point = self.representative[point]\n",
    "        for p in path:\n",
    "            self.representative[p] = point\n",
    "        \n",
    "        return point\n",
    "   "
   ]
  },
  {
   "cell_type": "code",
   "execution_count": null,
   "metadata": {},
   "outputs": [],
   "source": []
  },
  {
   "cell_type": "markdown",
   "metadata": {},
   "source": [
    "## Problem 8: Leetcode 937. Reorder Data in Log Files\n",
    "https://leetcode.com/problems/reorder-data-in-log-files/"
   ]
  },
  {
   "cell_type": "code",
   "execution_count": null,
   "metadata": {},
   "outputs": [],
   "source": [
    "'''\n",
    "You have an array of logs.  Each log is a space delimited string of words.\n",
    "\n",
    "For each log, the first word in each log is an alphanumeric identifier.  Then, either:\n",
    "\n",
    "Each word after the identifier will consist only of lowercase letters, or;\n",
    "Each word after the identifier will consist only of digits.\n",
    "We will call these two varieties of logs letter-logs and digit-logs. \n",
    "It is guaranteed that each log has at least one word after its identifier.\n",
    "\n",
    "Reorder the logs so that all of the letter-logs come before any digit-log.  \n",
    "The letter-logs are ordered lexicographically ignoring identifier, with the identifier used in case of ties.  \n",
    "The digit-logs should be put in their original order.\n",
    "\n",
    "Return the final order of the logs.\n",
    "\n",
    " \n",
    "\n",
    "Example 1:\n",
    "\n",
    "Input: logs = [\"dig1 8 1 5 1\",\"let1 art can\",\"dig2 3 6\",\"let2 own kit dig\",\"let3 art zero\"]\n",
    "Output: [\"let1 art can\",\"let3 art zero\",\"let2 own kit dig\",\"dig1 8 1 5 1\",\"dig2 3 6\"]\n",
    "'''"
   ]
  },
  {
   "cell_type": "code",
   "execution_count": 206,
   "metadata": {},
   "outputs": [],
   "source": [
    "def reorderLogFiles(logs):\n",
    "    if not logs:\n",
    "        return []\n",
    "    digits = []\n",
    "    letter = []\n",
    "    for log in logs:\n",
    "        if log.split(' ')[1].isdigit():\n",
    "            digits.append(log)\n",
    "        else:\n",
    "            letter.append(log)\n",
    "    letter = sorted(letter, key = lambda x: (x.split(' ')[1:], x.split(' ')[0]))\n",
    "    letter += digits\n",
    "    return letter"
   ]
  },
  {
   "cell_type": "code",
   "execution_count": 207,
   "metadata": {},
   "outputs": [
    {
     "name": "stdout",
     "output_type": "stream",
     "text": [
      "['let1 art can', 'let3 art zero', 'let2 own kit dig', 'dig1 8 1 5 1', 'dig2 3 6']\n"
     ]
    }
   ],
   "source": [
    "logs = [\"dig1 8 1 5 1\",\"let1 art can\",\"dig2 3 6\",\"let2 own kit dig\",\"let3 art zero\"]\n",
    "print(reorderLogFiles(logs))"
   ]
  },
  {
   "cell_type": "code",
   "execution_count": null,
   "metadata": {},
   "outputs": [],
   "source": []
  },
  {
   "cell_type": "markdown",
   "metadata": {},
   "source": [
    "## Problem 9: Min Cost to Connect Ropes\n",
    "https://leetcode.com/discuss/interview-question/344677\n",
    "or\n",
    "## Leetcode 1167. Minimum Cost to Connect Sticks\n",
    "https://leetcode.com/problems/minimum-cost-to-connect-sticks/\n"
   ]
  },
  {
   "cell_type": "code",
   "execution_count": null,
   "metadata": {},
   "outputs": [],
   "source": [
    "'''\n",
    "Given n ropes of different lengths, we need to connect these ropes into one rope. \n",
    "We can connect only 2 ropes at a time. The cost required to connect 2 ropes is equal to sum of their lengths. \n",
    "The length of this connected rope is also equal to the sum of their lengths. \n",
    "This process is repeated until n ropes are connected into a single rope.\n",
    "Find the min possible cost required to connect all ropes.\n",
    "\n",
    "Example 1:\n",
    "\n",
    "Input: ropes = [8, 4, 6, 12]\n",
    "Output: 58\n",
    "Explanation: The optimal way to connect ropes is as follows\n",
    "1. Connect the ropes of length 4 and 6 (cost is 10). Ropes after connecting: [8, 10, 12]\n",
    "2. Connect the ropes of length 8 and 10 (cost is 18). Ropes after connecting: [18, 12]\n",
    "3. Connect the ropes of length 18 and 12 (cost is 30).\n",
    "Total cost to connect the ropes is 10 + 18 + 30 = 58\n",
    "Example 2:\n",
    "\n",
    "Input: ropes = [20, 4, 8, 2]\n",
    "Output: 54\n",
    "Example 3:\n",
    "\n",
    "Input: ropes = [1, 2, 5, 10, 35, 89]\n",
    "Output: 224\n",
    "Example 4:\n",
    "\n",
    "Input: ropes = [2, 2, 3, 3]\n",
    "Output: 20\n",
    "'''"
   ]
  },
  {
   "cell_type": "code",
   "execution_count": null,
   "metadata": {},
   "outputs": [],
   "source": [
    "'''\n",
    "A typical priority queue problem, every step you pick two shortest ropes and connect them,\n",
    "then put it back to the selections, you keep this process until there is only one left.\n",
    "'''"
   ]
  },
  {
   "cell_type": "code",
   "execution_count": 222,
   "metadata": {},
   "outputs": [],
   "source": [
    "import heapq\n",
    "def minCost(ropes):\n",
    "    if not ropes:\n",
    "        return 0\n",
    "    if len(ropes) == 1:\n",
    "        return ropes[0]\n",
    "    cost = 0\n",
    "    heapq.heapify(ropes)\n",
    "    # 当不止一根绳子时\n",
    "    while len(ropes) > 1:\n",
    "        a, b = heapq.heappop(ropes), heapq.heappop(ropes)\n",
    "        new = a + b\n",
    "        cost += new\n",
    "        # 只要 heap non empty\n",
    "        if ropes:\n",
    "            heapq.heappush(ropes, new)\n",
    "    return cost"
   ]
  },
  {
   "cell_type": "code",
   "execution_count": 223,
   "metadata": {},
   "outputs": [
    {
     "name": "stdout",
     "output_type": "stream",
     "text": [
      "58\n",
      "54\n",
      "224\n",
      "20\n"
     ]
    }
   ],
   "source": [
    "ropes = [8, 4, 6, 12]\n",
    "print(minCost(ropes))\n",
    "ropes = [20, 4, 8, 2]\n",
    "print(minCost(ropes))\n",
    "ropes = [1, 2, 5, 10, 35, 89]\n",
    "print(minCost(ropes))\n",
    "ropes = [2, 2, 3, 3]\n",
    "print(minCost(ropes))"
   ]
  },
  {
   "cell_type": "code",
   "execution_count": null,
   "metadata": {},
   "outputs": [],
   "source": []
  },
  {
   "cell_type": "markdown",
   "metadata": {},
   "source": [
    "## Problem 10: Roll Dice\n",
    "https://blog.csdn.net/qq_35175413/article/details/98751076"
   ]
  },
  {
   "cell_type": "code",
   "execution_count": null,
   "metadata": {},
   "outputs": [],
   "source": [
    "'''\n",
    "A six-sided die is a small cube with a different number of pips on each face (side), ranging from 1 to 6.\n",
    "On any two opposite side of the cube, the number of pips adds up to 7; that is, there are three pairs of opposite sides: 1 and 6, 2 and 5, and 3 and 4.\n",
    "There are N dice lying on a table, each showing the pips on its top face. In one move, you can take one die and rotate it to an adjacent face.\n",
    "For example, you can rotate a die that shows 1 s that it shows 2, 3, 4 or 5. However, it cannot show 6 in a single move, because the faces with one pip and six pips visible are opposite sides rather than adjacent.\n",
    "You want to show the same number of pips on the top face of all N dice. Given that each of the dice can be moved multiple times, count the minimum number of moves needed to get equal faces.\n",
    "\n",
    "\n",
    "Write a function that, given an array A consisting of N integers describing the number of pips (from 1 to 6) shown on each die's top face, returns the minimum number of moves necessary for each die show the same number of pips.\n",
    "\n",
    "Example 1:\n",
    "\n",
    "Input: A = [1, 2, 3]\n",
    "Output: 2\n",
    "Explanation: You can pick the first two dice and rotate each of them in one move so that they all show three pips on the top face.\n",
    "Notice that you can also pick any other pair of dice in this case.\n",
    "\n",
    "E.g. 2\n",
    "\n",
    "Input: A = [1, 1, 6]\n",
    "Output: 2\n",
    "Explanation: The only optimal answer is to rotate the last die so that it shows one pip. It is necessary to use two rotations to achieve this.\n",
    "\n",
    "e.g.3\n",
    "Input: A = [1, 6, 2, 3]\n",
    "Output: 3\n",
    "Explanation: For instance, you can make all dice show 2: just rotate each die which is not showing 2.\n",
    "Notice that for each die you can do this in one move.\n",
    "'''"
   ]
  },
  {
   "cell_type": "code",
   "execution_count": null,
   "metadata": {},
   "outputs": [],
   "source": [
    "'''\n",
    "思路：无脑遍历所有可能的最终面： 1，2，3，4，5，6\n",
    "如果\n",
    "'''"
   ]
  },
  {
   "cell_type": "code",
   "execution_count": 212,
   "metadata": {},
   "outputs": [],
   "source": [
    "import collections\n",
    "class Solution:\n",
    "    def rollDice(self, A):\n",
    "        if not A:\n",
    "            return 0\n",
    "        dict = collections.Counter(A)\n",
    "        ans = 200\n",
    "        for i in range(1, 7):\n",
    "            tempMin = 0\n",
    "            for j in dict.keys():\n",
    "                w = 0\n",
    "                # case 1: i == j: 不用rotate\n",
    "                if i == j:\n",
    "                    w = 0\n",
    "                elif i + j == 7:\n",
    "                    w = 2\n",
    "                else:\n",
    "                    w = 1\n",
    "                tempMin += w * dict[j]\n",
    "            ans = min(ans, tempMin)\n",
    "        return ans\n",
    "                    "
   ]
  },
  {
   "cell_type": "code",
   "execution_count": 213,
   "metadata": {},
   "outputs": [
    {
     "name": "stdout",
     "output_type": "stream",
     "text": [
      "2\n",
      "2\n",
      "3\n"
     ]
    }
   ],
   "source": [
    "A = [1, 2, 3]\n",
    "s = Solution()\n",
    "print(s.rollDice(A))\n",
    "A = [1, 1, 6]\n",
    "print(s.rollDice(A))\n",
    "A = [1, 6, 2, 3]\n",
    "print(s.rollDice(A))"
   ]
  },
  {
   "cell_type": "code",
   "execution_count": null,
   "metadata": {},
   "outputs": [],
   "source": []
  },
  {
   "cell_type": "markdown",
   "metadata": {},
   "source": [
    "## Problem 11: Treasure Island\n",
    "https://leetcode.com/discuss/interview-question/347457"
   ]
  },
  {
   "cell_type": "code",
   "execution_count": null,
   "metadata": {},
   "outputs": [],
   "source": [
    "'''\n",
    "Input:\n",
    "[['O', 'O', 'O', 'O'],\n",
    " ['D', 'O', 'D', 'O'],\n",
    " ['O', 'O', 'O', 'O'],\n",
    " ['X', 'D', 'D', 'O']]\n",
    "\n",
    "Output: 5\n",
    "Explanation: Route is (0, 0), (0, 1), (1, 1), (2, 1), (2, 0), (3, 0) The minimum route takes 5 steps.\n",
    "'''"
   ]
  },
  {
   "cell_type": "code",
   "execution_count": 278,
   "metadata": {},
   "outputs": [],
   "source": [
    "from collections import deque\n",
    "D = [[1, 0], [-1, 0], [0, 1], [0, -1]]\n",
    "def findShortestRoute(grid):\n",
    "    if not grid:\n",
    "        return 0\n",
    "    m, n = len(grid), len(grid[0])\n",
    "    que = deque()\n",
    "    que.append([0, 3, 0])\n",
    "    visited = set([])\n",
    "    visited.add((0, 0))\n",
    "    \n",
    "    while que:\n",
    "        size = len(que)\n",
    "        for _ in range(size):\n",
    "            cur_x, cur_y, step = que.popleft()\n",
    "            for dx, dy in D:\n",
    "                nx = cur_x + dx\n",
    "                ny = cur_y + dy \n",
    "                if 0 <= nx < m and 0 <= ny < n and grid[nx][ny] == 'X':\n",
    "                    return step + 1\n",
    "                if 0 <= nx < m and 0 <= ny < n and grid[nx][ny] == 'O' and (nx, ny) not in visited:\n",
    "                    que.append([nx, ny, step + 1])\n",
    "                    visited.add((nx, ny))\n",
    "    return -1\n",
    "    "
   ]
  },
  {
   "cell_type": "code",
   "execution_count": 249,
   "metadata": {},
   "outputs": [
    {
     "name": "stdout",
     "output_type": "stream",
     "text": [
      "5\n"
     ]
    }
   ],
   "source": [
    "grid = [\n",
    "     ['O', 'O', 'O', 'O'],\n",
    "     ['D', 'O', 'D', 'O'],\n",
    "     ['O', 'O', 'O', 'O'],\n",
    "     ['X', 'D', 'D', 'O']]\n",
    "print(findShortestRoute(grid))"
   ]
  },
  {
   "cell_type": "markdown",
   "metadata": {},
   "source": [
    "## Problem 12: Treasure Island II\n",
    "https://leetcode.com/discuss/interview-question/356150"
   ]
  },
  {
   "cell_type": "code",
   "execution_count": null,
   "metadata": {},
   "outputs": [],
   "source": [
    "'''\n",
    "Input:\n",
    "[['S', 'O', 'O', 'S', 'S'],\n",
    " ['D', 'O', 'D', 'O', 'D'],\n",
    " ['O', 'O', 'O', 'O', 'X'],\n",
    " ['X', 'D', 'D', 'O', 'O'],\n",
    " ['X', 'D', 'D', 'D', 'O']]\n",
    "\n",
    "Output: 3\n",
    "Explanation:\n",
    "You can start from (0,0), (0, 3) or (0, 4). The treasure locations are (2, 4) (3, 0) and (4, 0). \n",
    "Here the shortest route is (0, 3), (1, 3), (2, 3), (2, 4).\n",
    "'''"
   ]
  },
  {
   "cell_type": "code",
   "execution_count": 284,
   "metadata": {},
   "outputs": [],
   "source": [
    "from collections import deque\n",
    "import sys\n",
    "D = [[1, 0], [-1, 0], [0, 1], [0, -1]]\n",
    "def shortestPath(grid):\n",
    "    if not grid or not grid[0]:\n",
    "        return 0\n",
    "    m, n = len(grid), len(grid[0])\n",
    "    min_dist = sys.maxsize\n",
    "    for i in range(m):\n",
    "        for j in range(n):\n",
    "            if grid[i][j] == 'S':\n",
    "                que = deque()\n",
    "                que.append([i, j, 0])\n",
    "                visited = set([])\n",
    "                visited.add((i, j))\n",
    "                min_dist = min(min_dist, bfs(grid, que, visited, m, n))\n",
    "                \n",
    "    return min_dist\n",
    "\n",
    "def bfs(grid, que, visited, m, n):\n",
    "    while que:\n",
    "        size = len(que)\n",
    "        for _ in range(size):\n",
    "            cur_x, cur_y, step = que.popleft()\n",
    "            for dx, dy in D:\n",
    "                nx = cur_x + dx\n",
    "                ny = cur_y + dy\n",
    "                if 0 <= nx < m and 0 < ny < n and grid[nx][ny] == 'X':\n",
    "                    return step + 1\n",
    "                if 0 <= nx < m and 0 <= ny < n and grid[nx][ny] != 'D' and (nx, ny) not in visited:\n",
    "                    visited.add((nx, ny))\n",
    "                    que.append([nx, ny, step + 1])\n",
    "    return -1"
   ]
  },
  {
   "cell_type": "code",
   "execution_count": 285,
   "metadata": {},
   "outputs": [
    {
     "name": "stdout",
     "output_type": "stream",
     "text": [
      "3\n"
     ]
    }
   ],
   "source": [
    "grid = [['S', 'O', 'O', 'S', 'S'],\n",
    " ['D', 'O', 'D', 'O', 'D'],\n",
    " ['O', 'O', 'O', 'O', 'X'],\n",
    " ['X', 'D', 'D', 'O', 'O'],\n",
    " ['X', 'D', 'D', 'D', 'O']]\n",
    "print(shortestPath(grid))"
   ]
  },
  {
   "cell_type": "code",
   "execution_count": null,
   "metadata": {},
   "outputs": [],
   "source": []
  },
  {
   "cell_type": "markdown",
   "metadata": {},
   "source": [
    "## Problem 13: Find Pair With Given Sum\n",
    "https://leetcode.com/discuss/interview-question/356960"
   ]
  },
  {
   "cell_type": "code",
   "execution_count": null,
   "metadata": {},
   "outputs": [],
   "source": [
    "'''\n",
    "Given a list of positive integers nums and an int target, return indices of the two numbers such that they add up to a target - 30.\n",
    "\n",
    "Conditions:\n",
    "\n",
    "You will pick exactly 2 numbers.\n",
    "You cannot pick the same element twice.\n",
    "If you have muliple pairs, select the pair with the largest number.\n",
    "Example 1:\n",
    "\n",
    "Input: nums = [1, 10, 25, 35, 60], target = 90\n",
    "Output: [2, 3]\n",
    "Explanation:\n",
    "nums[2] + nums[3] = 25 + 35 = 60 = 90 - 30\n",
    "Example 2:\n",
    "\n",
    "Input: nums = [20, 50, 40, 25, 30, 10], target = 90\n",
    "Output: [1, 5]\n",
    "Explanation:\n",
    "nums[0] + nums[2] = 20 + 40 = 60 = 90 - 30\n",
    "nums[1] + nums[5] = 50 + 10 = 60 = 90 - 30\n",
    "You should return the pair with the largest number.\n",
    "'''"
   ]
  },
  {
   "cell_type": "code",
   "execution_count": 6,
   "metadata": {},
   "outputs": [],
   "source": [
    "def findSum(nums, target):\n",
    "    ans = [-1, -1]\n",
    "    max_val = -1\n",
    "    target -= 30\n",
    "    # map is used to store the location of target - num\n",
    "    mapping = {}\n",
    "    for index, num in enumerate(nums):\n",
    "        # case 1: current num is not in map, which represents that no previous num + current num = target\n",
    "        if num not in mapping:\n",
    "            # store it\n",
    "            mapping[target - num] = index\n",
    "        # case 2: current num in map, check whether it is > previous number, if so, update the ans and global max\n",
    "        else:\n",
    "            if max(num, target- num) > max_val:\n",
    "                max_val = max(num, target- num)\n",
    "                ans[0] = mapping[num]  # previous num\n",
    "                ans[1] = index  # current num\n",
    "    if ans == [-1, -1]:\n",
    "        return []\n",
    "    return ans"
   ]
  },
  {
   "cell_type": "code",
   "execution_count": 7,
   "metadata": {},
   "outputs": [
    {
     "name": "stdout",
     "output_type": "stream",
     "text": [
      "[2, 3]\n",
      "[1, 5]\n"
     ]
    }
   ],
   "source": [
    "nums = [1, 10, 25, 35, 60]\n",
    "target = 90\n",
    "print(findSum(nums, target))\n",
    "nums = [20, 50, 40, 25, 30, 10]\n",
    "target = 90\n",
    "print(findSum(nums, target))"
   ]
  },
  {
   "cell_type": "code",
   "execution_count": null,
   "metadata": {},
   "outputs": [],
   "source": []
  },
  {
   "cell_type": "markdown",
   "metadata": {},
   "source": [
    "## Problem 14: 138. Copy List with Random Pointer\n",
    "https://leetcode.com/problems/copy-list-with-random-pointer/"
   ]
  },
  {
   "cell_type": "code",
   "execution_count": null,
   "metadata": {},
   "outputs": [],
   "source": [
    "# 没做"
   ]
  },
  {
   "cell_type": "markdown",
   "metadata": {},
   "source": [
    "## Problem 15: 21. Merge Two Sorted Lists\n",
    "https://leetcode.com/problems/merge-two-sorted-lists/"
   ]
  },
  {
   "cell_type": "code",
   "execution_count": null,
   "metadata": {},
   "outputs": [],
   "source": [
    "# pass"
   ]
  },
  {
   "cell_type": "code",
   "execution_count": null,
   "metadata": {},
   "outputs": [],
   "source": []
  },
  {
   "cell_type": "markdown",
   "metadata": {},
   "source": [
    "## Problem 16: 572. Subtree of Another Tree\n",
    "https://leetcode.com/problems/subtree-of-another-tree/"
   ]
  },
  {
   "cell_type": "code",
   "execution_count": null,
   "metadata": {},
   "outputs": [],
   "source": [
    "# question!!!!!!!!!"
   ]
  },
  {
   "cell_type": "code",
   "execution_count": null,
   "metadata": {},
   "outputs": [],
   "source": []
  },
  {
   "cell_type": "markdown",
   "metadata": {},
   "source": [
    "## Problem 17. 240. Search a 2D Matrix II\n",
    "https://leetcode.com/problems/search-a-2d-matrix-ii/"
   ]
  },
  {
   "cell_type": "code",
   "execution_count": null,
   "metadata": {},
   "outputs": [],
   "source": [
    "'''\n",
    "Write an efficient algorithm that searches for a value in an m x n matrix. This matrix has the following properties:\n",
    "\n",
    "Integers in each row are sorted in ascending from left to right.\n",
    "Integers in each column are sorted in ascending from top to bottom.\n",
    "Example:\n",
    "\n",
    "Consider the following matrix:\n",
    "\n",
    "[\n",
    "  [1,   4,  7, 11, 15],\n",
    "  [2,   5,  8, 12, 19],\n",
    "  [3,   6,  9, 16, 22],\n",
    "  [10, 13, 14, 17, 24],\n",
    "  [18, 21, 23, 26, 30]\n",
    "]\n",
    "Given target = 5, return true.\n",
    "\n",
    "Given target = 20, return false.\n",
    "'''"
   ]
  },
  {
   "cell_type": "code",
   "execution_count": 337,
   "metadata": {},
   "outputs": [],
   "source": [
    "def searchMatrix(matrix, target):\n",
    "    if not matrix or not matrix[0]:\n",
    "        return False\n",
    "    m, n = len(matrix), len(matrix[0])\n",
    "    i, j = 0, n - 1\n",
    "    while i < m and j >= 0:\n",
    "        # case 1: cur val < target: move down\n",
    "        if matrix[i][j] < target:\n",
    "            i += 1\n",
    "        # case 2: cur val > target : move left\n",
    "        elif matrix[i][j] > target:\n",
    "            j -= 1\n",
    "        else:\n",
    "            return True\n",
    "    return False\n",
    "            \n",
    "    \n",
    "    "
   ]
  },
  {
   "cell_type": "code",
   "execution_count": 338,
   "metadata": {},
   "outputs": [
    {
     "name": "stdout",
     "output_type": "stream",
     "text": [
      "True\n",
      "False\n"
     ]
    }
   ],
   "source": [
    "matrix = [\n",
    "  [1,   4,  7, 11, 15],\n",
    "  [2,   5,  8, 12, 19],\n",
    "  [3,   6,  9, 16, 22],\n",
    "  [10, 13, 14, 17, 24],\n",
    "  [18, 21, 23, 26, 30]\n",
    "]\n",
    "target = 5\n",
    "print(searchMatrix(matrix, target))\n",
    "matrix = [\n",
    "  [1,   4,  7, 11, 15],\n",
    "  [2,   5,  8, 12, 19],\n",
    "  [3,   6,  9, 16, 22],\n",
    "  [10, 13, 14, 17, 24],\n",
    "  [18, 21, 23, 26, 30]\n",
    "]\n",
    "target = 20\n",
    "print(searchMatrix(matrix, target))"
   ]
  },
  {
   "cell_type": "markdown",
   "metadata": {},
   "source": [
    "## related problem 74. Search a 2D Matrix\n",
    "https://leetcode.com/problems/search-a-2d-matrix/"
   ]
  },
  {
   "cell_type": "code",
   "execution_count": null,
   "metadata": {},
   "outputs": [],
   "source": [
    "# pass"
   ]
  },
  {
   "cell_type": "markdown",
   "metadata": {},
   "source": [
    "## Problem 18: Favorite Genres\n",
    "https://leetcode.com/discuss/interview-question/373006"
   ]
  },
  {
   "cell_type": "code",
   "execution_count": null,
   "metadata": {},
   "outputs": [],
   "source": [
    "'''\n",
    "Given a map Map<String, List<String>> userSongs with user names as keys \n",
    "and a list of all the songs that the user has listened to as values.\n",
    "\n",
    "Also given a map Map<String, List<String>> songGenres, with song genre as keys \n",
    "and a list of all the songs within that genre as values. The song can only belong to only one genre.\n",
    "\n",
    "The task is to return a map Map<String, List<String>>, \n",
    "where the key is a user name and the value is a list of the user's favorite genre(s). \n",
    "Favorite genre is the most listened to genre. \n",
    "A user can have more than one favorite genre if he/she has listened to the same number of songs per each of the genres.\n",
    "\n",
    "Example 1:\n",
    "\n",
    "Input:\n",
    "userSongs = {  \n",
    "   \"David\": [\"song1\", \"song2\", \"song3\", \"song4\", \"song8\"],\n",
    "   \"Emma\":  [\"song5\", \"song6\", \"song7\"]\n",
    "},\n",
    "songGenres = {  \n",
    "   \"Rock\":    [\"song1\", \"song3\"],\n",
    "   \"Dubstep\": [\"song7\"],\n",
    "   \"Techno\":  [\"song2\", \"song4\"],\n",
    "   \"Pop\":     [\"song5\", \"song6\"],\n",
    "   \"Jazz\":    [\"song8\", \"song9\"]\n",
    "}\n",
    "\n",
    "Output: {  \n",
    "   \"David\": [\"Rock\", \"Techno\"],\n",
    "   \"Emma\":  [\"Pop\"]\n",
    "}\n",
    "\n",
    "Explanation:\n",
    "David has 2 Rock, 2 Techno and 1 Jazz song. So he has 2 favorite genres.\n",
    "Emma has 2 Pop and 1 Dubstep song. Pop is Emma's favorite genre.\n",
    "Example 2:\n",
    "\n",
    "Input:\n",
    "userSongs = {  \n",
    "   \"David\": [\"song1\", \"song2\"],\n",
    "   \"Emma\":  [\"song3\", \"song4\"]\n",
    "},\n",
    "songGenres = {}\n",
    "\n",
    "Output: {  \n",
    "   \"David\": [],\n",
    "   \"Emma\":  []\n",
    "}\n",
    "'''"
   ]
  },
  {
   "cell_type": "code",
   "execution_count": 8,
   "metadata": {},
   "outputs": [],
   "source": [
    "import collections\n",
    "def favGenres(userSongs, songGenres):\n",
    "    if not userSongs:\n",
    "        return\n",
    "    mapping = {}\n",
    "    for user in userSongs:\n",
    "        song_list = userSongs[user]\n",
    "        genre_count = collections.defaultdict(int)\n",
    "        for song in song_list:\n",
    "            for genre, songs in songGenres.items():\n",
    "                if song in songs:\n",
    "                    genre_count[genre] += 1\n",
    "        mapping[user] = [genre for genre, freq in genre_count.items() if freq == max(genre_count.values())]\n",
    "    return mapping\n",
    "        "
   ]
  },
  {
   "cell_type": "code",
   "execution_count": 9,
   "metadata": {},
   "outputs": [
    {
     "name": "stdout",
     "output_type": "stream",
     "text": [
      "{'David': ['Rock', 'Techno'], 'Emma': ['Pop']}\n",
      "{'David': [], 'Emma': []}\n"
     ]
    }
   ],
   "source": [
    "userSongs = {  \n",
    "   \"David\": [\"song1\", \"song2\", \"song3\", \"song4\", \"song8\"],\n",
    "   \"Emma\":  [\"song5\", \"song6\", \"song7\"]\n",
    "}\n",
    "songGenres = {  \n",
    "   \"Rock\":    [\"song1\", \"song3\"],\n",
    "   \"Dubstep\": [\"song7\"],\n",
    "   \"Techno\":  [\"song2\", \"song4\"],\n",
    "   \"Pop\":     [\"song5\", \"song6\"],\n",
    "   \"Jazz\":    [\"song8\", \"song9\"]\n",
    "}\n",
    "print(favGenres(userSongs, songGenres))\n",
    "userSongs = {  \n",
    "   \"David\": [\"song1\", \"song2\"],\n",
    "   \"Emma\":  [\"song3\", \"song4\"]\n",
    "}\n",
    "songGenres = {}\n",
    "print(favGenres(userSongs, songGenres))"
   ]
  },
  {
   "cell_type": "code",
   "execution_count": null,
   "metadata": {},
   "outputs": [],
   "source": []
  },
  {
   "cell_type": "markdown",
   "metadata": {},
   "source": [
    "## Problem 19: Two Sum - Unique Pairs\n",
    "https://leetcode.com/discuss/interview-question/372434\n",
    "or\n",
    "\n",
    "Lintcode https://www.lintcode.com/problem/two-sum-unique-pairs/description"
   ]
  },
  {
   "cell_type": "code",
   "execution_count": null,
   "metadata": {},
   "outputs": [],
   "source": [
    "'''\n",
    "Given an int array nums and an int target, find how many unique pairs in the array such that their sum is equal to target. \n",
    "Return the number of pairs.\n",
    "Example 1:\n",
    "\n",
    "Input: nums = [1, 1, 2, 45, 46, 46], target = 47\n",
    "Output: 2\n",
    "Explanation:\n",
    "1 + 46 = 47\n",
    "2 + 45 = 47\n",
    "Example 2:\n",
    "\n",
    "Input: nums = [1, 1], target = 2\n",
    "Output: 1\n",
    "Explanation:\n",
    "1 + 1 = 2\n",
    "Example 3:\n",
    "\n",
    "Input: nums = [1, 5, 1, 5], target = 6\n",
    "Output: 1\n",
    "Explanation:\n",
    "[1, 5] and [5, 1] are considered the same.\n",
    "'''"
   ]
  },
  {
   "cell_type": "code",
   "execution_count": 392,
   "metadata": {},
   "outputs": [],
   "source": [
    "def uniqueTwoSum(nums, target):\n",
    "    # remove duplicate\n",
    "    if not nums:\n",
    "        return 0\n",
    "    nums.sort()\n",
    "    count = 0\n",
    "    left, right = 0, len(nums) - 1\n",
    "    while left < right:\n",
    "        # case 1: sum < target:\n",
    "        if nums[left] + nums[right] < target:\n",
    "            left += 1\n",
    "        elif nums[left] + nums[right] > target:\n",
    "            right -= 1\n",
    "        else:\n",
    "            while left < right and nums[left] == nums[left+1]:\n",
    "                left += 1\n",
    "\n",
    "            while left < right and nums[right] == nums[right - 1]:\n",
    "                right -= 1\n",
    "            count += 1\n",
    "            left += 1\n",
    "            right -= 1\n",
    "    return count\n",
    "            \n",
    "    \n",
    "    \n",
    "    "
   ]
  },
  {
   "cell_type": "code",
   "execution_count": 393,
   "metadata": {},
   "outputs": [
    {
     "name": "stdout",
     "output_type": "stream",
     "text": [
      "2\n",
      "1\n",
      "1\n"
     ]
    }
   ],
   "source": [
    "nums = [1, 1, 2, 45, 46, 46]\n",
    "target = 47\n",
    "print(uniqueTwoSum(nums, target))\n",
    "nums = [1, 1]\n",
    "target = 2\n",
    "print(uniqueTwoSum(nums, target))\n",
    "nums = [1, 5, 1, 5]\n",
    "target = 6\n",
    "print(uniqueTwoSum(nums, target))"
   ]
  },
  {
   "cell_type": "code",
   "execution_count": null,
   "metadata": {},
   "outputs": [],
   "source": []
  },
  {
   "cell_type": "markdown",
   "metadata": {},
   "source": [
    "## Problem 20. 59. Spiral Matrix II\n",
    "https://leetcode.com/problems/spiral-matrix-ii/"
   ]
  },
  {
   "cell_type": "code",
   "execution_count": null,
   "metadata": {},
   "outputs": [],
   "source": [
    "'''\n",
    "Given a positive integer n, generate a square matrix filled with elements from 1 to n2 in spiral order.\n",
    "\n",
    "Example:\n",
    "\n",
    "Input: 3\n",
    "Output:\n",
    "[\n",
    " [ 1, 2, 3 ],\n",
    " [ 8, 9, 4 ],\n",
    " [ 7, 6, 5 ]\n",
    "]\n",
    "'''"
   ]
  },
  {
   "cell_type": "code",
   "execution_count": 411,
   "metadata": {},
   "outputs": [],
   "source": [
    "def generateMatrix(n):\n",
    "    if n <= 0:\n",
    "        return []\n",
    "    matrix  = [[0 for _ in range(n)] for _ in range(n)]\n",
    "    number = 1\n",
    "    left, right = 0, n - 1\n",
    "    up, down = 0, n - 1\n",
    "    direction = 0\n",
    "    while True:\n",
    "        # left -> right\n",
    "        if direction == 0:\n",
    "            for i in range(left, right+1):\n",
    "                matrix[up][i] = number\n",
    "                number += 1\n",
    "            up += 1\n",
    "        # up -< down\n",
    "        elif direction == 1:\n",
    "            for i in range(up, down+1):\n",
    "                matrix[i][right] = number\n",
    "                number += 1\n",
    "            right -= 1\n",
    "        # right -> left\n",
    "        elif direction == 2:\n",
    "            for i in range(right, left-1, -1):\n",
    "                matrix[down][i] = number\n",
    "                number += 1\n",
    "            down -= 1\n",
    "        # down -> up\n",
    "        else:\n",
    "            for i in range(down, up-1, -1):\n",
    "                matrix[i][left] = number\n",
    "                number += 1\n",
    "            left += 1\n",
    "        direction += 1\n",
    "        direction = direction % 4\n",
    "        if number == n**2 + 1:\n",
    "            break\n",
    "    return matrix\n",
    "                \n",
    "    "
   ]
  },
  {
   "cell_type": "code",
   "execution_count": 412,
   "metadata": {},
   "outputs": [
    {
     "name": "stdout",
     "output_type": "stream",
     "text": [
      "[[1, 2, 3], [8, 9, 4], [7, 6, 5]]\n",
      "[[1, 2, 3, 4], [12, 13, 14, 5], [11, 16, 15, 6], [10, 9, 8, 7]]\n"
     ]
    }
   ],
   "source": [
    "n = 3\n",
    "print(generateMatrix(n))\n",
    "n = 4\n",
    "print(generateMatrix(n))"
   ]
  },
  {
   "cell_type": "code",
   "execution_count": null,
   "metadata": {},
   "outputs": [],
   "source": []
  },
  {
   "cell_type": "markdown",
   "metadata": {},
   "source": [
    "## Problem 21: Substrings with exactly K distinct chars\n",
    "https://leetcode.com/discuss/interview-question/370157"
   ]
  },
  {
   "cell_type": "code",
   "execution_count": null,
   "metadata": {},
   "outputs": [],
   "source": [
    "'''\n",
    "Given a string s and an int k,\n",
    "return an int representing the number of substrings (not unique) of s with exactly k distinct characters. \n",
    "If the given string doesn't have k distinct characters, return 0.\n",
    "Example 1:\n",
    "\n",
    "Input: s = \"pqpqs\", k = 2\n",
    "Output: 7\n",
    "Explanation: [\"pq\", \"pqp\", \"pqpq\", \"qp\", \"qpq\", \"pq\", \"qs\"]\n",
    "Example 2:\n",
    "\n",
    "Input: s = \"aabab\", k = 3\n",
    "Output: 0\n",
    "'''"
   ]
  },
  {
   "cell_type": "code",
   "execution_count": null,
   "metadata": {},
   "outputs": [],
   "source": [
    "## 这儿是exactly！！！ 比 Longest Substring with At Most K Distinct Characters， 简称AtMost(k)难！！\n",
    "## 思路： AtMost(k) = exactly k + AtMost(k-1)\n",
    "## 所以只需要求 AtMost(k) !!!!!"
   ]
  },
  {
   "cell_type": "code",
   "execution_count": 460,
   "metadata": {},
   "outputs": [],
   "source": [
    "import collections\n",
    "def subStringsWithKDistinctCharacters(s, k):\n",
    "    return atMost(s,k) - atMost(s, k-1)\n",
    "\n",
    "def atMost(s, k):\n",
    "    count = 0\n",
    "    left, right = 0, 0\n",
    "    hashmap = collections.defaultdict()\n",
    "    while right < len(s):\n",
    "        hashmap[s[right]] = right\n",
    "        right += 1\n",
    "        if len(hashmap) == k + 1:\n",
    "            left_id = min(hashmap.values())\n",
    "            del hashmap[s[left_id]]\n",
    "            left = left_id + 1\n",
    "        count += (right - left)\n",
    "    return count"
   ]
  },
  {
   "cell_type": "code",
   "execution_count": 462,
   "metadata": {},
   "outputs": [
    {
     "name": "stdout",
     "output_type": "stream",
     "text": [
      "7\n",
      "0\n"
     ]
    }
   ],
   "source": [
    "s = \"pqpqs\"\n",
    "k = 2\n",
    "print(subStringsWithKDistinctCharacters(s, k))\n",
    "s = \"aabab\"\n",
    "k = 3\n",
    "print(subStringsWithKDistinctCharacters(s, k))"
   ]
  },
  {
   "cell_type": "markdown",
   "metadata": {},
   "source": [
    "## Same problem: Subarrays with K Different Integers\n",
    "https://leetcode.com/problems/subarrays-with-k-different-integers/"
   ]
  },
  {
   "cell_type": "code",
   "execution_count": null,
   "metadata": {},
   "outputs": [],
   "source": [
    "'''\n",
    "Given an array A of positive integers, call a (contiguous, not necessarily distinct) subarray of A good if the number of different integers in that subarray is exactly K.\n",
    "\n",
    "(For example, [1,2,3,1,2] has 3 different integers: 1, 2, and 3.)\n",
    "\n",
    "Return the number of good subarrays of A.\n",
    "Example 1:\n",
    "\n",
    "Input: A = [1,2,1,2,3], K = 2\n",
    "Output: 7\n",
    "Explanation: Subarrays formed with exactly 2 different integers: [1,2], [2,1], [1,2], [2,3], [1,2,1], [2,1,2], [1,2,1,2].\n",
    "Example 2:\n",
    "\n",
    "Input: A = [1,2,1,3,4], K = 3\n",
    "Output: 3\n",
    "Explanation: Subarrays formed with exactly 3 different integers: [1,2,1,3], [2,1,3], [1,3,4].\n",
    "'''"
   ]
  },
  {
   "cell_type": "code",
   "execution_count": null,
   "metadata": {},
   "outputs": [],
   "source": []
  },
  {
   "cell_type": "markdown",
   "metadata": {},
   "source": [
    "## Related problem: 340. Longest Substring with At Most K Distinct Characters\n",
    "https://leetcode.com/problems/longest-substring-with-at-most-k-distinct-characters/"
   ]
  },
  {
   "cell_type": "code",
   "execution_count": null,
   "metadata": {},
   "outputs": [],
   "source": [
    "'''\n",
    "Given a string, find the length of the longest substring T that contains at most k distinct characters.\n",
    "\n",
    "Example 1:\n",
    "\n",
    "Input: s = \"eceba\", k = 2\n",
    "Output: 3\n",
    "Explanation: T is \"ece\" which its length is 3.\n",
    "Example 2:\n",
    "\n",
    "Input: s = \"aa\", k = 1\n",
    "Output: 2\n",
    "Explanation: T is \"aa\" which its length is 2.\n",
    "'''"
   ]
  },
  {
   "cell_type": "code",
   "execution_count": null,
   "metadata": {},
   "outputs": [],
   "source": [
    "'''\n",
    "思路： 双指针，先both set 0, 然后移动right while the window 中含有不超过K个不同的char\n",
    "如果在某一时刻，不同的字符数达到了K+1, 则 移动left 使得window内不超过K个，难点：怎么移动左指针？\n",
    "ans: left移动到leftmost + 1, 这样window 内就只有K 个啦 （window里储存字符的hashmap 删去 leftmost对应的噢）！\n",
    "hashmap[char] = rightmost position of char!!!!\n",
    "'''"
   ]
  },
  {
   "cell_type": "code",
   "execution_count": 450,
   "metadata": {},
   "outputs": [],
   "source": [
    "import collections\n",
    "def lengthOfLongestSubstringKDistinct(s, k):\n",
    "    if not s or not k:\n",
    "        return 0\n",
    "    longest = 0\n",
    "    left, right = 0, 0\n",
    "    hashmap = collections.defaultdict()\n",
    "    # right 先走到有K+1个不同字符的位置，形成一个sliding window\n",
    "    while right < len(s):\n",
    "        hashmap[s[right]] = right\n",
    "        right += 1\n",
    "        \n",
    "        # 直到 满足了K+1 distinct chars\n",
    "        if len(hashmap) == K+1:\n",
    "            # 删除最左边的\n",
    "            left_id = min(hashmap.values())\n",
    "            del hashmap[s[left_id]]\n",
    "            left = left_id + 1\n",
    "        \n",
    "        longest = max(longest, right - left)\n",
    "    return longest\n",
    "        \n",
    "    \n",
    "    "
   ]
  },
  {
   "cell_type": "code",
   "execution_count": 454,
   "metadata": {},
   "outputs": [
    {
     "name": "stdout",
     "output_type": "stream",
     "text": [
      "3\n",
      "2\n"
     ]
    }
   ],
   "source": [
    "s = \"eceba\"\n",
    "k = 2\n",
    "print(lengthOfLongestSubstringKDistinct(s, k))\n",
    "s = \"aa\"\n",
    "k = 1\n",
    "print(lengthOfLongestSubstringKDistinct(s, k))"
   ]
  },
  {
   "cell_type": "markdown",
   "metadata": {},
   "source": [
    "## related problem: 3. Longest Substring Without Repeating Characters\n",
    "https://leetcode.com/problems/longest-substring-without-repeating-characters/"
   ]
  },
  {
   "cell_type": "code",
   "execution_count": null,
   "metadata": {},
   "outputs": [],
   "source": [
    "'''\n",
    "Given a string, find the length of the longest substring without repeating characters.\n",
    "\n",
    "Example 1:\n",
    "\n",
    "Input: \"abcabcbb\"\n",
    "Output: 3 \n",
    "Explanation: The answer is \"abc\", with the length of 3. \n",
    "Example 2:\n",
    "\n",
    "Input: \"bbbbb\"\n",
    "Output: 1\n",
    "Explanation: The answer is \"b\", with the length of 1.\n",
    "Example 3:\n",
    "\n",
    "Input: \"pwwkew\"\n",
    "Output: 3\n",
    "Explanation: The answer is \"wke\", with the length of 3. \n",
    "             Note that the answer must be a substring, \"pwke\" is a subsequence and not a substring.\n",
    "'''"
   ]
  },
  {
   "cell_type": "code",
   "execution_count": 448,
   "metadata": {},
   "outputs": [],
   "source": [
    "def lengthOfLongestSubstring(s):\n",
    "    longest = 0\n",
    "    uniq_char = set([])\n",
    "    right = 0\n",
    "    for left in range(len(s)):\n",
    "        while right < len(s) and s[right] not in uniq_char:\n",
    "            uniq_char.add(s[right])\n",
    "            right += 1\n",
    "        \n",
    "        longest = max(longest, right - left)\n",
    "        uniq_char.remove(s[left])\n",
    "    return longest\n",
    "            \n",
    "    "
   ]
  },
  {
   "cell_type": "code",
   "execution_count": 449,
   "metadata": {},
   "outputs": [
    {
     "name": "stdout",
     "output_type": "stream",
     "text": [
      "3\n",
      "1\n",
      "3\n"
     ]
    }
   ],
   "source": [
    "s = \"abcabcbb\"\n",
    "print(lengthOfLongestSubstring(s))\n",
    "s = \"bbbbb\"\n",
    "print(lengthOfLongestSubstring(s))\n",
    "s = \"pwwkew\"\n",
    "print(lengthOfLongestSubstring(s))"
   ]
  },
  {
   "cell_type": "code",
   "execution_count": null,
   "metadata": {},
   "outputs": [],
   "source": []
  },
  {
   "cell_type": "markdown",
   "metadata": {},
   "source": [
    "## Problem 22: Max Of Min Altitudes\n",
    "https://leetcode.com/discuss/interview-question/383669/"
   ]
  },
  {
   "cell_type": "code",
   "execution_count": null,
   "metadata": {},
   "outputs": [],
   "source": [
    "'''\n",
    "Given a matrix with r rows and c columns, find the maximum score of a path starting at [0, 0] and ending at [r-1, c-1]. The score of a path is the minimum value in that path. For example, the score of the path 8 → 4 → 5 → 9 is 4.\n",
    "\n",
    "Don't include the first or final entry. You can only move either down or right at any point in time.\n",
    "\n",
    "Example 1:\n",
    "\n",
    "Input:\n",
    "[[5, 1],\n",
    " [4, 5]]\n",
    "\n",
    "Output: 4\n",
    "Explanation:\n",
    "Possible paths:\n",
    "5 → 1 → 5 => min value is 1\n",
    "5 → 4 → 5 => min value is 4\n",
    "Return the max value among minimum values => max(4, 1) = 4.\n",
    "Example 2:\n",
    "\n",
    "Input:\n",
    "[[1, 2, 3]\n",
    " [4, 5, 1]]\n",
    "\n",
    "Output: 4\n",
    "Explanation:\n",
    "Possible paths:\n",
    "1-> 2 -> 3 -> 1\n",
    "1-> 2 -> 5 -> 1\n",
    "1-> 4 -> 5 -> 1\n",
    "So min of all the paths = [2, 2, 4]. Note that we don't include the first and final entry.\n",
    "Return the max of that, so 4.\n",
    "\n",
    "'''"
   ]
  },
  {
   "cell_type": "code",
   "execution_count": 474,
   "metadata": {},
   "outputs": [],
   "source": [
    "def max_min_path(matrix):\n",
    "    if not matrix or not matrix[0]:\n",
    "        return \n",
    "    m, n = len(matrix), len(matrix[0])        \n",
    "    dp = [[-sys.maxsize]*n for _ in range(m)]\n",
    "    for i in range(m):\n",
    "        for j in range(n):\n",
    "            if i == 0 and j == 0:\n",
    "                continue\n",
    "            elif i == m - 1 and j == n - 1:\n",
    "                continue\n",
    "            elif (i == 1 and j == 0) or (j == 1 and i == 0):\n",
    "                dp[i][j] = matrix[i][j]\n",
    "            elif i == 0:\n",
    "                dp[i][j] = min(matrix[i][j], dp[i][j-1])\n",
    "            elif j == 0:\n",
    "                dp[i][j] = min(matrix[i][j], dp[i-1][j])\n",
    "            elif i > 0 and j > 0:\n",
    "                dp[i][j] = min(matrix[i][j], max(dp[i-1][j], dp[i][j-1]))\n",
    "    if m == 1:\n",
    "        return dp[0][-2]\n",
    "    if n == 1:\n",
    "        return dp[-2][0]\n",
    "    return max(dp[-2][-1], dp[-1][-2])\n",
    "    \n",
    "    \n",
    "    "
   ]
  },
  {
   "cell_type": "code",
   "execution_count": 478,
   "metadata": {},
   "outputs": [
    {
     "name": "stdout",
     "output_type": "stream",
     "text": [
      "4\n",
      "4\n",
      "4\n",
      "2\n",
      "3\n"
     ]
    }
   ],
   "source": [
    "matrix = [[5, 1],[4, 5]]\n",
    "print(max_min_path(matrix))\n",
    "matrix = [[1, 2, 3],[4, 5, 1]]\n",
    "print(max_min_path(matrix))\n",
    "matrix = [[5,1,2],[4,5,3],[4,5,9]]\n",
    "print(max_min_path(matrix))\n",
    "matrix = [[1,2,3,4]]\n",
    "print(max_min_path(matrix))\n",
    "matrix = [[1],[3],[3],[6],[3]]\n",
    "print(max_min_path(matrix))"
   ]
  },
  {
   "cell_type": "code",
   "execution_count": null,
   "metadata": {},
   "outputs": [],
   "source": []
  },
  {
   "cell_type": "markdown",
   "metadata": {},
   "source": [
    "## problem 23. 5. Longest Palindromic Substring\n",
    "https://leetcode.com/problems/longest-palindromic-substring/"
   ]
  },
  {
   "cell_type": "code",
   "execution_count": null,
   "metadata": {},
   "outputs": [],
   "source": [
    "'''\n",
    "Given a string s, find the longest palindromic substring in s. You may assume that the maximum length of s is 1000.\n",
    "\n",
    "Example 1:\n",
    "\n",
    "Input: \"babad\"\n",
    "Output: \"bab\"\n",
    "Note: \"aba\" is also a valid answer.\n",
    "Example 2:\n",
    "\n",
    "Input: \"cbbd\"\n",
    "Output: \"bb\"\n",
    "'''"
   ]
  },
  {
   "cell_type": "code",
   "execution_count": 481,
   "metadata": {},
   "outputs": [],
   "source": [
    "def longestPalindrome(s):\n",
    "    if not s:\n",
    "        return \"\"\n",
    "    longest = \"\"\n",
    "    for middle in range(len(s)):\n",
    "        # odd case\n",
    "        sub = find(s, middle, middle)\n",
    "        if len(sub) > len(longest):\n",
    "            longest = sub\n",
    "        # even case\n",
    "        sub = find(s, middle, middle + 1)\n",
    "        if len(sub) > len(longest):\n",
    "            longest = sub\n",
    "    return longest\n",
    "\n",
    "def find(s, start, end):\n",
    "    while start >= 0 and end < len(s) and s[start] == s[end]:\n",
    "        start -= 1\n",
    "        end += 1\n",
    "    return s[start+1:end]\n"
   ]
  },
  {
   "cell_type": "code",
   "execution_count": 482,
   "metadata": {},
   "outputs": [
    {
     "name": "stdout",
     "output_type": "stream",
     "text": [
      "bab\n",
      "bb\n"
     ]
    }
   ],
   "source": [
    "s = \"babad\"\n",
    "print(longestPalindrome(s))\n",
    "s = \"cbbd\"\n",
    "print(longestPalindrome(s))"
   ]
  },
  {
   "cell_type": "code",
   "execution_count": null,
   "metadata": {},
   "outputs": [],
   "source": []
  },
  {
   "cell_type": "markdown",
   "metadata": {},
   "source": [
    "## Problem 24. Substrings of size K with K distinct chars\n",
    "https://leetcode.com/discuss/interview-question/370112"
   ]
  },
  {
   "cell_type": "code",
   "execution_count": null,
   "metadata": {},
   "outputs": [],
   "source": [
    "'''\n",
    "Given a string s and an int k, return all unique substrings of s of size k with k distinct characters.\n",
    "\n",
    "Example 1:\n",
    "\n",
    "Input: s = \"abcabc\", k = 3\n",
    "Output: [\"abc\", \"bca\", \"cab\"]\n",
    "Example 2:\n",
    "\n",
    "Input: s = \"abacab\", k = 3\n",
    "Output: [\"bac\", \"cab\"]\n",
    "Example 3:\n",
    "\n",
    "Input: s = \"awaglknagawunagwkwagl\", k = 4\n",
    "Output: [\"wagl\", \"aglk\", \"glkn\", \"lkna\", \"knag\", \"gawu\", \"awun\", \"wuna\", \"unag\", \"nagw\", \"agwk\", \"kwag\"]\n",
    "Explanation: \n",
    "Substrings in order are: \"wagl\", \"aglk\", \"glkn\", \"lkna\", \"knag\", \"gawu\", \"awun\", \"wuna\", \"unag\", \"nagw\", \"agwk\", \"kwag\", \"wagl\" \n",
    "\"wagl\" is repeated twice, but is included in the output once.\n",
    "'''"
   ]
  },
  {
   "cell_type": "code",
   "execution_count": 495,
   "metadata": {},
   "outputs": [],
   "source": [
    "def substringk(s, k):\n",
    "    if not s or not k:\n",
    "        return []\n",
    "    res, dict = set([]), {}\n",
    "    left, right = 0, 0\n",
    "    while right < len(s):\n",
    "        if s[right] in dict and dict[s[right]] >= left:\n",
    "            left = dict[s[right]] + 1\n",
    "        dict[s[right]] = right\n",
    "        right += 1\n",
    "        if right - left == k:\n",
    "            res.add(s[left: right])\n",
    "            left += 1\n",
    "    return list(res)\n",
    "            \n"
   ]
  },
  {
   "cell_type": "code",
   "execution_count": 496,
   "metadata": {},
   "outputs": [
    {
     "name": "stdout",
     "output_type": "stream",
     "text": [
      "['cab', 'abc', 'bca']\n",
      "['cab', 'bac']\n",
      "['glkn', 'awun', 'gawu', 'wagl', 'wuna', 'kwag', 'nagw', 'lkna', 'aglk', 'agwk', 'knag', 'unag']\n"
     ]
    }
   ],
   "source": [
    "s = \"abcabc\"\n",
    "k = 3\n",
    "print(substringk(s, k))\n",
    "s = \"abacab\"\n",
    "k = 3\n",
    "print(substringk(s, k))\n",
    "s = \"awaglknagawunagwkwagl\"\n",
    "k = 4\n",
    "print(substringk(s, k))"
   ]
  },
  {
   "cell_type": "code",
   "execution_count": null,
   "metadata": {},
   "outputs": [],
   "source": []
  },
  {
   "cell_type": "markdown",
   "metadata": {},
   "source": [
    "## Problem 25: 819. Most Common Word\n",
    "https://leetcode.com/problems/most-common-word/"
   ]
  },
  {
   "cell_type": "code",
   "execution_count": 506,
   "metadata": {},
   "outputs": [],
   "source": [
    "def mostCommonWord(paragraph, banned):\n",
    "    banned = set(banned)\n",
    "    for c in \"!?',;.\":\n",
    "        paragraph = paragraph.replace(c,' ')\n",
    "    paragraph = paragraph.lower().split()\n",
    "    word_dict = collections.defaultdict(int)\n",
    "    for word in paragraph:\n",
    "        if word in banned:\n",
    "            continue\n",
    "        word_dict[word] += 1\n",
    "    ans = [word for word, freq in word_dict.items() if freq == max(word_dict.values())]\n",
    "    return ans[0]"
   ]
  },
  {
   "cell_type": "code",
   "execution_count": 507,
   "metadata": {},
   "outputs": [
    {
     "name": "stdout",
     "output_type": "stream",
     "text": [
      "ball\n",
      "b\n"
     ]
    }
   ],
   "source": [
    "paragraph = \"Bob hit a ball, the hit BALL flew far after it was hit.\"\n",
    "banned = [\"hit\"]\n",
    "print(mostCommonWord(paragraph, banned))\n",
    "paragraph = \"a, a, a, a, b,b,b,c, c\" \n",
    "banned = [\"a\"]\n",
    "print(mostCommonWord(paragraph, banned))"
   ]
  },
  {
   "cell_type": "code",
   "execution_count": null,
   "metadata": {},
   "outputs": [],
   "source": []
  },
  {
   "cell_type": "markdown",
   "metadata": {},
   "source": [
    "## Problem 26: 973. K Closest Points to Origin\n",
    "https://leetcode.com/problems/k-closest-points-to-origin/\n"
   ]
  },
  {
   "cell_type": "code",
   "execution_count": null,
   "metadata": {},
   "outputs": [],
   "source": [
    "'''\n",
    "We have a list of points on the plane.  Find the K closest points to the origin (0, 0).\n",
    "\n",
    "(Here, the distance between two points on a plane is the Euclidean distance.)\n",
    "\n",
    "You may return the answer in any order.  The answer is guaranteed to be unique (except for the order that it is in.)\n",
    "\n",
    "Example 1:\n",
    "\n",
    "Input: points = [[1,3],[-2,2]], K = 1\n",
    "Output: [[-2,2]]\n",
    "Explanation: \n",
    "The distance between (1, 3) and the origin is sqrt(10).\n",
    "The distance between (-2, 2) and the origin is sqrt(8).\n",
    "Since sqrt(8) < sqrt(10), (-2, 2) is closer to the origin.\n",
    "We only want the closest K = 1 points from the origin, so the answer is just [[-2,2]].\n",
    "Example 2:\n",
    "\n",
    "Input: points = [[3,3],[5,-1],[-2,4]], K = 2\n",
    "Output: [[3,3],[-2,4]]\n",
    "(The answer [[-2,4],[3,3]] would also be accepted.)\n",
    "'''"
   ]
  },
  {
   "cell_type": "code",
   "execution_count": null,
   "metadata": {},
   "outputs": [],
   "source": [
    "# pass min heap"
   ]
  },
  {
   "cell_type": "code",
   "execution_count": null,
   "metadata": {},
   "outputs": [],
   "source": []
  },
  {
   "cell_type": "markdown",
   "metadata": {},
   "source": [
    "## Problem 26. 22. Generate Parentheses\n",
    "https://leetcode.com/problems/generate-parentheses/"
   ]
  },
  {
   "cell_type": "code",
   "execution_count": null,
   "metadata": {},
   "outputs": [],
   "source": [
    "'''\n",
    "or example, given n = 3, a solution set is:\n",
    "\n",
    "[\n",
    "  \"((()))\",\n",
    "  \"(()())\",\n",
    "  \"(())()\",\n",
    "  \"()(())\",\n",
    "  \"()()()\"\n",
    "]\n",
    "'''"
   ]
  },
  {
   "cell_type": "code",
   "execution_count": null,
   "metadata": {},
   "outputs": [],
   "source": [
    "## 用left_num 和 right_num 维护 括号个数"
   ]
  },
  {
   "cell_type": "code",
   "execution_count": 508,
   "metadata": {},
   "outputs": [],
   "source": [
    "def generateParenthesis(n):\n",
    "    if n <= 0:\n",
    "        return []\n",
    "    res, path = [], ''\n",
    "    left_num, right_num = 0, 0\n",
    "    dfs(n, left_num, right_num, path, res)\n",
    "    return res\n",
    "\n",
    "def dfs(n, left_num, right_num, path, res):\n",
    "    # exit\n",
    "    if left_num == n and right_num == n:\n",
    "        res.append(''.join(path))\n",
    "        return\n",
    "    # case 1: left_num < n\n",
    "    if left_num < n:\n",
    "        path += '('\n",
    "        dfs(n, left_num+1, right_num, path, res)\n",
    "    # case 2: right_num < n and left_num > right_num\n",
    "    if right_num < n and right_num < left_num:\n",
    "        path += ')'\n",
    "        dfs(n, left_num, right_num+1, path, res)\n",
    "    \n",
    "    \n",
    "    "
   ]
  },
  {
   "cell_type": "code",
   "execution_count": 509,
   "metadata": {},
   "outputs": [
    {
     "name": "stdout",
     "output_type": "stream",
     "text": [
      "['((()))', '((()())', '((()()()', '(()(())', '(()(()()']\n"
     ]
    }
   ],
   "source": [
    "n = 3\n",
    "print(generateParenthesis(n))"
   ]
  },
  {
   "cell_type": "code",
   "execution_count": null,
   "metadata": {},
   "outputs": [],
   "source": []
  },
  {
   "cell_type": "markdown",
   "metadata": {},
   "source": [
    "## Problem 27:  Min Cost to Connect All Nodes\n",
    "https://leetcode.com/discuss/interview-question/356981"
   ]
  },
  {
   "cell_type": "code",
   "execution_count": null,
   "metadata": {},
   "outputs": [],
   "source": [
    "'''\n",
    "Given an undirected graph with n nodes labeled 1..n. Some of the nodes are already connected. \n",
    "The i-th edge connects nodes edges[i][0] and edges[i][1] together. \n",
    "Your task is to augment this set of edges with additional edges to connect all the nodes. \n",
    "Find the minimum cost to add new edges between the nodes such that all the nodes are accessible from each other.\n",
    "\n",
    "input:\n",
    "n: total # of nodes;\n",
    "edges: a list of integer pair representing the nodes already connected by an edge.\n",
    "newEdges, a list where each element is a triplet representing the pair of nodes between which an edge can be added and the cost of addition, respectively \n",
    "(e.g. [1, 2, 5] means to add an edge between node 1 and 2, the cost would be 5).\n",
    "\n",
    "Example 1:\n",
    "\n",
    "Input: n = 6, edges = [[1, 4], [4, 5], [2, 3]], newEdges = [[1, 2, 5], [1, 3, 10], [1, 6, 2], [5, 6, 5]]\n",
    "Output: 7\n",
    "Explanation:\n",
    "There are 3 connected components [1, 4, 5], [2, 3] and [6].\n",
    "We can connect these components into a single component \n",
    "by connecting node 1 to node 2 and node 1 to node 6 at a minimum cost of 5 + 2 = 7.\n",
    "'''"
   ]
  },
  {
   "cell_type": "code",
   "execution_count": null,
   "metadata": {},
   "outputs": [],
   "source": [
    "'''\n",
    "核心思路：\n",
    " Kruskal算法是基于贪心的思想得到的。\n",
    " (1). 首先我们把所有的边按照权值先从小到大排列;\n",
    " (2). 接着按照顺序选取每条边，如果这条边的两个端点不属于同一集合，那么就将它们合并，直到所有的点都属于同一个集合为止。\n",
    " (3). 至于怎么合并到一个集合，那么这里我们就可以用到一个工具——-union find\n",
    " \n",
    " step 1: connect given edges by union find\n",
    " step 2: sorted the new edges by their weight\n",
    " step 3: add the edge (别忘了connect this edge) with the minimum weight and this edge cannot generate cycle: i.e. find(v1) != find(v2) \n",
    " step 4: check two conditions: (a). the father of all vertex are the same; (2). the number of element in the set father == |V| (n)\n",
    "\n",
    "'''"
   ]
  },
  {
   "cell_type": "code",
   "execution_count": 552,
   "metadata": {},
   "outputs": [],
   "source": [
    "# 热心网友版本\n",
    "def compute_min_cost(n, edges, newEdges):\n",
    "    uf  = {}\n",
    "    # connect given edges\n",
    "    def find(edge):\n",
    "        uf.setdefault(edge, edge)\n",
    "        if uf[edge] != edge:\n",
    "            uf[edge] = find(uf[edge])\n",
    "        return uf[edge]\n",
    "    def union(e1, e2):\n",
    "        uf[find(e1)] = find(e2)\n",
    "        \n",
    "    for e1, e2 in edges:\n",
    "        if find(e1) != find(e2):\n",
    "            union(e1,e2)\n",
    "  \n",
    "    # add edges with the minimum weight\n",
    "    cost_res = 0\n",
    "    newEdges = sorted(newEdges, key=lambda x: x[2])\n",
    "    for c1, c2, cost in newEdges:\n",
    "        if find(c1) != find(c2):\n",
    "            union(c1, c2)\n",
    "            cost_res += cost\n",
    "    if len({find(x) for x in uf}) == 1 and len(uf) == n:\n",
    "        return cost_res\n",
    "    return -1\n",
    "    "
   ]
  },
  {
   "cell_type": "code",
   "execution_count": 553,
   "metadata": {},
   "outputs": [
    {
     "name": "stdout",
     "output_type": "stream",
     "text": [
      "7\n"
     ]
    }
   ],
   "source": [
    "n = 6\n",
    "edges = [[1, 4], [4, 5], [2, 3]]\n",
    "newEdges = [[1, 2, 5], [1, 3, 10], [1, 6, 2], [5, 6, 5]]\n",
    "print(compute_min_cost(n, edges, newEdges))"
   ]
  },
  {
   "cell_type": "code",
   "execution_count": 542,
   "metadata": {},
   "outputs": [],
   "source": [
    "# my version\n",
    "def compute_min_cost(n, edges, newEdges):\n",
    "    # step 1: 自己point to自己\n",
    "    father = {}\n",
    "    for i in range(1,n+1):\n",
    "        father[i] = i\n",
    "    def union(p1, p2):\n",
    "        f1 = find(p1)\n",
    "        f2 = find(p2)\n",
    "        if f1 != f2:\n",
    "            father[f1] = f2\n",
    "    def find(p):\n",
    "        path = []\n",
    "        while p != father[p]:\n",
    "            path.append(p)\n",
    "            p = father[p]\n",
    "        for ele in path:\n",
    "            father[ele] = p\n",
    "        return p\n",
    "    \n",
    "    \n",
    "    # 连接 given edges\n",
    "    for v1, v2 in edges:\n",
    "        if find(v1) != find(v2):\n",
    "            union(v1, v2)\n",
    "    cost_res = 0\n",
    "    newEdges = sorted(newEdges, key=lambda x: x[2])\n",
    "    for c1, c2, cost in newEdges:\n",
    "        if find(c1) != find(c2):\n",
    "            union(c1, c2)\n",
    "            cost_res += cost\n",
    "    if len({find(x) for x in father}) == 1 and len(father) == n:\n",
    "        return cost_res\n",
    "    return -1\n",
    "    "
   ]
  },
  {
   "cell_type": "code",
   "execution_count": null,
   "metadata": {},
   "outputs": [],
   "source": []
  },
  {
   "cell_type": "markdown",
   "metadata": {},
   "source": [
    "## Problem 28: Min Cost to Repair Edges\n",
    "https://leetcode.com/discuss/interview-question/357310"
   ]
  },
  {
   "cell_type": "code",
   "execution_count": null,
   "metadata": {},
   "outputs": [],
   "source": [
    "'''\n",
    "There's an undirected connected graph with n nodes labeled 1..n. But some of the edges has been broken disconnecting the graph. \n",
    "Find the minimum cost to repair the edges so that all the nodes are once again accessible from each other.\n",
    "\n",
    "Example 1:\n",
    "\n",
    "Input: n = 5, edges = [[1, 2], [2, 3], [3, 4], [4, 5], [1, 5]], edgesToRepair = [[1, 2, 12], [3, 4, 30], [1, 5, 8]]\n",
    "Output: 20\n",
    "Explanation:\n",
    "There are 3 connected components due to broken edges: [1], [2, 3] and [4, 5].\n",
    "We can connect these components into a single component by repearing the edges between nodes 1 and 2, and nodes 1 and 5 at a minimum cost 12 + 8 = 20.\n",
    "Example 2:\n",
    "\n",
    "Input: n = 6, edges = [[1, 2], [2, 3], [4, 5], [3, 5], [1, 6], [2, 4]], edgesToRepair = [[1, 6, 410], [2, 4, 800]]\n",
    "Output: 410\n",
    "Example 3:\n",
    "\n",
    "Input: n = 6, edges = [[1, 2], [2, 3], [4, 5], [5, 6], [1, 5], [2, 4], [3, 4]], edgesToRepair = [[1, 5, 110], [2, 4, 84], [3, 4, 79]]\n",
    "Output: 79\n",
    "'''"
   ]
  },
  {
   "cell_type": "code",
   "execution_count": null,
   "metadata": {},
   "outputs": [],
   "source": [
    "# Kruskal's alg\n",
    "# and treat unrepair edges weight 0 \n",
    "# 或者\n",
    "# using a set to store the edges that have been broken and using the same method as in last question!"
   ]
  },
  {
   "cell_type": "code",
   "execution_count": 570,
   "metadata": {},
   "outputs": [],
   "source": [
    "class Solution():\n",
    "    \n",
    "    def union(self, p1, p2):\n",
    "        f1 = self.find(p1)\n",
    "        f2 = self.find(p2)\n",
    "        if f1 != f2:\n",
    "            self.father[f1] = f2\n",
    "            \n",
    "    def find(self, p):\n",
    "        path = []\n",
    "        while p != self.father[p]:\n",
    "            path.append(p)\n",
    "            p = self.father[p]\n",
    "        for ele in path:\n",
    "            self.father[ele] = p\n",
    "        return p\n",
    "        \n",
    "    def minCostForRepair(self, n, edges, edgesToRepair):\n",
    "        self.father = {}\n",
    "        for i in range(1, n+1):\n",
    "            self.father[i] = i\n",
    "        repaired = set([])\n",
    "        for e1, e2, _ in edgesToRepair:\n",
    "            repaired.add((e1, e2))\n",
    "        # given initial connections\n",
    "        for c1, c2 in edges:\n",
    "            if (c1, c2) in repaired:\n",
    "                continue\n",
    "            if self.find(c1) != self.find(c2):\n",
    "                self.union(c1, c2)\n",
    "        # add the edge with the minimum weight\n",
    "        edgesToRepair = sorted(edgesToRepair, key=lambda x: x[2])\n",
    "        cost_res = 0\n",
    "        for v1, v2, cost in edgesToRepair:\n",
    "            if self.find(v1) != self.find(v2):\n",
    "                self.union(v1, v2)\n",
    "                cost_res += cost\n",
    "        \n",
    "        if len({self.find(x) for x in self.father}) == 1:\n",
    "            return cost_res\n",
    "        return -1\n",
    "            "
   ]
  },
  {
   "cell_type": "code",
   "execution_count": 571,
   "metadata": {},
   "outputs": [
    {
     "name": "stdout",
     "output_type": "stream",
     "text": [
      "20\n",
      "410\n",
      "79\n"
     ]
    }
   ],
   "source": [
    "s = Solution()\n",
    "n = 5\n",
    "edges = [[1, 2], [2, 3], [3, 4], [4, 5], [1, 5]]\n",
    "edgesToRepair = [[1, 2, 12], [3, 4, 30], [1, 5, 8]]\n",
    "print(s.minCostForRepair(n, edges, edgesToRepair))\n",
    "n = 6\n",
    "edges = [[1, 2], [2, 3], [4, 5], [3, 5], [1, 6], [2, 4]]\n",
    "edgesToRepair = [[1, 6, 410], [2, 4, 800]]\n",
    "print(s.minCostForRepair(n, edges, edgesToRepair))\n",
    "n = 6\n",
    "edges = [[1, 2], [2, 3], [4, 5], [5, 6], [1, 5], [2, 4], [3, 4]]\n",
    "edgesToRepair = [[1, 5, 110], [2, 4, 84], [3, 4, 79]]\n",
    "print(s.minCostForRepair(n, edges, edgesToRepair))"
   ]
  },
  {
   "cell_type": "code",
   "execution_count": null,
   "metadata": {},
   "outputs": [],
   "source": []
  },
  {
   "cell_type": "markdown",
   "metadata": {},
   "source": [
    "## Problem 29: 957. Prison Cells After N Days\n",
    "https://leetcode.com/problems/prison-cells-after-n-days/"
   ]
  },
  {
   "cell_type": "code",
   "execution_count": null,
   "metadata": {},
   "outputs": [],
   "source": [
    "'''\n",
    "关键：8个cells, 每个cell就两种possible states: 0/1 -> totally 2^8 = 256 states\n",
    "always falls into some cycle, 一旦进入到cycle一切就风轻云淡了\n",
    "因为可以借助历史的周期数据， 直接复制过来i.e.skip multiples of T\n",
    "40\n",
    "39\n",
    "38   cells[#38]\n",
    "37\n",
    ".\n",
    ".\n",
    "31\n",
    "30   cells[#30] == cells[#38] !!! 那#37 = #29 #36 = #28 ..... 周期是 T = 38 - 230 = 8, i.e 38->31 = 30->23 = 22->15 = 14->7 \n",
    "29\n",
    "\n",
    "'''"
   ]
  },
  {
   "cell_type": "code",
   "execution_count": 584,
   "metadata": {},
   "outputs": [],
   "source": [
    "def prisonAfterNDays(cells, N):\n",
    "    seen = {}\n",
    "    while N > 0:\n",
    "        c = tuple(cells)\n",
    "        if c in seen:\n",
    "            N = N % (seen[c] - N)\n",
    "        seen[c] = N\n",
    "        \n",
    "        if N >= 1:\n",
    "            N -= 1\n",
    "            cells = nextday(cells)\n",
    "    return cells\n",
    "\n",
    "def nextday(cells):\n",
    "    return [int( i >0 and i < 7 and cells[i-1] == cells[i+1]) for i in range(8)]\n",
    "        \n",
    "    "
   ]
  },
  {
   "cell_type": "code",
   "execution_count": 586,
   "metadata": {},
   "outputs": [
    {
     "name": "stdout",
     "output_type": "stream",
     "text": [
      "[0, 0, 1, 1, 0, 0, 0, 0]\n",
      "[0, 0, 1, 1, 1, 1, 1, 0]\n"
     ]
    }
   ],
   "source": [
    "cells = [0,1,0,1,1,0,0,1]\n",
    "N = 7\n",
    "print(prisonAfterNDays(cells, N))\n",
    "# [0,0,1,1,0,0,0,0]\n",
    "cells = [1,0,0,1,0,0,1,0]\n",
    "N = 1000000000\n",
    "print(prisonAfterNDays(cells, N))\n",
    "#[0,0,1,1,1,1,1,0]"
   ]
  },
  {
   "cell_type": "code",
   "execution_count": null,
   "metadata": {},
   "outputs": [],
   "source": []
  },
  {
   "cell_type": "markdown",
   "metadata": {},
   "source": [
    "## Problem 30. 763. Partition Labels\n",
    "https://leetcode.com/problems/partition-labels/"
   ]
  },
  {
   "cell_type": "code",
   "execution_count": null,
   "metadata": {},
   "outputs": [],
   "source": [
    "'''\n",
    "A string S of lowercase letters is given. \n",
    "We want to partition this string into as many parts as possible so that each letter appears in at most one part, \n",
    "and return a list of integers representing the size of these parts.\n",
    "Example 1:\n",
    "Input: S = \"ababcbacadefegdehijhklij\"\n",
    "Output: [9,7,8]\n",
    "Explanation:\n",
    "The partition is \"ababcbaca\", \"defegde\", \"hijhklij\".\n",
    "This is a partition so that each letter appears in at most one part.\n",
    "A partition like \"ababcbacadefegde\", \"hijhklij\" is incorrect, because it splits S into less parts.\n",
    "'''"
   ]
  },
  {
   "cell_type": "code",
   "execution_count": 577,
   "metadata": {},
   "outputs": [],
   "source": [
    "# [cur_left, cur_right] cur_right 更新目前扫过的character的rightmost position\n",
    "def partitionLabels(s):\n",
    "    if not s:\n",
    "        return []\n",
    "    res = []\n",
    "    hashmap = {}\n",
    "    for index, c in enumerate(s):\n",
    "        hashmap[c] = index\n",
    "    cur_left, cur_right = 0, 0\n",
    "    for index, c in enumerate(s):\n",
    "        cur_right = max(cur_right, hashmap[c])\n",
    "        if index == cur_right:\n",
    "            res.append(cur_right - cur_left + 1)\n",
    "            # cur_left 挥一挥衣袖，不带走一片云彩, 转瞬离开了已经结束的感情\n",
    "            cur_left = cur_right + 1\n",
    "    return res\n",
    "    "
   ]
  },
  {
   "cell_type": "code",
   "execution_count": 578,
   "metadata": {},
   "outputs": [
    {
     "name": "stdout",
     "output_type": "stream",
     "text": [
      "[9, 7, 8]\n"
     ]
    }
   ],
   "source": [
    "S = \"ababcbacadefegdehijhklij\"\n",
    "print(partitionLabels(S))"
   ]
  },
  {
   "cell_type": "code",
   "execution_count": null,
   "metadata": {},
   "outputs": [],
   "source": []
  },
  {
   "cell_type": "markdown",
   "metadata": {},
   "source": [
    "## Problem 31. Subtree with Maximum Average\n",
    "https://leetcode.com/discuss/interview-question/349617"
   ]
  },
  {
   "cell_type": "code",
   "execution_count": null,
   "metadata": {},
   "outputs": [],
   "source": [
    "## 留着"
   ]
  },
  {
   "cell_type": "code",
   "execution_count": null,
   "metadata": {},
   "outputs": [],
   "source": []
  },
  {
   "cell_type": "markdown",
   "metadata": {},
   "source": [
    "## Problem 32: 56. Merge Intervals\n",
    "https://leetcode.com/problems/merge-intervals/"
   ]
  },
  {
   "cell_type": "code",
   "execution_count": null,
   "metadata": {},
   "outputs": [],
   "source": [
    "'''\n",
    "Given a collection of intervals, merge all overlapping intervals.\n",
    "\n",
    "Example 1:\n",
    "\n",
    "Input: [[1,3],[2,6],[8,10],[15,18]]\n",
    "Output: [[1,6],[8,10],[15,18]]\n",
    "Explanation: Since intervals [1,3] and [2,6] overlaps, merge them into [1,6].\n",
    "Example 2:\n",
    "\n",
    "Input: [[1,4],[4,5]]\n",
    "Output: [[1,5]]\n",
    "Explanation: Intervals [1,4] and [4,5] are considered overlapping.\n",
    "'''"
   ]
  },
  {
   "cell_type": "code",
   "execution_count": 590,
   "metadata": {},
   "outputs": [],
   "source": [
    "def merge(intervals):\n",
    "    res = []\n",
    "    intervals = sorted(intervals, key=lambda x: (x[0], x[1]))\n",
    "    last_end = None\n",
    "    \n",
    "    for start, end in intervals:\n",
    "        # case 1: last_end is none or cur_start > last_end, directly add it and update last_end\n",
    "        if not last_end or start > last_end:\n",
    "            last_end = end\n",
    "            res.append([start, end])\n",
    "        # case 2: cur_start <= last_end\n",
    "        else:\n",
    "            last_end = max(last_end, end)\n",
    "            res.append([res.pop()[0], last_end])\n",
    "    return res\n",
    "            "
   ]
  },
  {
   "cell_type": "code",
   "execution_count": 591,
   "metadata": {},
   "outputs": [
    {
     "name": "stdout",
     "output_type": "stream",
     "text": [
      "[[1, 6], [8, 10], [15, 18]]\n",
      "[[1, 5]]\n"
     ]
    }
   ],
   "source": [
    "intervals = [[1,3],[2,6],[8,10],[15,18]]\n",
    "print(merge(intervals))\n",
    "intervals = [[1,4],[4,5]]\n",
    "print(merge(intervals))"
   ]
  },
  {
   "cell_type": "code",
   "execution_count": null,
   "metadata": {},
   "outputs": [],
   "source": []
  },
  {
   "cell_type": "markdown",
   "metadata": {},
   "source": [
    "## Problem 33. Point of Lattice\n",
    "https://leetcode.com/discuss/interview-question/396418/"
   ]
  },
  {
   "cell_type": "code",
   "execution_count": null,
   "metadata": {},
   "outputs": [],
   "source": []
  },
  {
   "cell_type": "markdown",
   "metadata": {},
   "source": [
    "## Problem 34. Load Balancer\n",
    "https://leetcode.com/discuss/interview-question/506287/"
   ]
  },
  {
   "cell_type": "code",
   "execution_count": null,
   "metadata": {},
   "outputs": [],
   "source": [
    "'''\n",
    "This can be solved using two pointers:\n",
    "\n",
    "left_index initially points to the second value from the left.\n",
    "right_index initially points to the second value from the right.\n",
    "The values at those indexes will be dropped.\n",
    "We need to keep track of the following sums:\n",
    "\n",
    "total_sum is the total sum of all values in the input.\n",
    "left_sum is the sum of all values with an index < left_index.\n",
    "right_sum is the sum of all values with an index > right_index.\n",
    "drop_sum is the sum of the values at left_index and right_index.\n",
    "mid_sum is obtained by subtracting left_sum, right_sum and drop_sum from the total_sum.\n",
    "Balancing is possible if left_sum == mid_sum == right_sum.\n",
    "At every step we move the left_index to the right if the left_sum is smaller or equal to the right_sum.\n",
    "Otherwise we move the right_index to the left.\n",
    "\n",
    "Time complexity: O(n)\n",
    "Space complexity: O(1)\n",
    "'''"
   ]
  },
  {
   "cell_type": "code",
   "execution_count": 73,
   "metadata": {},
   "outputs": [],
   "source": [
    "def balancing_possible(nums):\n",
    "    if len(nums) < 8:\n",
    "        return False\n",
    "        \n",
    "    total_sum = sum(nums)\n",
    "    left_index, right_index = 1, len(nums) - 2\n",
    "    left_sum, right_sum = nums[0], nums[-1]\n",
    "    \n",
    "    while left_index < right_index:\n",
    "        drop_sum = nums[left_index] + nums[right_index]\n",
    "        mid_sum = total_sum - drop_sum - left_sum - right_sum\n",
    "        \n",
    "        if mid_sum < left_sum or mid_sum < right_sum:\n",
    "            return False\n",
    "        if left_sum == mid_sum == right_sum:\n",
    "            return True\n",
    "        \n",
    "        if left_sum <= right_sum:\n",
    "            left_sum += nums[left_index]\n",
    "            left_index += 1\n",
    "        else:\n",
    "            right_sum += nums[right_index]\n",
    "            right_index -= 1\n",
    "    \n",
    "    return False\n",
    "    "
   ]
  },
  {
   "cell_type": "code",
   "execution_count": 72,
   "metadata": {},
   "outputs": [
    {
     "name": "stdout",
     "output_type": "stream",
     "text": [
      "True\n",
      "False\n",
      "True\n"
     ]
    }
   ],
   "source": [
    "A = [1, 3, 4, 2, 2, 2, 1, 1, 2] # True\n",
    "print(balancing_possible(A))\n",
    "A = [1, 1, 1, 1, 1, 1]\n",
    "print(balancing_possible(A)) # False\n",
    "A = [1, 1, 1, 1, 1]\n",
    "print(balancing_possible(A)) # True"
   ]
  },
  {
   "cell_type": "code",
   "execution_count": null,
   "metadata": {},
   "outputs": [],
   "source": []
  },
  {
   "cell_type": "markdown",
   "metadata": {},
   "source": [
    "## Problem 35:  Nth GP\n",
    "https://leetcode.com/discuss/interview-question/432213/"
   ]
  },
  {
   "cell_type": "code",
   "execution_count": null,
   "metadata": {},
   "outputs": [],
   "source": [
    "'''\n",
    "Given 2nd and 3rd term of a Geometric Progression find the nth term of it and round it off upto 3 decimal places.\n",
    "\n",
    "求几何级数的 就是 a*pow(r,n-1)\n",
    "'''"
   ]
  },
  {
   "cell_type": "code",
   "execution_count": null,
   "metadata": {},
   "outputs": [],
   "source": []
  },
  {
   "cell_type": "markdown",
   "metadata": {},
   "source": [
    "## Problem 36. 1155. Number of Dice Rolls With Target Sum\n",
    "https://leetcode.com/problems/number-of-dice-rolls-with-target-sum/"
   ]
  },
  {
   "cell_type": "code",
   "execution_count": 596,
   "metadata": {},
   "outputs": [],
   "source": [
    "def numRollsToTarget(d, f, target):\n",
    "    # dp[i][j]的定义： 当target=j时，i个dice有几种可能使得表面加和为 j\n",
    "    dp = [[0 for _ in range(target + 1) ] for _ in range(d + 1)]\n",
    "    # 用0个dice能得到表面加和为0\n",
    "    dp[0][0] = 1 \n",
    "    \n",
    "    for i in range(1, d+1):\n",
    "        for j in range(1, target+1):\n",
    "            # 遍历 1,2,..,min(j,f) \n",
    "            #  1 2 3 4 5 6 7 8\n",
    "            #        x\n",
    "            #  x 需要知道前面(i-1) 1,2,3,4的情况\n",
    "            for k in range(1, min(j, f)+1):\n",
    "                dp[i][j] += dp[i-1][j-k]\n",
    "    return dp[d][target] % (10**9 + 7)\n",
    "    "
   ]
  },
  {
   "cell_type": "code",
   "execution_count": 597,
   "metadata": {},
   "outputs": [
    {
     "name": "stdout",
     "output_type": "stream",
     "text": [
      "6\n"
     ]
    }
   ],
   "source": [
    "d = 2\n",
    "f = 6\n",
    "target = 7\n",
    "print( numRollsToTarget(d, f, target))\n"
   ]
  },
  {
   "cell_type": "markdown",
   "metadata": {},
   "source": [
    "## Problem 37:  Longest string without 3 consecutive characters\n",
    "https://leetcode.com/discuss/interview-question/330356"
   ]
  },
  {
   "cell_type": "code",
   "execution_count": null,
   "metadata": {},
   "outputs": [],
   "source": [
    "'''\n",
    "Given A, B, C, find any string of maximum length that can be created such that no 3 consecutive characters are same.\n",
    "There can be at max A 'a', B 'b' and C 'c'.\n",
    "Example 1:\n",
    "\n",
    "Input: A = 1, B = 1, C = 6\n",
    "Output: \"ccbccacc\"\n",
    "Example 2:\n",
    "\n",
    "Input: A = 1, B = 2, C = 3\n",
    "Output: \"acbcbc\"\n",
    "'''"
   ]
  },
  {
   "cell_type": "code",
   "execution_count": null,
   "metadata": {},
   "outputs": [],
   "source": [
    "# 原则1：剩下最多的先安排 贪心\n",
    "# make the character with the largest number remaining a priority -> priority queue -> min heap to maintain the remaining element with freq\n",
    "# 原则2：见缝插针！多的字符可以安排在等候区(VIP), 这个char之前连续两轮出现，消耗太大，先休息！！！\n",
    "# 可以存进 vipChar, vipFreq, 等到新的ele来了以后再把 char放回到 heap中\n",
    "\n",
    "# temporary holding max element when having 3 duplicates"
   ]
  },
  {
   "cell_type": "code",
   "execution_count": 86,
   "metadata": {},
   "outputs": [],
   "source": [
    "def ls2(A, B, C):\n",
    "    heap = []\n",
    "    res = \"\"\n",
    "    comb = [['a', A], ['b', B], ['c', C]]\n",
    "    for char, freq in comb:\n",
    "        heapq.heappush(heap, (-freq, char))\n",
    "    # waiting space (VIP): using preChar to store the char and freq that cannot be put back into the heap now\n",
    "    vipChar, vipFreq = None, 0\n",
    "    while heap:\n",
    "        neg_freq, char = heapq.heappop(heap)\n",
    "        # case 1:之前有进入vip的char， 现在把你召唤回来了\n",
    "        if vipChar:\n",
    "            heapq.hepapush(heap, (preFreq, preChar))\n",
    "            # reset vip\n",
    "            vipChar, vipFreq = None, 0\n",
    "        # case 2: res 最后两个字母都是char，那么这个char就不能再加啦！，否则GG\n",
    "        if res[-2:] == char * 2:\n",
    "            vipChar, vipFreq = char, neg_freq\n",
    "        elif neg_freq < 0:\n",
    "            res += char\n",
    "            if neg_freq != -1:\n",
    "                neg_freq += 1 # 相当于减少这个char的个数\n",
    "                heapq.heappush(heap, (neg_freq, char))\n",
    "    return res\n",
    "            \n",
    "            \n",
    "            "
   ]
  },
  {
   "cell_type": "code",
   "execution_count": 89,
   "metadata": {},
   "outputs": [
    {
     "name": "stdout",
     "output_type": "stream",
     "text": [
      "ccaccbcc\n",
      "cbcabc\n",
      "ccbcc\n"
     ]
    }
   ],
   "source": [
    "A, B, C = 1, 1, 6\n",
    "print(ls3(A, B, C))\n",
    "A, B, C = 1, 2, 3\n",
    "print(ls3(A, B, C))\n",
    "A, B, C = 0, 1, 100\n",
    "print(ls3(A, B, C))"
   ]
  },
  {
   "cell_type": "code",
   "execution_count": null,
   "metadata": {},
   "outputs": [],
   "source": []
  },
  {
   "cell_type": "code",
   "execution_count": null,
   "metadata": {},
   "outputs": [],
   "source": []
  },
  {
   "cell_type": "markdown",
   "metadata": {},
   "source": [
    "## Problem 38:  Longest string made up of only vowels\n",
    "https://leetcode.com/discuss/interview-question/233724"
   ]
  },
  {
   "cell_type": "code",
   "execution_count": null,
   "metadata": {},
   "outputs": [],
   "source": [
    "'''\n",
    "You are given with a string . \n",
    "Your task is to remove atmost two substrings of any length from the given string \n",
    "such that the remaining string contains vowels('a','e','i','o','u') only. \n",
    "Your aim is the maximise the length of the remaining string. \n",
    "Output the length of remaining string after removal of atmost two substrings.\n",
    "NOTE: The answer may be 0, i.e. removing the entire string.\n",
    "\n",
    "Sample Input\n",
    "earthproblem\n",
    "letsgosomewhere\n",
    "Sample Output\n",
    "3\n",
    "2\n",
    "\n",
    "'''"
   ]
  },
  {
   "cell_type": "code",
   "execution_count": null,
   "metadata": {},
   "outputs": [],
   "source": [
    "'''\n",
    "Just compute length of each vowel substring.\n",
    "If the first letter is not vowel, prepend an \"empty vowel substring\" on left\n",
    "If the last letter is not vowel, append an \"empty vowel substring\" on right\n",
    "Then you can cut two substrings in the middle and the answer should be \"left + right + max of middle'''\n",
    "    "
   ]
  },
  {
   "cell_type": "code",
   "execution_count": 91,
   "metadata": {},
   "outputs": [],
   "source": [
    "def longestVowelsOnlySubstring(S):\n",
    "    temp, aux, vowels = 0, [], set('aeiou')\n",
    "    # Count the length of each vowel substring\n",
    "    # the 'z' is added to make sure that the temp is added to the aux array. \n",
    "    # If the string ends with a vowel, then it will not run the elif and will not append the last temp.\n",
    "    for c in S + 'z':\n",
    "        if c in vowels:\n",
    "            temp += 1\n",
    "        elif temp:\n",
    "            aux.append(temp)\n",
    "            temp = 0\n",
    "    # If the first letter is not vowel, you must cut the head\n",
    "    if S[0] not in vowels: aux = [0] + aux\n",
    "    # If the last letter is not vowel, you must cut the tail\n",
    "    if S[-1] not in vowels: aux += [0]\n",
    "    # Max length = max head + max tail + max middle\n",
    "    return aux[0] + aux[-1] + max(aux[1:-1]) if len(aux) >= 3 else sum(aux)"
   ]
  },
  {
   "cell_type": "code",
   "execution_count": null,
   "metadata": {},
   "outputs": [],
   "source": [
    "'''\n",
    "One solution could be to convert this to a vector of integers \n",
    "representing the number of consecutive vowels in islands between consonants. \n",
    "Also, in case there are consonants on the two ends(first and last alphabet), \n",
    "add a 0 at the begining/end accordingly 0 to this list.\n",
    "\n",
    "for earthproblem we get l = [2,1,1,0]\n",
    "for letsgosomewhere we get l =[0,1,1,1,1,1,1]\n",
    "\n",
    "There are only a few cases left now:\n",
    "\n",
    "for size 1 and 2 just give back the sum of the list\n",
    "otherwise, use an island along with the leftmost and rightmost island (remove everything in between)\n",
    "So we just need to iterate on the list from 1 to s-2 (if size is s and indexes are 0..s-1) and find the maximum value of l[0] + l[i] + l[s-1]\n",
    "'''"
   ]
  },
  {
   "cell_type": "code",
   "execution_count": 94,
   "metadata": {},
   "outputs": [],
   "source": [
    "def createIsland(s):\n",
    "    island = []\n",
    "    v = [\"a\",\"e\",\"i\",\"o\",\"u\"]\n",
    "    if s[0] not in v:\n",
    "        island.append(0)\n",
    "    i = 0\n",
    "    while i < len(s):\n",
    "        tmp = 0\n",
    "        while i<len(s) and s[i] in v:\n",
    "            tmp+=1\n",
    "            i+=1\n",
    "        if tmp != 0:\n",
    "            island.append(tmp)\n",
    "            tmp = 0\n",
    "        i+=1\n",
    "    if s[-1] not in v:\n",
    "        island.append(0)\n",
    "    return island\n",
    "\n",
    "def longestVowelsOnlySubstring(s):\n",
    "    island = createIsland(s)\n",
    "    mid = 0\n",
    "    for i in range(1,len(island)-1):\n",
    "        if island[i] > mid:\n",
    "            mid = island[i]\n",
    "    return island[0]+mid+island[-1]"
   ]
  },
  {
   "cell_type": "code",
   "execution_count": 95,
   "metadata": {},
   "outputs": [
    {
     "name": "stdout",
     "output_type": "stream",
     "text": [
      "3\n",
      "2\n",
      "2\n"
     ]
    }
   ],
   "source": [
    "S = \"earthproblem\"\n",
    "print(longestVowelsOnlySubstring(S))\n",
    "S = \"letsgosomewhere\"\n",
    "print(longestVowelsOnlySubstring(S))\n",
    "S = \"baannaabddab\"\n",
    "print(longestVowelsOnlySubstring(S))"
   ]
  }
 ],
 "metadata": {
  "kernelspec": {
   "display_name": "Python 3",
   "language": "python",
   "name": "python3"
  },
  "language_info": {
   "codemirror_mode": {
    "name": "ipython",
    "version": 3
   },
   "file_extension": ".py",
   "mimetype": "text/x-python",
   "name": "python",
   "nbconvert_exporter": "python",
   "pygments_lexer": "ipython3",
   "version": "3.6.5"
  }
 },
 "nbformat": 4,
 "nbformat_minor": 2
}
